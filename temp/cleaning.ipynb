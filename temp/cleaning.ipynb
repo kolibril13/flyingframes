{
 "cells": [
  {
   "cell_type": "code",
   "execution_count": 1,
   "id": "34aa00fb",
   "metadata": {},
   "outputs": [
    {
     "name": "stdout",
     "output_type": "stream",
     "text": [
      "Cleaning /Users/jan-hendrik/projects/flyingframes/docs/source/carnot.ipynb complete\n",
      "Cleaning /Users/jan-hendrik/projects/flyingframes/docs/source/ch1.ipynb complete\n",
      "Cleaning /Users/jan-hendrik/projects/flyingframes/docs/source/ch3.ipynb complete\n",
      "Cleaning /Users/jan-hendrik/projects/flyingframes/docs/source/ch4.ipynb complete\n",
      "Cleaning /Users/jan-hendrik/projects/flyingframes/docs/source/ch5.ipynb complete\n",
      "Cleaning /Users/jan-hendrik/projects/flyingframes/docs/source/ch6.ipynb complete\n",
      "Cleaning /Users/jan-hendrik/projects/flyingframes/docs/source/ch7removed.ipynb complete\n",
      "Cleaning /Users/jan-hendrik/projects/flyingframes/docs/source/ch8.ipynb complete\n",
      "Cleaning /Users/jan-hendrik/projects/flyingframes/docs/source/chX_TOSORT.ipynb complete\n",
      "Cleaning /Users/jan-hendrik/projects/flyingframes/docs/source/changelog.ipynb complete\n",
      "Cleaning /Users/jan-hendrik/projects/flyingframes/docs/source/cheatsheet.ipynb complete\n"
     ]
    }
   ],
   "source": [
    "from pathlib import Path\n",
    "import os\n",
    "suffix = \".ipynb\"\n",
    "input_path= Path.cwd()\n",
    "file_paths= [subp for subp in input_path.glob('*') if  suffix == subp.suffix]\n",
    "if len(file_paths) == 0:\n",
    "        raise ValueError(\"No notebooks in folder\")\n",
    "file_paths.sort()\n",
    "#print(file_paths)\n",
    "for file_p in file_paths:\n",
    "    filepath = str(file_p)\n",
    "    if not \"cleaning\" in filepath:\n",
    "      #  command = f\"ffmpeg -i {input} -vframes 1 {output}.png\"\n",
    "        command= f\"jupyter nbconvert --clear-output --inplace {filepath}\"\n",
    "        os.system(command)\n",
    "        print(f\"Cleaning {filepath} complete\")"
   ]
  },
  {
   "cell_type": "code",
   "execution_count": 2,
   "id": "c75fe9a6-f73e-4b85-9e83-b9cbe60e4065",
   "metadata": {},
   "outputs": [
    {
     "name": "stdout",
     "output_type": "stream",
     "text": [
      "On branch main\n",
      "Your branch is up to date with 'origin/main'.\n",
      "\n",
      "Changes not staged for commit:\n",
      "  (use \"git add <file>...\" to update what will be committed)\n",
      "  (use \"git restore <file>...\" to discard changes in working directory)\n",
      "\t\u001b[31mmodified:   ch1.ipynb\u001b[m\n",
      "\t\u001b[31mmodified:   ch3.ipynb\u001b[m\n",
      "\t\u001b[31mmodified:   ch4.ipynb\u001b[m\n",
      "\t\u001b[31mmodified:   ch5.ipynb\u001b[m\n",
      "\t\u001b[31mmodified:   ch6.ipynb\u001b[m\n",
      "\t\u001b[31mmodified:   ch7.ipynb\u001b[m\n",
      "\t\u001b[31mmodified:   changelog.ipynb\u001b[m\n",
      "\n",
      "no changes added to commit (use \"git add\" and/or \"git commit -a\")\n"
     ]
    }
   ],
   "source": [
    "!git status"
   ]
  },
  {
   "cell_type": "code",
   "execution_count": 3,
   "id": "ca7fa260-8f3b-49da-835b-a50f412399b8",
   "metadata": {},
   "outputs": [
    {
     "data": {
      "text/plain": [
       "9"
      ]
     },
     "execution_count": 3,
     "metadata": {},
     "output_type": "execute_result"
    }
   ],
   "source": [
    "a=3\n",
    "3*a"
   ]
  },
  {
   "cell_type": "code",
   "execution_count": 2,
   "id": "7b68f19a-02cb-47ab-99a2-472c22a996d1",
   "metadata": {},
   "outputs": [],
   "source": [
    "!git add ch1.ipynb"
   ]
  },
  {
   "cell_type": "code",
   "execution_count": 2,
   "id": "b90b4555-f685-4626-b78c-b9be27577bd1",
   "metadata": {},
   "outputs": [
    {
     "name": "stdout",
     "output_type": "stream",
     "text": [
      "On branch main\n",
      "Your branch is up to date with 'origin/main'.\n",
      "\n",
      "Changes not staged for commit:\n",
      "  (use \"git add <file>...\" to update what will be committed)\n",
      "  (use \"git restore <file>...\" to discard changes in working directory)\n",
      "\t\u001b[31mmodified:   ch4.ipynb\u001b[m\n",
      "\t\u001b[31mmodified:   cleaning.ipynb\u001b[m\n",
      "\n",
      "Untracked files:\n",
      "  (use \"git add <file>...\" to include in what will be committed)\n",
      "\t\u001b[31m../../.idea/\u001b[m\n",
      "\t\u001b[31m../../.vscode/\u001b[m\n",
      "\t\u001b[31m../.DS_Store\u001b[m\n",
      "\n",
      "no changes added to commit (use \"git add\" and/or \"git commit -a\")\n"
     ]
    }
   ],
   "source": [
    "!git status"
   ]
  },
  {
   "cell_type": "code",
   "execution_count": 5,
   "id": "57c27728-492e-4729-a2ce-696cff7ebedc",
   "metadata": {},
   "outputs": [
    {
     "name": "stdout",
     "output_type": "stream",
     "text": [
      "[main 1a1c1ab] update chapter 1\n",
      " 1 file changed, 2 insertions(+), 2 deletions(-)\n"
     ]
    }
   ],
   "source": [
    "!git commit -m 'update chapter 1'"
   ]
  },
  {
   "cell_type": "code",
   "execution_count": 7,
   "id": "51e47501-b002-4001-94ac-d68edbe00a17",
   "metadata": {},
   "outputs": [
    {
     "name": "stdout",
     "output_type": "stream",
     "text": [
      "Enumerating objects: 9, done.\n",
      "Counting objects: 100% (9/9), done.\n",
      "Delta compression using up to 8 threads\n",
      "Compressing objects: 100% (5/5), done.\n",
      "Writing objects: 100% (5/5), 425 bytes | 425.00 KiB/s, done.\n",
      "Total 5 (delta 4), reused 0 (delta 0), pack-reused 0\n",
      "remote: Resolving deltas: 100% (4/4), completed with 4 local objects.\u001b[K\n",
      "To https://github.com/kolibril13/flyingframes.git\n",
      "   ae9de32..1a1c1ab  main -> main\n"
     ]
    }
   ],
   "source": [
    "!git push"
   ]
  },
  {
   "cell_type": "code",
   "execution_count": null,
   "id": "a3a1d3b8-bd8f-4842-a3b1-b0b8e7f00c78",
   "metadata": {},
   "outputs": [],
   "source": []
  }
 ],
 "metadata": {
  "kernelspec": {
   "display_name": "Python 3",
   "language": "python",
   "name": "python3"
  },
  "language_info": {
   "codemirror_mode": {
    "name": "ipython",
    "version": 3
   },
   "file_extension": ".py",
   "mimetype": "text/x-python",
   "name": "python",
   "nbconvert_exporter": "python",
   "pygments_lexer": "ipython3",
   "version": "3.9.5"
  }
 },
 "nbformat": 4,
 "nbformat_minor": 5
}
