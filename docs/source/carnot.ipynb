{
 "cells": [
  {
   "cell_type": "markdown",
   "id": "46f5d457-1798-45ec-8962-d9bf1503508f",
   "metadata": {},
   "source": [
    "# Tutorial in Scene Building\n",
    "\n",
    "In this tutorial, we will build the following animation from scretch:\n"
   ]
  },
  {
   "cell_type": "code",
   "execution_count": null,
   "id": "cc7a28fb-8e63-4da5-8427-18996a6d1fbb",
   "metadata": {},
   "outputs": [],
   "source": [
    "from IPython.display import YouTubeVideo\n",
    "YouTubeVideo('_8RkZaiXP0E', width=700)"
   ]
  },
  {
   "cell_type": "markdown",
   "id": "1e3d6260-4f9b-42fa-b9ca-d61e84325e02",
   "metadata": {},
   "source": [
    "How to approach this complex construct?  \n",
    "First, I do research on the topic, and look up the formulas that I need. For the carnot process, these are the needed formulas.\n",
    "I don't want to expain the details here. This tutorial should show you how to build manim scenes, not teach you how the carnot cycle works.\n",
    "The only think we need to know is that the carnotcycle obies these formula:\n"
   ]
  },
  {
   "cell_type": "markdown",
   "id": "527742c9-d415-40bc-bbed-1d14bc0e2f5d",
   "metadata": {},
   "source": [
    "* $pV = const $ upper and lower curve (also called \"isotherm\")\n",
    "* $pV^\\kappa = const $ with $ \\kappa=5/3$ for the left and right curve (also called \"adiabatic\")"
   ]
  },
  {
   "cell_type": "markdown",
   "id": "df7f91a9-e832-4eda-ad67-6bd7c5d6229f",
   "metadata": {},
   "source": [
    "This is all the information we need, to build the scene.\n",
    "As we need reference points in the diagram, we first define some volumes, that "
   ]
  },
  {
   "cell_type": "code",
   "execution_count": null,
   "id": "d8f3480d-0a8e-420e-9c9c-a399158b8038",
   "metadata": {},
   "outputs": [],
   "source": [
    "import numpy as np\n",
    "import matplotlib.pyplot as plt\n",
    "from scipy.constants import zero_Celsius\n",
    "plt.rcParams['figure.dpi'] = 150  \n",
    "\n",
    "Tmax = zero_Celsius +300\n",
    "Tmin = zero_Celsius +20\n",
    "R = 8.314\n",
    "kappa = 5/3\n",
    "V1= 1\n",
    "V2= 2\n",
    "\n",
    "p1 = R*Tmax/V1\n",
    "p2 = p1*V1/V2\n",
    "\n",
    "V3 = (Tmax/Tmin * V2**(kappa-1))**(1/(kappa-1))\n",
    "p3 = p2* V2**kappa / V3**kappa\n",
    "\n",
    "V4 = (Tmax/Tmin * V1**(kappa-1))**(1/(kappa-1))\n",
    "p4 = p3*V3/V4\n",
    "\n",
    "V12 = np.linspace(V1,V2,100)\n",
    "V23 = np.linspace(V2,V3,100)\n",
    "V34 = np.linspace(V3,V4,100)\n",
    "V41 = np.linspace(V4,V1,100)\n",
    "\n",
    "def p_isotherm(V,T):\n",
    "    return (R*T)/V\n",
    "\n",
    "def p_adiabatisch(V,p_start,v_start):\n",
    "    return (p_start*v_start**kappa)/V**kappa\n",
    "\n",
    "\n",
    "\n",
    "plt.plot(V12, p_isotherm(V12,Tmax),label = \"T$_{max}$\" +f\"= {Tmax-zero_Celsius:.0f}°C\")\n",
    "plt.plot(V23, p_adiabatisch(V23, p2,V2),label = f\"adiabatic expansion\")\n",
    "plt.plot(V34, p_isotherm(V34,Tmin),label = \"T$_{min}$\" +f\"= {Tmin-zero_Celsius:.0f}°C\")\n",
    "plt.plot(V41, p_adiabatisch(V41, p4,V4),label = f\"adiabatic contraction\")\n",
    "\n",
    "\n",
    "plt.legend()\n",
    "plt.scatter(V1,p1)\n",
    "plt.scatter(V2,p2)\n",
    "plt.scatter(V3,p3)\n",
    "plt.scatter(V4,p4)\n",
    "\n",
    "plt.ylabel(\"Druck [Pa]\")\n",
    "plt.xlabel(\"Volumen [m$^3$]\")\n",
    "plt.ticklabel_format(axis=\"x\", style=\"sci\", scilimits=(0,5))"
   ]
  },
  {
   "cell_type": "code",
   "execution_count": null,
   "id": "87983f86-4b11-4b12-9221-9aaa181da4a0",
   "metadata": {},
   "outputs": [],
   "source": []
  }
 ],
 "metadata": {
  "kernelspec": {
   "display_name": "Python 3",
   "language": "python",
   "name": "python3"
  },
  "language_info": {
   "codemirror_mode": {
    "name": "ipython",
    "version": 3
   },
   "file_extension": ".py",
   "mimetype": "text/x-python",
   "name": "python",
   "nbconvert_exporter": "python",
   "pygments_lexer": "ipython3",
   "version": "3.9.5"
  }
 },
 "nbformat": 4,
 "nbformat_minor": 5
}
