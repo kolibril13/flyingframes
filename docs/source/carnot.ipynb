{
 "cells": [
  {
   "cell_type": "markdown",
   "id": "46f5d457-1798-45ec-8962-d9bf1503508f",
   "metadata": {},
   "source": [
    "# Tutorial in Scene Building\n",
    "\n",
    "In this tutorial, we will build the following animation from scretch:\n"
   ]
  },
  {
   "cell_type": "code",
   "execution_count": null,
   "id": "cc7a28fb-8e63-4da5-8427-18996a6d1fbb",
   "metadata": {},
   "outputs": [],
   "source": [
    "from IPython.display import YouTubeVideo\n",
    "YouTubeVideo('_8RkZaiXP0E', width=700)"
   ]
  },
  {
   "cell_type": "markdown",
   "id": "1e3d6260-4f9b-42fa-b9ca-d61e84325e02",
   "metadata": {},
   "source": [
    "How to approach this complex construct?  \n",
    "First, I do research on the topic, and look up the formulas that I need. \n",
    "I chose the carnotprocess, where I want to see how the **temperature T**  , the **pressure p**  and the **volume V**  are chaging.\n",
    "For the carnot process, these are the needed formulas.\n",
    "I don't want to expain the details here. This tutorial should show you how to build manim scenes, not teach you how the carnot cycle works.\n",
    "The only think we need to know is that the carnotcycle obies these formula.\n"
   ]
  },
  {
   "cell_type": "markdown",
   "id": "527742c9-d415-40bc-bbed-1d14bc0e2f5d",
   "metadata": {},
   "source": [
    "* $pV = RT $ ideal gas equation\n",
    "* $pV = const $ upper and lower curve (also called \"isotherm\")\n",
    "* $pV^k = const $ with $ k = 5/3$ for the left and right curve (also called \"adiabatic\")"
   ]
  },
  {
   "cell_type": "markdown",
   "id": "df7f91a9-e832-4eda-ad67-6bd7c5d6229f",
   "metadata": {},
   "source": [
    "This is all the information we need, to build the scene.\n",
    "We need reference points in the diagram, we first define some default values.  \n",
    "As temperatures, we choose $ 20 °\\, \\text{C} $ and $300°\\, \\text{C} $   \n",
    "As volume 1 we choose 1 liter, and volume 2 we choose 2 liter."
   ]
  },
  {
   "cell_type": "code",
   "execution_count": null,
   "id": "d8f3480d-0a8e-420e-9c9c-a399158b8038",
   "metadata": {},
   "outputs": [],
   "source": [
    "import numpy as np\n",
    "import matplotlib.pyplot as plt\n",
    "from scipy.constants import zero_Celsius\n",
    "plt.rcParams['figure.dpi'] = 150  \n",
    "\n",
    "Tmax = zero_Celsius +300\n",
    "Tmin = zero_Celsius +20\n",
    "R = 8.314\n",
    "kappa = 5/3\n",
    "V1= 1\n",
    "V2= 2"
   ]
  },
  {
   "cell_type": "markdown",
   "id": "e2009b89-068a-42af-90ed-5bbc0c4be37b",
   "metadata": {},
   "source": [
    "Now, it is good to first have a look on the plot via matplotlib, as for now the refining is important, and design is not yet important."
   ]
  },
  {
   "cell_type": "code",
   "execution_count": null,
   "id": "87983f86-4b11-4b12-9221-9aaa181da4a0",
   "metadata": {},
   "outputs": [],
   "source": [
    "p1 = R*Tmax/V1 # ideal gas equation\n",
    "p2 = p1*V1/V2\n",
    "\n",
    "V3 = (Tmax/Tmin * V2**(kappa-1))**(1/(kappa-1))\n",
    "p3 = p2* V2**kappa / V3**kappa\n",
    "\n",
    "V4 = (Tmax/Tmin * V1**(kappa-1))**(1/(kappa-1))\n",
    "p4 = p3*V3/V4\n",
    "\n",
    "V12 = np.linspace(V1,V2,100)\n",
    "V23 = np.linspace(V2,V3,100)\n",
    "V34 = np.linspace(V3,V4,100)\n",
    "V41 = np.linspace(V4,V1,100)\n",
    "\n",
    "def p_isotherm(V,T):\n",
    "    return (R*T)/V\n",
    "\n",
    "def p_adiabatisch(V,p_start,v_start):\n",
    "    return (p_start*v_start**kappa)/V**kappa\n",
    "\n",
    "plt.plot(V12, p_isotherm(V12,Tmax),label = \"T$_{max}$\" +f\"= {Tmax-zero_Celsius:.0f}°C\")\n",
    "plt.plot(V23, p_adiabatisch(V23, p2,V2),label = f\"adiabatic expansion\")\n",
    "plt.plot(V34, p_isotherm(V34,Tmin),label = \"T$_{min}$\" +f\"= {Tmin-zero_Celsius:.0f}°C\")\n",
    "plt.plot(V41, p_adiabatisch(V41, p4,V4),label = f\"adiabatic contraction\")\n",
    "\n",
    "plt.legend()\n",
    "plt.scatter(V1,p1)\n",
    "plt.scatter(V2,p2)\n",
    "plt.scatter(V3,p3)\n",
    "plt.scatter(V4,p4)\n",
    "\n",
    "plt.ylabel(\"Pressure [Pa]\")\n",
    "plt.xlabel(\"Volume [m$^3$]\")\n",
    "plt.ticklabel_format(axis=\"x\", style=\"sci\", scilimits=(0,5))"
   ]
  },
  {
   "cell_type": "markdown",
   "id": "3f9fef08-be5a-4d8c-ab32-1a488cde770d",
   "metadata": {},
   "source": [
    "Now we are good to go to start drating the mainm animation!"
   ]
  },
  {
   "cell_type": "code",
   "execution_count": null,
   "id": "8f56eff0-68cb-4c89-8a8f-f85d45247774",
   "metadata": {},
   "outputs": [],
   "source": [
    "from manim import *\n",
    "param   = \"-v WARNING -s -ql --disable_caching --progress_bar None Example\"\n",
    "paramH  = \"-v WARNING -s -qh --disable_caching --progress_bar None Example\"\n",
    "paramp  = \"-v WARNING    -ql --disable_caching --progress_bar None Example\"\n",
    "parampH = \"-v WARNING    -qh --disable_caching --progress_bar None Example\""
   ]
  },
  {
   "cell_type": "code",
   "execution_count": null,
   "id": "9b2d1cc6-ad5d-47af-8199-6d2e020ccc36",
   "metadata": {},
   "outputs": [],
   "source": [
    "%%manim $param\n",
    "class Example(Scene):\n",
    "    def construct(self):\n",
    "        ax = Axes(x_range=[0, 10, 2])\n",
    "        self.add(ax)"
   ]
  },
  {
   "cell_type": "code",
   "execution_count": null,
   "id": "377b73f2-5f04-4d2f-9632-46d46794c561",
   "metadata": {},
   "outputs": [],
   "source": [
    "Axes.set_default(color=GREY, tips= False)\n",
    "config.background_color=WHITE"
   ]
  },
  {
   "cell_type": "code",
   "execution_count": null,
   "id": "144e8019-b3df-418e-bdca-bfe3739b52a2",
   "metadata": {},
   "outputs": [],
   "source": [
    "ax = Axes(x_range=[0.9, 5.8, 4.9], y_range=[0, 5000, 5000],x_length=8, y_length=5) #x_length=8, y_length=6)\n",
    "isotherm12_graph = ax.get_graph(\n",
    "    lambda x: p_isotherm(x, Tmax), x_range=[V1, V2,0.01], color=BLACK\n",
    ")\n",
    "adiabatisch23_graph = ax.get_graph(\n",
    "    lambda x: p_adiabatisch(x, p2, V2) , x_range=[V2, V3,0.01], color=BLACK\n",
    ")\n",
    "isotherm34_graph = ax.get_graph(\n",
    "    lambda x: p_isotherm(x, Tmin), x_range=[V3, V4,0.01], color=BLACK\n",
    ")\n",
    "adiabatisch41_graph = ax.get_graph(\n",
    "    lambda x: p_adiabatisch(x, p4, V4), x_range=[V4, V1,0.01], color=BLACK\n",
    ")\n",
    "lines = VGroup(\n",
    "    isotherm12_graph, adiabatisch23_graph, isotherm34_graph, adiabatisch41_graph\n",
    ")"
   ]
  },
  {
   "cell_type": "code",
   "execution_count": null,
   "id": "7bd2bf21-87b3-450e-bd21-2246d85e60c0",
   "metadata": {},
   "outputs": [],
   "source": [
    "%%manim $param\n",
    "class Example(Scene):\n",
    "    def construct(self):\n",
    "        self.add(ax,lines)"
   ]
  },
  {
   "cell_type": "code",
   "execution_count": null,
   "id": "0368af51-2649-4952-bbc7-7578bc82d7a8",
   "metadata": {},
   "outputs": [],
   "source": [
    "Dot.set_default(color=BLACK)\n",
    "dots = VGroup()\n",
    "dots += Dot().move_to(isotherm12_graph.get_start())\n",
    "dots += Dot().move_to(isotherm12_graph.get_end())\n",
    "dots += Dot().move_to(isotherm34_graph.get_end())\n",
    "dots += Dot().move_to(isotherm34_graph.get_start())"
   ]
  },
  {
   "cell_type": "code",
   "execution_count": null,
   "id": "e0231d62-578c-4423-8cb6-a3c67e4e82e7",
   "metadata": {},
   "outputs": [],
   "source": [
    "%%manim $param\n",
    "class Example(Scene):\n",
    "    def construct(self):\n",
    "        self.add(ax,lines,dots)"
   ]
  },
  {
   "cell_type": "code",
   "execution_count": null,
   "id": "4b62e762-07a3-4599-b012-f4686a97c7af",
   "metadata": {},
   "outputs": [],
   "source": [
    "MathTex.set_default(color=BLACK)\n",
    "nums= VGroup()\n",
    "nums+= MathTex(r\"{\\large \\textcircled{\\small 1}} \").scale(0.7).next_to(dots[0],RIGHT,buff=0.4*SMALL_BUFF)\n",
    "nums+= MathTex(r\"{\\large \\textcircled{\\small 2}} \").scale(0.7).next_to(dots[1],UP, buff=0.4 * SMALL_BUFF)\n",
    "nums+= MathTex(r\"{\\large \\textcircled{\\small 3}} \").scale(0.7).next_to(dots[2],UP,buff=0.4*SMALL_BUFF)\n",
    "nums+= MathTex(r\"{\\large \\textcircled{\\small 4}} \").scale(0.7).next_to(dots[3],DL ,buff=0.4*SMALL_BUFF)"
   ]
  },
  {
   "cell_type": "code",
   "execution_count": null,
   "id": "ba3dbf8b-2a43-4da6-97cd-48a9f6501ce8",
   "metadata": {},
   "outputs": [],
   "source": [
    "%%manim $param\n",
    "class Example(Scene):\n",
    "    def construct(self):\n",
    "        self.add(ax,lines, dots,nums)"
   ]
  },
  {
   "cell_type": "code",
   "execution_count": null,
   "id": "ce18ce93-dbcf-4399-8538-2ab40fb2f4b6",
   "metadata": {},
   "outputs": [],
   "source": [
    "# background_strokes\n",
    "background_strokes = VGroup()\n",
    "background_strokes += ax.get_graph(lambda x: p_isotherm(x, Tmax),x_range=[V1 - 0.1, V2 + 0.5, 0.01], color=RED, stroke_opacity=0.5)\n",
    "background_strokes += ax.get_graph(lambda x: p_isotherm(x, Tmin), x_range=[V3 + 0.3,V4 - 0.5,0.01], color=BLUE, stroke_opacity=0.5)\n",
    "background_strokes.set_z_index(-1);\n",
    "label = VGroup()\n",
    "label += MathTex(r\"\\text{T}_{\\text{min}}\").scale(0.7).next_to(background_strokes[1],RIGHT,aligned_edge=DOWN, buff=0)\n",
    "label += MathTex(r\"\\text{T}_{\\text{max}}\").scale(0.7).next_to(background_strokes[0],RIGHT,aligned_edge=DOWN, buff=0)\n",
    "background_strokes += label"
   ]
  },
  {
   "cell_type": "code",
   "execution_count": null,
   "id": "c247cb11-7729-4019-a2c4-aa523cfca8c3",
   "metadata": {},
   "outputs": [],
   "source": [
    "%%manim $param\n",
    "class Example(Scene):\n",
    "    def construct(self):\n",
    "        self.add(ax,lines, dots,nums,background_strokes)"
   ]
  },
  {
   "cell_type": "code",
   "execution_count": null,
   "id": "489d44f3-8c5d-4429-9ea3-102b71cc8e43",
   "metadata": {},
   "outputs": [],
   "source": [
    "# downstrokes+labels\n",
    "downstrokes = VGroup()\n",
    "downstrokes += ax.get_vertical_line(ax.i2gp(V1, isotherm12_graph), color=BLACK).set_z_index(-2)\n",
    "downstrokes += ax.get_vertical_line(ax.i2gp(V2, isotherm12_graph), color=BLACK).set_z_index(-2)\n",
    "downstrokes += ax.get_vertical_line(ax.i2gp(V3, isotherm34_graph), color=BLACK).set_z_index(-2)\n",
    "downstrokes += ax.get_vertical_line(ax.i2gp(V4, isotherm34_graph), color=BLACK).set_z_index(-2)\n",
    "down_labels= VGroup()\n",
    "down_labels += MathTex(\"{ V }_{ 1 }\").next_to(downstrokes[0], DOWN)\n",
    "down_labels += MathTex(\"{ V }_{ 2 }\").next_to(downstrokes[1], DOWN)\n",
    "down_labels += MathTex(\"{ V }_{ 3 }\").next_to(downstrokes[2], DOWN)\n",
    "down_labels += MathTex(\"{ V }_{ 4 }\").next_to(downstrokes[3], DOWN)"
   ]
  },
  {
   "cell_type": "code",
   "execution_count": null,
   "id": "d3098ea0-8ef1-401a-8557-f0c377ea6e1f",
   "metadata": {},
   "outputs": [],
   "source": [
    "%%manim $param\n",
    "class Example(Scene):\n",
    "    def construct(self):\n",
    "        self.add(ax,lines, dots,nums,background_strokes, downstrokes,down_labels)"
   ]
  },
  {
   "cell_type": "code",
   "execution_count": null,
   "id": "ab34b6e3-124c-4478-a1bf-a6cbf0e62350",
   "metadata": {},
   "outputs": [],
   "source": [
    "%%manim $param\n",
    "heat_annotation = VGroup()\n",
    "deltaW = MathTex(r\"\\Delta W\").next_to(dots[3], UL).scale(0.65).shift(0.15 * UP)\n",
    "bg = deltaW.add_background_rectangle(color=WHITE)\n",
    "heat_annotation += deltaW\n",
    "\n",
    "point = isotherm12_graph.point_from_proportion(0.5)\n",
    "arrow = Arrow(point + UR * 0.5, point, buff=0).set_color(BLACK)\n",
    "deltaQa = MathTex(r\"\\Delta Q_a\").scale(0.7).next_to(arrow, UR, buff=0)\n",
    "heat_annotation += arrow\n",
    "heat_annotation += deltaQa\n",
    "\n",
    "point = isotherm34_graph.point_from_proportion(0.4)\n",
    "arrow = Arrow(point, point + DL * 0.5, buff=0).set_color(BLACK)\n",
    "deltaQb = MathTex(r\"\\Delta Q_b\").scale(0.7).next_to(arrow, LEFT, buff=0.1).shift(0.2 * DOWN)\n",
    "heat_annotation += arrow\n",
    "heat_annotation += deltaQb\n",
    "\n",
    "class Example(Scene):\n",
    "    def construct(self):\n",
    "        self.add(ax,lines, dots,nums,background_strokes, downstrokes,down_labels,heat_annotation)"
   ]
  }
 ],
 "metadata": {
  "kernelspec": {
   "display_name": "Python 3",
   "language": "python",
   "name": "python3"
  },
  "language_info": {
   "codemirror_mode": {
    "name": "ipython",
    "version": 3
   },
   "file_extension": ".py",
   "mimetype": "text/x-python",
   "name": "python",
   "nbconvert_exporter": "python",
   "pygments_lexer": "ipython3",
   "version": "3.9.5"
  }
 },
 "nbformat": 4,
 "nbformat_minor": 5
}
