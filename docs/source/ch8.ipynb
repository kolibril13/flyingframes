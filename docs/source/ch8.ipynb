{
 "cells": [
  {
   "attachments": {},
   "cell_type": "markdown",
   "metadata": {},
   "source": [
    "# Advanced \n",
    "\n",
    "## Matplotlib an manim combined \n",
    "\n",
    "EDIT: This section was moved to https://manimplotlib.readthedocs.io/"
   ]
  },
  {
   "cell_type": "code",
   "execution_count": null,
   "metadata": {},
   "outputs": [],
   "source": [
    "from manim import *\n",
    "config.media_embed = True"
   ]
  },
  {
   "cell_type": "markdown",
   "metadata": {},
   "source": [
    "## Animations with OpenGL\n",
    "\n",
    "Just add the `--renderer=opengl` flag, and animations will render with the OpenGL backend, which is still under development.\n",
    "Here are two examples: one for rendering a video (needs additional the `--write_to_movie` flag) and one for a static 3D scene (including it)"
   ]
  },
  {
   "cell_type": "code",
   "execution_count": null,
   "metadata": {},
   "outputs": [],
   "source": [
    "paramGL   = \"-v WARNING -s -ql --renderer=opengl --disable_caching --progress_bar None Example\"\n",
    "paramHGL  = \"-v WARNING -s -qh --renderer=opengl --disable_caching --progress_bar None Example\"\n",
    "parampGL  = \"-v WARNING    -ql --renderer=opengl --write_to_movie --disable_caching --progress_bar None Example\"\n",
    "parampHGL = \"-v WARNING    -qh --renderer=opengl --write_to_movie --disable_caching --progress_bar None Example\""
   ]
  },
  {
   "cell_type": "code",
   "execution_count": null,
   "metadata": {},
   "outputs": [],
   "source": [
    "%%time\n",
    "%%manim $parampHGL\n",
    "class Example(Scene):\n",
    "    def construct(self):\n",
    "        dot= Dot(color= YELLOW, radius=0.5)\n",
    "        self.play(dot.animate.shift(2*RIGHT).scale(2).set_color(BLUE))\n",
    "        self.wait()"
   ]
  },
  {
   "cell_type": "code",
   "execution_count": null,
   "metadata": {},
   "outputs": [],
   "source": [
    "%%time\n",
    "%%manim $parampGL\n",
    "class Example(ThreeDScene):\n",
    "    def construct(self):\n",
    "        resolution_fa = 42\n",
    "        self.set_camera_orientation(phi=75 * DEGREES, theta=-30 * DEGREES)\n",
    "\n",
    "        def param_gauss(u, v):\n",
    "            x = u\n",
    "            y = v\n",
    "            sigma, mu = 0.4, [0.0, 0.0]\n",
    "            d = np.linalg.norm(np.array([x - mu[0], y - mu[1]]))\n",
    "            z = np.exp(-(d ** 2 / (2.0 * sigma ** 2)))\n",
    "            return np.array([x, y, z])\n",
    "\n",
    "        gauss_plane = Surface(\n",
    "            param_gauss,\n",
    "            resolution=(resolution_fa, resolution_fa),\n",
    "            v_range=[-2, +2],\n",
    "            u_range=[-2, +2]\n",
    "        )\n",
    "\n",
    "        gauss_plane.scale(2, about_point=ORIGIN)\n",
    "        gauss_plane.set_style(fill_opacity=1,stroke_color=GREEN)\n",
    "        gauss_plane.set_fill_by_checkerboard(ORANGE, BLUE, opacity=0.5)\n",
    "        axes = ThreeDAxes()\n",
    "        self.add(axes,gauss_plane)"
   ]
  },
  {
   "cell_type": "code",
   "execution_count": null,
   "metadata": {},
   "outputs": [],
   "source": [
    "%%time \n",
    "%%manim $param\n",
    "## comparison of the same example to cairo:\n",
    "class Example(ThreeDScene):\n",
    "    def construct(self):\n",
    "        resolution_fa = 42\n",
    "        self.set_camera_orientation(phi=75 * DEGREES, theta=-30 * DEGREES)\n",
    "\n",
    "        def param_gauss(u, v):\n",
    "            x = u\n",
    "            y = v\n",
    "            sigma, mu = 0.4, [0.0, 0.0]\n",
    "            d = np.linalg.norm(np.array([x - mu[0], y - mu[1]]))\n",
    "            z = np.exp(-(d ** 2 / (2.0 * sigma ** 2)))\n",
    "            return np.array([x, y, z])\n",
    "\n",
    "        gauss_plane = Surface(\n",
    "            param_gauss,\n",
    "            resolution=(resolution_fa, resolution_fa),\n",
    "            v_range=[-2, +2],\n",
    "            u_range=[-2, +2]\n",
    "        )\n",
    "\n",
    "        gauss_plane.scale(2, about_point=ORIGIN)\n",
    "        gauss_plane.set_style(fill_opacity=1,stroke_color=GREEN)\n",
    "        gauss_plane.set_fill_by_checkerboard(ORANGE, BLUE, opacity=0.5)\n",
    "        axes = ThreeDAxes()\n",
    "        self.add(axes,gauss_plane)"
   ]
  },
  {
   "cell_type": "code",
   "execution_count": null,
   "metadata": {},
   "outputs": [],
   "source": []
  }
 ],
 "metadata": {
  "kernelspec": {
   "display_name": ".venv",
   "language": "python",
   "name": "python3"
  },
  "language_info": {
   "codemirror_mode": {
    "name": "ipython",
    "version": 3
   },
   "file_extension": ".py",
   "mimetype": "text/x-python",
   "name": "python",
   "nbconvert_exporter": "python",
   "pygments_lexer": "ipython3",
   "version": "3.11.0 (main, Oct 26 2022, 19:06:18) [Clang 14.0.0 (clang-1400.0.29.202)]"
  },
  "vscode": {
   "interpreter": {
    "hash": "f787d74a9e12ab3ccb05df1312db2c2bd8bbc22ecc9f12926934e36d8bbe1578"
   }
  }
 },
 "nbformat": 4,
 "nbformat_minor": 4
}
