{
 "cells": [
  {
   "cell_type": "markdown",
   "id": "5e27e3ac-7a72-471d-b8cd-4aec72ad3c63",
   "metadata": {},
   "source": [
    "# Mobject Basics - Make!"
   ]
  },
  {
   "cell_type": "code",
   "execution_count": null,
   "id": "3da19f86-1382-45f2-aed5-00ec954d9c38",
   "metadata": {},
   "outputs": [],
   "source": [
    "pip install ipylab"
   ]
  },
  {
   "cell_type": "code",
   "execution_count": null,
   "id": "e623e632-e0a2-4d1a-b7f0-a1b2d6240719",
   "metadata": {},
   "outputs": [],
   "source": [
    "pip install nbconvert"
   ]
  },
  {
   "cell_type": "code",
   "execution_count": null,
   "id": "e4ba2c91-b12e-4d60-98e6-7e51046d5745",
   "metadata": {},
   "outputs": [],
   "source": [
    "from manim import *\n",
    "from pathlib import Path\n",
    "import shutil\n",
    "import time\n",
    "import json\n",
    "import os \n",
    "params = \" -v WARNING -r 80,40 -s  --disable_caching Example\"\n",
    "    \n",
    "name_snippet_pairs = {}"
   ]
  },
  {
   "cell_type": "code",
   "execution_count": null,
   "id": "3d228c15",
   "metadata": {},
   "outputs": [],
   "source": [
    "%%manim $params\n",
    "class Example(ZoomedScene):\n",
    "    def construct(self):\n",
    "        d = Dot(color = YELLOW)\n",
    "        self.add(d)\n",
    "        self.camera.frame.scale(1/20)\n",
    "###******        \n",
    "image_full_name = \"Dot.png\"\n",
    "snippet = \"d = Dot(color = YELLOW)\"\n",
    "name_snippet_pairs[image_full_name] = snippet"
   ]
  },
  {
   "cell_type": "code",
   "execution_count": null,
   "id": "ad594e35",
   "metadata": {},
   "outputs": [],
   "source": [
    "%%manim $params\n",
    "class Example(ZoomedScene):\n",
    "    def construct(self):\n",
    "        mob = Circle(fill_opacity=1, fill_color= ORANGE, stroke_color=YELLOW)\n",
    "        self.add(mob)\n",
    "        mob.scale(0.1)\n",
    "        self.camera.frame.scale(1/25)\n",
    "###******        \n",
    "image_full_name = \"Circle.png\"\n",
    "snippet = \"mob = Circle(fill_opacity=1, fill_color= ORANGE, stroke_color=YELLOW)\"\n",
    "name_snippet_pairs[image_full_name] = snippet"
   ]
  },
  {
   "cell_type": "code",
   "execution_count": null,
   "id": "018cfefa-c0ba-4888-81f1-664cc46117dd",
   "metadata": {},
   "outputs": [],
   "source": [
    "%%manim $params\n",
    "class Example(ZoomedScene):\n",
    "    def construct(self):\n",
    "        mob = Annulus(inner_radius=0.5, outer_radius=1.2,fill_color= DARK_BLUE, stroke_color=YELLOW, stroke_width=2)\n",
    "        self.add(mob)\n",
    "        mob.scale(0.1)\n",
    "        self.camera.frame.scale(1/25)\n",
    "\n",
    "###******        \n",
    "image_full_name = \"Annulus.png\"\n",
    "snippet = \"mob = Annulus(inner_radius=0.5, outer_radius=1.2,fill_color= DARK_BLUE, stroke_color=YELLOW, stroke_width=2)\"\n",
    "name_snippet_pairs[image_full_name] = snippet"
   ]
  },
  {
   "cell_type": "code",
   "execution_count": null,
   "id": "4e833fa8-c565-451e-8642-5a91fbf678bb",
   "metadata": {},
   "outputs": [],
   "source": [
    "%%manim $params\n",
    "class Example(ZoomedScene):\n",
    "    def construct(self):\n",
    "        mob = Sector(inner_radius=0.5, outer_radius=1.2,fill_color= DARK_BLUE, stroke_color=YELLOW, stroke_width=2)\n",
    "        self.add(mob)\n",
    "        mob.move_to(ORIGIN+UR*0.05)\n",
    "        mob.scale(0.1)\n",
    "        self.camera.frame.scale(1/25)\n",
    "\n",
    "###******        \n",
    "image_full_name = \"Sector.png\"\n",
    "snippet = \"mob = Sector(inner_radius=0.5, outer_radius=1.2,fill_color= DARK_BLUE, stroke_color=YELLOW, stroke_width=2)\"\n",
    "name_snippet_pairs[image_full_name] = snippet"
   ]
  },
  {
   "cell_type": "code",
   "execution_count": null,
   "id": "ce890072-a608-4654-941b-198b4dd37280",
   "metadata": {},
   "outputs": [],
   "source": [
    "%%manim $params\n",
    "class Example(ZoomedScene):\n",
    "    def construct(self):\n",
    "        mob= Arc(radius=1.3, start_angle=-PI/8, angle=PI,color= YELLOW)\n",
    "        mob.move_to(ORIGIN)\n",
    "        self.add(mob)\n",
    "        mob.scale(0.1)\n",
    "        self.camera.frame.scale(1/25)\n",
    "###******        \n",
    "image_full_name = \"Arc.png\"\n",
    "snippet = \"mob= Arc(radius=1.3, start_angle=-PI/16, angle=PI,color= YELLOW)\"\n",
    "name_snippet_pairs[image_full_name] = snippet"
   ]
  },
  {
   "cell_type": "code",
   "execution_count": null,
   "id": "a2419fa8-c61a-4ced-b0ad-ef4f36871c36",
   "metadata": {},
   "outputs": [],
   "source": [
    "%%manim $params\n",
    "class Example(ZoomedScene):\n",
    "    def construct(self):\n",
    "        mob = ArcBetweenPoints(start=2 * RIGHT, end=2*LEFT, stroke_color=YELLOW)\n",
    "        mob = VGroup(mob, Dot(2 * RIGHT, radius=0.4), Dot(2*LEFT,radius=0.4) )\n",
    "        mob.move_to(ORIGIN)\n",
    "        self.add(mob)\n",
    "        mob.scale(0.1)\n",
    "        self.camera.frame.scale(1/25)\n",
    "###******    \n",
    "image_full_name = \"ArcBetweenPoints.png\"\n",
    "snippet = \"mob= ArcBetweenPoints(start=2 * RIGHT, end=2*LEFT, stroke_color=YELLOW)\"\n",
    "name_snippet_pairs[image_full_name] = snippet"
   ]
  },
  {
   "cell_type": "code",
   "execution_count": null,
   "id": "cd2434de-f766-4d7d-9aee-af607580a62b",
   "metadata": {},
   "outputs": [],
   "source": [
    "%%manim $params\n",
    "class Example(ZoomedScene):\n",
    "    def construct(self):\n",
    "        mob= Ellipse(color= YELLOW)\n",
    "        mob.move_to(ORIGIN)\n",
    "        self.add(mob)\n",
    "        mob.scale(0.1)\n",
    "        self.camera.frame.scale(1/25)\n",
    "###******        \n",
    "image_full_name = \"Ellipse.png\"\n",
    "snippet = \"mob = Ellipse(color = YELLOW)\"\n",
    "name_snippet_pairs[image_full_name] = snippet"
   ]
  },
  {
   "cell_type": "code",
   "execution_count": null,
   "id": "78d4b603",
   "metadata": {},
   "outputs": [],
   "source": [
    "%%manim $params\n",
    "class Example(ZoomedScene):\n",
    "    def construct(self):\n",
    "        mob= Square(color= YELLOW)\n",
    "        self.add(mob)\n",
    "        mob.scale(0.1)\n",
    "        self.camera.frame.scale(1/25)\n",
    "###******        \n",
    "image_full_name = \"Square.png\"\n",
    "snippet = \"square = Square(color= YELLOW)\"\n",
    "name_snippet_pairs[image_full_name] = snippet"
   ]
  },
  {
   "cell_type": "code",
   "execution_count": null,
   "id": "afaeb917-27c3-4e57-b14b-70cc492c341c",
   "metadata": {},
   "outputs": [],
   "source": [
    "%%manim $params\n",
    "class Example(ZoomedScene):\n",
    "    def construct(self):\n",
    "        mob= RoundedRectangle(corner_radius=0.5, color= YELLOW)\n",
    "        self.add(mob)\n",
    "        mob.scale(0.1)\n",
    "        self.camera.frame.scale(1/25)\n",
    "###******        \n",
    "image_full_name = \"RoundedRectangle1.png\"\n",
    "snippet = \"mob= RoundedRectangle(corner_radius=0.5, color= YELLOW)\"\n",
    "name_snippet_pairs[image_full_name] = snippet"
   ]
  },
  {
   "cell_type": "code",
   "execution_count": null,
   "id": "21d7e7b2-6029-47ac-8fbe-fcddc37bbcab",
   "metadata": {},
   "outputs": [],
   "source": [
    "%%manim $params\n",
    "class Example(ZoomedScene):\n",
    "    def construct(self):\n",
    "        mob= RoundedRectangle(corner_radius=0.8, height=2.2, width=2.2,color= YELLOW)\n",
    "        self.add(mob)\n",
    "        mob.scale(0.1)\n",
    "        self.camera.frame.scale(1/25)\n",
    "###******        \n",
    "image_full_name = \"RoundedRectangle2.png\"\n",
    "snippet = \"mob = RoundedRectangle(corner_radius=0.8, height=2.2, width=2.2,color= YELLOW)\"\n",
    "name_snippet_pairs[image_full_name] = snippet"
   ]
  },
  {
   "cell_type": "code",
   "execution_count": null,
   "id": "5a41408c-75be-4254-9633-9e35d30d6610",
   "metadata": {},
   "outputs": [],
   "source": [
    "%%manim $params\n",
    "class Example(ZoomedScene):\n",
    "    def construct(self):\n",
    "        mob = Elbow(width=0.5, angle=0*DEGREES,color= YELLOW)\n",
    "        self.add(mob)\n",
    "        mob.move_to(ORIGIN)\n",
    "        self.camera.frame.scale(1/10)\n",
    "###******        \n",
    "image_full_name = \"Elbow.png\"\n",
    "snippet = \"Elbow(width=0.5, angle=0*DEGREES,color= YELLOW)\"\n",
    "name_snippet_pairs[image_full_name] = snippet"
   ]
  },
  {
   "cell_type": "code",
   "execution_count": null,
   "id": "0f321ac7-0d7e-4eb3-8fb6-011011db1df2",
   "metadata": {},
   "outputs": [],
   "source": [
    "\n",
    "%%manim $params\n",
    "class Example(ZoomedScene):\n",
    "    def construct(self):\n",
    "        line1 = Line( ORIGIN, RIGHT )\n",
    "        line2 = Line( ORIGIN, UP )\n",
    "        mob = RightAngle(line1, line2, color=YELLOW, stroke_width=7)\n",
    "        self.add(VGroup(mob,line1, line2).shift(DL*0.3))\n",
    "        self.camera.frame.scale(1/6)\n",
    "###******        \n",
    "image_full_name = \"RightAngle.png\"\n",
    "snippet = \"line1 = Line( ORIGIN, RIGHT )\\nline2 = Line( ORIGIN, UP )\\nmob = RightAngle(line1, line2, color=YELLOW, stroke_width=7)\"\n",
    "name_snippet_pairs[image_full_name] = snippet"
   ]
  },
  {
   "cell_type": "code",
   "execution_count": null,
   "id": "9075a9c7-0eff-4eea-8ce7-dc533bc54120",
   "metadata": {},
   "outputs": [],
   "source": [
    "%%manim $params\n",
    "class Example(ZoomedScene):\n",
    "    def construct(self):\n",
    "        mob= Triangle(color= YELLOW)\n",
    "        mob.move_to(ORIGIN)\n",
    "        self.add(mob)\n",
    "        mob.scale(0.1)\n",
    "        self.camera.frame.scale(1/25)\n",
    "###******        \n",
    "image_full_name = \"Triangle.png\"\n",
    "snippet = \"mob = Triangle(color = YELLOW)\"\n",
    "name_snippet_pairs[image_full_name] = snippet"
   ]
  },
  {
   "cell_type": "code",
   "execution_count": null,
   "id": "63dba20a-2cb2-42e6-b18c-21153203cf7e",
   "metadata": {},
   "outputs": [],
   "source": [
    "%%manim $params\n",
    "class Example(ZoomedScene):\n",
    "    def construct(self):\n",
    "        mob= Cross(stroke_color = YELLOW)\n",
    "        mob.move_to(ORIGIN)\n",
    "        self.add(mob)\n",
    "        mob.scale(0.1)\n",
    "        self.camera.frame.scale(1/25)\n",
    "###******        \n",
    "image_full_name = \"Cross.png\"\n",
    "snippet = \"Cross(stroke_color = YELLOW)\"\n",
    "name_snippet_pairs[image_full_name] = snippet"
   ]
  },
  {
   "cell_type": "code",
   "execution_count": null,
   "id": "ca89b62d",
   "metadata": {},
   "outputs": [],
   "source": [
    "%%manim $params\n",
    "class Example(ZoomedScene):\n",
    "    def construct(self):\n",
    "        mob= Star(color= YELLOW)\n",
    "        mob.move_to(ORIGIN)\n",
    "        self.add(mob)\n",
    "        mob.scale(0.2)\n",
    "        self.camera.frame.scale(1/14)\n",
    "###******        \n",
    "image_full_name = \"Star.png\"\n",
    "snippet = \"star = Star(color = YELLOW)\"\n",
    "name_snippet_pairs[image_full_name] = snippet"
   ]
  },
  {
   "cell_type": "code",
   "execution_count": null,
   "id": "c9fea1a6-65bd-4f44-b219-7e6cd095654f",
   "metadata": {},
   "outputs": [],
   "source": [
    "%%manim $params\n",
    "class Example(ZoomedScene):\n",
    "    def construct(self):\n",
    "        mob= RegularPolygram(5,color= YELLOW)\n",
    "        mob.move_to(ORIGIN)\n",
    "        self.add(mob)\n",
    "        mob.scale(0.2)\n",
    "        self.camera.frame.scale(1/15)\n",
    "###******        \n",
    "image_full_name = \"RegularPolygram5.png\"\n",
    "snippet = \"mob= RegularPolygram(5,color= YELLOW)\"\n",
    "name_snippet_pairs[image_full_name] = snippet\n"
   ]
  },
  {
   "cell_type": "code",
   "execution_count": null,
   "id": "2173c493-be26-4511-80df-0967d2e5baf1",
   "metadata": {},
   "outputs": [],
   "source": [
    "%%manim $params\n",
    "class Example(ZoomedScene):\n",
    "    def construct(self):\n",
    "        mob= RegularPolygram(6,color= YELLOW)\n",
    "        mob.move_to(ORIGIN)\n",
    "        self.add(mob)\n",
    "        mob.scale(0.2)\n",
    "        self.camera.frame.scale(1/15)\n",
    "###******        \n",
    "image_full_name = \"RegularPolygram6.png\"\n",
    "snippet = \"mob= RegularPolygram(6,color= YELLOW)\"\n",
    "name_snippet_pairs[image_full_name] = snippet\n"
   ]
  },
  {
   "cell_type": "code",
   "execution_count": null,
   "id": "e56044ca-139f-45c5-9fa9-1e38a02dca64",
   "metadata": {},
   "outputs": [],
   "source": [
    "%%manim $params\n",
    "class Example(ZoomedScene):\n",
    "    def construct(self):\n",
    "        mob= RegularPolygon(5,color= YELLOW)\n",
    "        mob.move_to(ORIGIN)\n",
    "        self.add(mob)\n",
    "        mob.scale(0.1)\n",
    "        self.camera.frame.scale(1/25)\n",
    "###******        \n",
    "image_full_name = \"RegularPolygon5.png\"\n",
    "snippet = \"mob= RegularPolygon(5,color= YELLOW)\"\n",
    "name_snippet_pairs[image_full_name] = snippet\n"
   ]
  },
  {
   "cell_type": "code",
   "execution_count": null,
   "id": "6c2351d7-d630-4a8c-9ad9-a669722922a1",
   "metadata": {},
   "outputs": [],
   "source": [
    "%%manim $params\n",
    "class Example(ZoomedScene):\n",
    "    def construct(self):\n",
    "        mob= RegularPolygon(6,color= YELLOW)\n",
    "        mob.move_to(ORIGIN)\n",
    "        self.add(mob)\n",
    "        mob.scale(0.1)\n",
    "        self.camera.frame.scale(1/25)\n",
    "###******        \n",
    "image_full_name = \"RegularPolygon6.png\"\n",
    "snippet = \"mob= RegularPolygon(6,color= YELLOW)\"\n",
    "name_snippet_pairs[image_full_name] = snippet\n"
   ]
  },
  {
   "cell_type": "code",
   "execution_count": null,
   "id": "79054cc7-29d7-4906-9c7b-8c6ad44c4465",
   "metadata": {},
   "outputs": [],
   "source": [
    "%%manim $params\n",
    "class Example(ZoomedScene):\n",
    "    def construct(self):\n",
    "        s1 = Square().scale(2.5)\n",
    "        s2 = Star().shift(LEFT)\n",
    "        s3 = Circle().shift(RIGHT)\n",
    "        c = Cutout(s1, s2, s3, fill_opacity=1, color=YELLOW)\n",
    "        self.add(c)\n",
    "###******        \n",
    "image_full_name = \"CutOut.png\"\n",
    "snippet = \"s1 = Square().scale(2.5)\\ns2 = Star().shift(LEFT)\\ns3 = Circle().shift(RIGHT)\\nc = Cutout(s1, s2, s3, fill_opacity=1, color=YELLOW)\"\n",
    "name_snippet_pairs[image_full_name] = snippet\n",
    "\n"
   ]
  },
  {
   "cell_type": "code",
   "execution_count": null,
   "id": "bc54081a",
   "metadata": {},
   "outputs": [],
   "source": [
    "%%manim $params\n",
    "class Example(ZoomedScene):\n",
    "    def construct(self):\n",
    "        mob = Line(color= YELLOW)\n",
    "        self.add(mob)\n",
    "        mob.scale(0.1)\n",
    "        self.camera.frame.scale(1/25)\n",
    "###******        \n",
    "image_full_name = \"Line.png\"\n",
    "snippet = \"line = Line(color= YELLOW)\"\n",
    "name_snippet_pairs[image_full_name] = snippet"
   ]
  },
  {
   "cell_type": "code",
   "execution_count": null,
   "id": "214af3ad-d1a0-446b-bb8d-6d02304ffaec",
   "metadata": {},
   "outputs": [],
   "source": [
    "%%manim $params\n",
    "class Example(ZoomedScene):\n",
    "    def construct(self):\n",
    "        mob = DashedLine(0.2*LEFT, 0.2*RIGHT,color= YELLOW)\n",
    "        self.add(mob)\n",
    "        self.camera.frame.scale(1/25)\n",
    "        \n",
    "###******        \n",
    "image_full_name = \"DashedLine.png\"\n",
    "snippet = \"mob = DashedLine(color= YELLOW)\"\n",
    "name_snippet_pairs[image_full_name] = snippet"
   ]
  },
  {
   "cell_type": "code",
   "execution_count": null,
   "id": "8f13d671-c505-4993-b1a2-9c61dc28c83f",
   "metadata": {},
   "outputs": [],
   "source": [
    "%%manim $params\n",
    "class Example(ZoomedScene):\n",
    "    def construct(self):\n",
    "        mob = Arrow(0.2*LEFT, 0.2*RIGHT,color= YELLOW)\n",
    "        self.add(mob)\n",
    "        self.camera.frame.scale(1/25)\n",
    "###******        \n",
    "image_full_name = \"Arrow.png\"\n",
    "snippet = \"mob = Arrow(color= YELLOW)\"\n",
    "name_snippet_pairs[image_full_name] = snippet"
   ]
  },
  {
   "cell_type": "code",
   "execution_count": null,
   "id": "b6754f9d-8fab-47a6-bb5c-dca97b75e25e",
   "metadata": {},
   "outputs": [],
   "source": [
    "%%manim $params\n",
    "class Example(ZoomedScene):\n",
    "    def construct(self):\n",
    "        mob = Arrow(0.2*LEFT, 0.2*RIGHT,color= YELLOW, tip_shape=ArrowSquareTip)\n",
    "        self.add(mob)\n",
    "        self.camera.frame.scale(1/25)\n",
    "###******        \n",
    "image_full_name = \"ArrowSquareTip.png\"\n",
    "snippet = \"mob = Arrow(color= YELLOW, tip_shape=ArrowSquareTip)\"\n",
    "name_snippet_pairs[image_full_name] = snippet"
   ]
  },
  {
   "cell_type": "code",
   "execution_count": null,
   "id": "f712a179-5e9d-4907-9f17-0448dd26f834",
   "metadata": {},
   "outputs": [],
   "source": [
    "%%manim $params\n",
    "class Example(ZoomedScene):\n",
    "    def construct(self):\n",
    "        mob = Arrow(0.2*LEFT, 0.2*RIGHT,color= YELLOW, tip_shape=ArrowSquareFilledTip)\n",
    "        self.add(mob)\n",
    "        self.camera.frame.scale(1/25)\n",
    "###******        \n",
    "image_full_name = \"ArrowSquareFilledTip.png\"\n",
    "snippet = \"mob = Arrow(color= YELLOW, tip_shape=ArrowSquareFilledTip)\"\n",
    "name_snippet_pairs[image_full_name] = snippet"
   ]
  },
  {
   "cell_type": "code",
   "execution_count": null,
   "id": "f2cf8509-de93-4341-9d88-abd2c863bf07",
   "metadata": {},
   "outputs": [],
   "source": [
    "%%manim $params\n",
    "class Example(ZoomedScene):\n",
    "    def construct(self):\n",
    "        mob = Arrow(0.2*LEFT, 0.2*RIGHT,color= YELLOW, tip_shape=ArrowCircleTip)\n",
    "        self.add(mob)\n",
    "        self.camera.frame.scale(1/25)\n",
    "###******        \n",
    "image_full_name = \"ArrowCircleTip.png\"\n",
    "snippet = \"mob = Arrow(color= YELLOW, tip_shape=ArrowCircleTip)\"\n",
    "name_snippet_pairs[image_full_name] = snippet"
   ]
  },
  {
   "cell_type": "code",
   "execution_count": null,
   "id": "392cb493-1d25-454f-a93b-0cbd6ae19e4d",
   "metadata": {},
   "outputs": [],
   "source": [
    "%%manim $params\n",
    "class Example(ZoomedScene):\n",
    "    def construct(self):\n",
    "        mob = Arrow(0.2*LEFT, 0.2*RIGHT,color= YELLOW, tip_shape=ArrowCircleFilledTip)\n",
    "        self.add(mob)\n",
    "        self.camera.frame.scale(1/25)\n",
    "###******        \n",
    "image_full_name = \"ArrowCircleFilledTip.png\"\n",
    "snippet = \"mob = Arrow(color= YELLOW, tip_shape=ArrowCircleFilledTip)\"\n",
    "name_snippet_pairs[image_full_name] = snippet"
   ]
  },
  {
   "cell_type": "code",
   "execution_count": null,
   "id": "2616b54b-98c4-4171-bec6-7e9cdf55968a",
   "metadata": {},
   "outputs": [],
   "source": [
    "%%manim $params\n",
    "class Example(ZoomedScene):\n",
    "    def construct(self):\n",
    "        mob = DoubleArrow(0.2*LEFT, 0.2*RIGHT,color= YELLOW)\n",
    "        self.add(mob)\n",
    "        self.camera.frame.scale(1/25)\n",
    "###******        \n",
    "image_full_name = \"DoubleArrow.png\"\n",
    "snippet = \"mob = DoubleArrow(color= YELLOW)\"\n",
    "name_snippet_pairs[image_full_name] = snippet"
   ]
  },
  {
   "cell_type": "code",
   "execution_count": null,
   "id": "f1517126-246d-4361-93fb-77d8620c5384",
   "metadata": {},
   "outputs": [],
   "source": [
    "%%manim $params\n",
    "class Example(ZoomedScene):\n",
    "    def construct(self):\n",
    "        mob = CurvedArrow(LEFT,RIGHT,color= YELLOW)\n",
    "        self.add(mob)\n",
    "        mob.move_to(ORIGIN)\n",
    "        self.camera.frame.scale(1/6)\n",
    "###******        \n",
    "image_full_name = \"CurvedArrow.png\"\n",
    "snippet = \"mob = CurvedArrow(LEFT,RIGHT,color= YELLOW)\"\n",
    "name_snippet_pairs[image_full_name] = snippet"
   ]
  },
  {
   "cell_type": "code",
   "execution_count": null,
   "id": "8120aa72-aa99-4078-9859-a8fada7c9167",
   "metadata": {},
   "outputs": [],
   "source": [
    "%%manim $params\n",
    "class Example(ZoomedScene):\n",
    "    def construct(self):\n",
    "        mob = ParametricFunction(lambda t: [t,0.2*np.sin(10*t),0],t_range = [-TAU, TAU],color= YELLOW)\n",
    "        self.add(mob)\n",
    "        self.camera.frame.scale(1/10)\n",
    "###******        \n",
    "image_full_name = \"ParametricFunction.png\"\n",
    "snippet = \"mob = ParametricFunction(lambda t: [t,0.2*np.sin(10*t),0],t_range = [-TAU, TAU],color= YELLOW)\"\n",
    "name_snippet_pairs[image_full_name] = snippet"
   ]
  },
  {
   "cell_type": "code",
   "execution_count": null,
   "id": "1870a184-e3af-4d34-a62f-371b4a56fd41",
   "metadata": {},
   "outputs": [],
   "source": [
    "%%manim $params\n",
    "class Example(ZoomedScene):\n",
    "    def construct(self):\n",
    "        p1 = [-3, 1, 0]\n",
    "        p1b=  p1 + 5 * RIGHT + 2 * UP\n",
    "        p2 = [3, -1, 0]\n",
    "        p2b = p2 + 5 * LEFT\n",
    "        bezier = CubicBezier(p1,p1b, p2b, p2, color=YELLOW)\n",
    "        self.add(bezier)\n",
    "        bezier.scale(0.1)\n",
    "        self.camera.frame.scale(1/15)\n",
    "###******        \n",
    "image_full_name = \"CubicBezier.png\"\n",
    "snippet = \"p1 = [-3, 1, 0]\\np1b=  p1 + 5 * RIGHT + 2 * UP\\np2 = [3, -1, 0]\\np2b = p2 + 5 * LEFT\\nbezier = CubicBezier(p1,p1b, p2b, p2, color=YELLOW)\"\n",
    "name_snippet_pairs[image_full_name] = snippet"
   ]
  },
  {
   "cell_type": "code",
   "execution_count": null,
   "id": "c48a4917-bb93-470e-aaff-d1bf3b25dd91",
   "metadata": {},
   "outputs": [],
   "source": [
    "%%manim $params\n",
    "class Example(ZoomedScene):\n",
    "    def construct(self):\n",
    "        mob = Brace(Line(LEFT*0.5,RIGHT*0.5),color= YELLOW)\n",
    "        self.add(mob)\n",
    "        mob.move_to(ORIGIN)\n",
    "        self.camera.frame.scale(1/8)\n",
    "###******        \n",
    "image_full_name = \"Brace.png\"\n",
    "snippet = \"mob = Brace(LEFT,RIGHT,color= YELLOW)\"\n",
    "name_snippet_pairs[image_full_name] = snippet"
   ]
  },
  {
   "cell_type": "code",
   "execution_count": null,
   "id": "28d88d10-6527-4101-ab2e-3420071b79d4",
   "metadata": {},
   "outputs": [],
   "source": [
    "%%manim $params\n",
    "class Example(ZoomedScene):\n",
    "    def construct(self):\n",
    "        arc = Arc(radius=0.5,start_angle=0,angle=5*PI/6)\n",
    "        brace = ArcBrace(arc).set_color(YELLOW)\n",
    "        mob = VGroup(arc,brace)        \n",
    "        self.add(mob)\n",
    "        mob.move_to(ORIGIN)\n",
    "        self.camera.frame.scale(1/8)\n",
    "###******        \n",
    "image_full_name = \"ArcBrace.png\"\n",
    "snippet = \"arc = Arc(radius=0.5,start_angle=0,angle=5*PI/6)\\nbrace = ArcBrace(arc).set_color(YELLOW)\"\n",
    "name_snippet_pairs[image_full_name] = snippet"
   ]
  },
  {
   "cell_type": "code",
   "execution_count": null,
   "id": "7a1d9778-4e1a-41a8-84a4-187a6550086a",
   "metadata": {},
   "outputs": [],
   "source": [
    "%%manim $params\n",
    "class Example(ZoomedScene):\n",
    "    def construct(self):\n",
    "        mob = AnnotationDot(stroke_color=YELLOW, fill_color=ORANGE)\n",
    "        self.add(mob)\n",
    "        mob.move_to(ORIGIN)\n",
    "        self.camera.frame.scale(1/15)\n",
    "###******        \n",
    "image_full_name = \"AnnotationDot.png\"\n",
    "snippet = \"mob = AnnotationDot(fill_color=RED)\"\n",
    "name_snippet_pairs[image_full_name] = snippet"
   ]
  },
  {
   "cell_type": "code",
   "execution_count": null,
   "id": "7893fe85-5177-4e3a-8d85-728e77bf2442",
   "metadata": {},
   "outputs": [],
   "source": [
    "%%manim $params\n",
    "class Example(ZoomedScene):\n",
    "    def construct(self):\n",
    "        mob = LabeledDot(Tex(\"42\", color=BLACK), color=YELLOW)\n",
    "        self.add(mob)\n",
    "        mob.move_to(ORIGIN)\n",
    "        self.camera.frame.scale(1/10)\n",
    "###******        \n",
    "image_full_name = \"LabeledDot.png\"\n",
    "snippet = 'mob = LabeledDot(Tex(\"42\", color=BLACK), color=YELLOW)'\n",
    "name_snippet_pairs[image_full_name] = snippet"
   ]
  },
  {
   "cell_type": "code",
   "execution_count": null,
   "id": "facb7539-059f-4e30-8098-ac04b970666e",
   "metadata": {},
   "outputs": [],
   "source": [
    "%%manim $params\n",
    "class Example(ZoomedScene):\n",
    "    def construct(self):\n",
    "        mob = ManimBanner()\n",
    "        self.add(mob)\n",
    "        self.camera.frame.scale(1/1.5)\n",
    "###******        \n",
    "image_full_name = \"ManimBanner.png\"\n",
    "snippet = \"mob = ManimBanner()\"\n",
    "name_snippet_pairs[image_full_name] = snippet"
   ]
  },
  {
   "cell_type": "code",
   "execution_count": null,
   "id": "6f793b8a-5987-496a-91ff-9203b49e6f0a",
   "metadata": {},
   "outputs": [],
   "source": [
    "%%manim $params\n",
    "\n",
    "from PIL import Image\n",
    "import requests\n",
    "image = Image.open(requests.get(\"https://raw.githubusercontent.com/scikit-image/scikit-image/main/skimage/data/chelsea.png\", stream=True).raw)\n",
    "\n",
    "class Example(ZoomedScene):\n",
    "    def construct(self):\n",
    "        mob = ImageMobject(image).scale(2)\n",
    "        self.add(mob)\n",
    "        self.camera.frame.scale(1/1.5)\n",
    "###******        \n",
    "image_full_name = \"ImageMobject.png\"\n",
    "snippet = \"\"\"\n",
    "mob = ImageMobject(image)\n",
    "\"\"\"\n",
    "name_snippet_pairs[image_full_name] = snippet"
   ]
  },
  {
   "cell_type": "markdown",
   "id": "7150aa82-899b-49cd-bcad-344ef8bb3e9c",
   "metadata": {},
   "source": [
    "# Save here!"
   ]
  },
  {
   "cell_type": "code",
   "execution_count": null,
   "id": "bfe7589d-7743-4dd2-98ae-291eb6f0a45e",
   "metadata": {},
   "outputs": [],
   "source": [
    "#pip install ipylab\n",
    "from ipylab import JupyterFrontEnd\n",
    "\n",
    "app = JupyterFrontEnd()\n",
    "app.commands.execute('docmanager:save')"
   ]
  },
  {
   "cell_type": "code",
   "execution_count": null,
   "id": "224d81aa-cc4d-41a5-b329-c1f8375e89c0",
   "metadata": {},
   "outputs": [],
   "source": [
    "file_name = \"Mobjects_Basics\""
   ]
  },
  {
   "cell_type": "code",
   "execution_count": null,
   "id": "b96dd10b-3830-4208-a2fd-7fe9e1c3e577",
   "metadata": {},
   "outputs": [],
   "source": [
    "folder_name = file_name + \"_files\"\n",
    "notebook_name = file_name + \".ipynb\"\n",
    "markdown_name = file_name + \".md\"\n",
    "!rm -r $folder_name\n",
    "!jupyter nbconvert $notebook_name --to markdown\n",
    "!rm -r $markdown_name\n",
    "base_directory = Path.cwd() / folder_name\n",
    "target_directory = Path.cwd() / \"_static\"\n",
    "target_directory.mkdir(parents=True, exist_ok=True)\n",
    "\n",
    "prefix = file_name # delete files that where created in the past \n",
    "for file in target_directory.rglob(\"*\"):\n",
    "    if (prefix in file.name):\n",
    "        file.unlink() \n",
    "\n",
    "paths = sorted(Path(base_directory).iterdir(), key=os.path.getmtime)\n",
    "dest_names = list(name_snippet_pairs.keys())\n",
    "new_keys = []\n",
    "for num, (p,des) in enumerate(zip(paths,dest_names)):\n",
    "    to_path = target_directory /  f\"{file_name}_{num:03}_{des}\"   \n",
    "    shutil.copy(p,  to_path)\n",
    "    new_keys.append(to_path.name)\n",
    "    \n",
    "new_name_snippet_pairs ={} \n",
    "new_values = list(name_snippet_pairs.values())\n",
    "for key, value in zip(new_keys,new_values):\n",
    "    if value.startswith(\"\\n\"):\n",
    "        value = value[1:]\n",
    "    if value.endswith(\"\\n\"):\n",
    "        value = value[:-1]\n",
    "    new_name_snippet_pairs[key]=value\n",
    "with open(f'_static/{file_name}.json', 'w') as fp:\n",
    "    json.dump(new_name_snippet_pairs, fp,indent=2)\n",
    "display(new_name_snippet_pairs)\n",
    "!rm -r $folder_name\n",
    "!git add ."
   ]
  },
  {
   "cell_type": "code",
   "execution_count": null,
   "id": "d1651608-f3f1-4d27-8412-c61fff799716",
   "metadata": {},
   "outputs": [],
   "source": []
  }
 ],
 "metadata": {
  "interpreter": {
   "hash": "956ae1017c005de10cf980548dc93247cd70ec3257bcb31b6a6c2783ea7553f4"
  },
  "kernelspec": {
   "display_name": "Python 3",
   "language": "python",
   "name": "python3"
  },
  "language_info": {
   "codemirror_mode": {
    "name": "ipython",
    "version": 3
   },
   "file_extension": ".py",
   "mimetype": "text/x-python",
   "name": "python",
   "nbconvert_exporter": "python",
   "pygments_lexer": "ipython3",
   "version": "3.9.5"
  }
 },
 "nbformat": 4,
 "nbformat_minor": 5
}