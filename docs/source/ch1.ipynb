{
 "cells": [
  {
   "cell_type": "code",
   "execution_count": 22,
   "metadata": {},
   "outputs": [
    {
     "data": {
      "text/html": [
       "\n",
       "<script>\n",
       "function myFunction() {\n",
       "  /* Get the text field */\n",
       "  var copyText = document.getElementById(\"myInput\");\n",
       "\n",
       "  /* Select the text field */\n",
       "  copyText.select();\n",
       "  copyText.setSelectionRange(0, 99999); /* For mobile devices */\n",
       "\n",
       "   /* Copy the text inside the text field */\n",
       "  navigator.clipboard.writeText(copyText.value);\n",
       "\n",
       "  /* Alert the copied text */\n",
       "  alert(\"Copied the text: \" + copyText.value);\n",
       "}\n",
       "</script>\n",
       "\n",
       "<!-- The text field -->\n",
       "<input type=\"text\" value=\"Hello World\" id=\"myInput\">\n",
       "\n",
       "<!-- The button used to copy the text -->\n",
       "<button onclick=\"myFunction()\">Copy Code</button>\n",
       "<img src=\"example.png\" alt=\"Italian Trulli\">\n"
      ],
      "text/plain": [
       "<IPython.core.display.HTML object>"
      ]
     },
     "metadata": {},
     "output_type": "display_data"
    }
   ],
   "source": [
    "%%html\n",
    "\n",
    "<script>\n",
    "function myFunction() {\n",
    "  /* Get the text field */\n",
    "  var copyText = document.getElementById(\"myInput\");\n",
    "\n",
    "  /* Select the text field */\n",
    "  copyText.select();\n",
    "  copyText.setSelectionRange(0, 99999); /* For mobile devices */\n",
    "\n",
    "   /* Copy the text inside the text field */\n",
    "  navigator.clipboard.writeText(copyText.value);\n",
    "\n",
    "  /* Alert the copied text */\n",
    "  alert(\"Copied the text: \" + copyText.value);\n",
    "}\n",
    "</script>\n",
    "\n",
    "<!-- The text field -->\n",
    "<input type=\"text\" value=\"Hello World\" id=\"myInput\">\n",
    "\n",
    "<!-- The button used to copy the text -->\n",
    "<button onclick=\"myFunction()\">Copy Code</button>\n",
    "<img src=\"example.png\" alt=\"Italian Trulli\">\n"
   ]
  },
  {
   "cell_type": "code",
   "execution_count": null,
   "metadata": {},
   "outputs": [],
   "source": []
  }
 ],
 "metadata": {
  "kernelspec": {
   "display_name": "Python 3",
   "language": "python",
   "name": "python3"
  },
  "language_info": {
   "codemirror_mode": {
    "name": "ipython",
    "version": 3
   },
   "file_extension": ".py",
   "mimetype": "text/x-python",
   "name": "python",
   "nbconvert_exporter": "python",
   "pygments_lexer": "ipython3",
   "version": "3.9.5"
  }
 },
 "nbformat": 4,
 "nbformat_minor": 4
}
