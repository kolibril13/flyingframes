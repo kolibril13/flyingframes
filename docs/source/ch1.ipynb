{
 "cells": [
  {
   "cell_type": "markdown",
   "metadata": {},
   "source": [
    "# Chapter 1 - Manim in Jupyter"
   ]
  },
  {
   "cell_type": "markdown",
   "metadata": {},
   "source": [
    "Working with manim in jupyter notebooks has servel advantages:\n",
    "* outputs and code are close together\n",
    "* easy to iterate examples\n",
    "* computation intensive code can be executed serperately from the scenes\n",
    "* global Mobjects can be used in multiple scenes.\n",
    "* more can bee seen in chapter 4"
   ]
  },
  {
   "cell_type": "code",
   "execution_count": null,
   "metadata": {},
   "outputs": [],
   "source": [
    "from manim import * "
   ]
  },
  {
   "cell_type": "code",
   "execution_count": null,
   "metadata": {},
   "outputs": [],
   "source": [
    "params = \"-v WARNING  -s -ql --disable_caching Example\""
   ]
  },
  {
   "cell_type": "code",
   "execution_count": null,
   "metadata": {},
   "outputs": [],
   "source": [
    "%%manim $params\n",
    "class Example(Scene):\n",
    "    def construct(self):\n",
    "        c = Circle(stroke_width=30)\n",
    "        self.add(c)"
   ]
  },
  {
   "cell_type": "code",
   "execution_count": null,
   "metadata": {},
   "outputs": [],
   "source": [
    "%%time\n",
    "np.random.seed(20)\n",
    "steps = np.random.choice(a=[-1, 0, 1], size=(100000,1000))\n",
    "stop = steps.cumsum(0)\n",
    "end_points= stop[-1]/stop[-1].max() \n",
    "end_pointsX = end_points[0:500]\n",
    "end_pointsY = end_points[500:-1]"
   ]
  },
  {
   "cell_type": "code",
   "execution_count": null,
   "metadata": {},
   "outputs": [],
   "source": [
    "%%time\n",
    "%%manim $params\n",
    "class Example(Scene):\n",
    "    def construct(self):\n",
    "        dots = [Dot(point=[3*x,3*y,0]).scale(0.7) for  x,y in zip(end_pointsX, end_pointsY)]\n",
    "        self.add(*dots)"
   ]
  },
  {
   "cell_type": "code",
   "execution_count": null,
   "metadata": {},
   "outputs": [],
   "source": []
  }
 ],
 "metadata": {
  "kernelspec": {
   "display_name": "Python 3",
   "language": "python",
   "name": "python3"
  },
  "language_info": {
   "codemirror_mode": {
    "name": "ipython",
    "version": 3
   },
   "file_extension": ".py",
   "mimetype": "text/x-python",
   "name": "python",
   "nbconvert_exporter": "python",
   "pygments_lexer": "ipython3",
   "version": "3.9.2"
  }
 },
 "nbformat": 4,
 "nbformat_minor": 4
}
