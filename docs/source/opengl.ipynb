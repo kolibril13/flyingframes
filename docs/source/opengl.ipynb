{
 "cells": [
  {
   "cell_type": "markdown",
   "metadata": {},
   "source": [
    "# OpenGL"
   ]
  },
  {
   "cell_type": "code",
   "execution_count": null,
   "metadata": {},
   "outputs": [],
   "source": [
    "from manim import *\n",
    "\n",
    "param   = \"-v WARNING -s -ql --disable_caching --progress_bar None Example\"\n",
    "paramH  = \"-v WARNING -s -qh --disable_caching --progress_bar None Example\"\n",
    "paramp  = \"-v WARNING    -ql --disable_caching --progress_bar None Example\"\n",
    "parampH = \"-v WARNING    -qh --disable_caching --progress_bar None Example\"\n",
    "\n",
    "paramGL   = \"-v WARNING -s -ql  --renderer=opengl --disable_caching --progress_bar None Example\"\n",
    "paramHGL   = \"-v WARNING -s -qh  --renderer=opengl --disable_caching --progress_bar None Example\""
   ]
  },
  {
   "cell_type": "code",
   "execution_count": null,
   "metadata": {},
   "outputs": [],
   "source": [
    "%%time\n",
    "%%manim $param\n",
    "class Example(Scene):\n",
    "    def construct(self):\n",
    "        stars = VGroup()\n",
    "        for i in range(0,50):\n",
    "            s= Star(color= random_bright_color(), fill_opacity=1).scale(0.8)\n",
    "            stars.add(s)\n",
    "        stars.arrange_in_grid(buff=-1)\n",
    "        self.add(stars)"
   ]
  },
  {
   "cell_type": "code",
   "execution_count": null,
   "metadata": {},
   "outputs": [],
   "source": [
    "%%time\n",
    "%%manim $param\n",
    "class Example(ThreeDScene):\n",
    "    def func(self, u, v):\n",
    "        return np.array([np.cos(u) * np.cos(v), np.cos(u) * np.sin(v), u])\n",
    "\n",
    "    def construct(self):\n",
    "        axes = ThreeDAxes(x_range=[-4,4], x_length=8)\n",
    "        surface = Surface(\n",
    "            lambda u, v: axes.c2p(*self.func(u, v)),\n",
    "            u_range=[-PI, PI],\n",
    "            v_range=[0, TAU]\n",
    "        )\n",
    "        self.set_camera_orientation(theta=70 * DEGREES, phi=75 * DEGREES)\n",
    "        self.add(axes, surface)"
   ]
  }
 ],
 "metadata": {
  "kernelspec": {
   "display_name": "Python 3",
   "language": "python",
   "name": "python3"
  },
  "language_info": {
   "codemirror_mode": {
    "name": "ipython",
    "version": 3
   },
   "file_extension": ".py",
   "mimetype": "text/x-python",
   "name": "python",
   "nbconvert_exporter": "python",
   "pygments_lexer": "ipython3",
   "version": "3.9.5"
  }
 },
 "nbformat": 4,
 "nbformat_minor": 4
}
