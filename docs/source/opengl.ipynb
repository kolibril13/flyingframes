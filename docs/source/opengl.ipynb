{
 "cells": [
  {
   "cell_type": "markdown",
   "metadata": {},
   "source": [
    "# OPENGL"
   ]
  },
  {
   "cell_type": "code",
   "execution_count": null,
   "metadata": {},
   "outputs": [],
   "source": [
    "from manim import *\n",
    "\n",
    "param   = \"-v WARNING -s -ql --renderer=opengl --disable_caching --progress_bar None Example\"\n",
    "paramH  = \"-v WARNING -s -qh --renderer=opengl --disable_caching --progress_bar None Example\"\n",
    "paramp  = \"-v WARNING    -ql --renderer=opengl --write_to_movie --disable_caching --progress_bar None Example\"\n",
    "parampH = \"-v WARNING    -qh --renderer=opengl --write_to_movie --disable_caching --progress_bar None Example\""
   ]
  },
  {
   "cell_type": "code",
   "execution_count": null,
   "metadata": {},
   "outputs": [],
   "source": [
    "%%time\n",
    "%%manim $param\n",
    "class Example(Scene):\n",
    "    def construct(self):\n",
    "        self.add(ManimBanner())"
   ]
  },
  {
   "cell_type": "code",
   "execution_count": null,
   "metadata": {},
   "outputs": [],
   "source": [
    "%%time\n",
    "%%manim $param\n",
    "class Example(Scene):\n",
    "    def construct(self):\n",
    "        vertices = [1, 2, 3, 4, 5, 6, 7, 8]\n",
    "        edges = [(1, 7), (1, 8), (2, 3), (2, 4), (2, 5),\n",
    "                 (2, 8), (3, 4), (6, 1), (6, 2),\n",
    "                 (6, 3), (7, 2), (7, 4)]\n",
    "        g = Graph(vertices, edges, layout=\"circular\", layout_scale=3,\n",
    "                  labels=True, vertex_config={7: {\"fill_color\": RED}},\n",
    "                  edge_config={(1, 7): {\"stroke_color\": RED},\n",
    "                               (2, 7): {\"stroke_color\": RED},\n",
    "                               (4, 7): {\"stroke_color\": RED}}) \n",
    "        self.add(g)"
   ]
  },
  {
   "cell_type": "code",
   "execution_count": null,
   "metadata": {},
   "outputs": [],
   "source": [
    "%%time\n",
    "%%manim $param\n",
    "class Example(Scene):\n",
    "    def construct(self):\n",
    "        number_plane = NumberPlane(\n",
    "        x_range=[-10, 10, 1],\n",
    "        y_range=[-10, 10, 1],\n",
    "        stroke_width=100,\n",
    "        axis_config = {\n",
    "            \"stroke_color\": YELLOW,\n",
    "            \"stroke_width\": 20,\n",
    "        },\n",
    "        background_line_style={\n",
    "            \"stroke_color\": GREY,\n",
    "            \"stroke_width\": 15,\n",
    "            \"stroke_opacity\": 1\n",
    "        }\n",
    "        )\n",
    "        self.add(number_plane)"
   ]
  },
  {
   "cell_type": "code",
   "execution_count": null,
   "metadata": {},
   "outputs": [],
   "source": [
    "%%time\n",
    "%%manim $param\n",
    "class Example(Scene):\n",
    "    def construct(self):\n",
    "        func = lambda pos: ((pos[0]*UR+pos[1]*LEFT) - pos)\n",
    "        mob= StreamLines(func,delta_x=1, delta_y=1,stroke_width=3)\n",
    "        self.add(mob) "
   ]
  },
  {
   "cell_type": "code",
   "execution_count": null,
   "metadata": {},
   "outputs": [],
   "source": [
    "%%time\n",
    "%%manim $param\n",
    "class Example(ThreeDScene):\n",
    "    def construct(self):\n",
    "\n",
    "        code= \"\"\"j = 1 \n",
    "        k = \"Hello\"\n",
    "        \"\"\"\n",
    "        rendered_code = Code(code=code, background_stroke_color= WHITE, tab_width=2, background=\"window\",\n",
    "                            language=\"Python\", font=\"Monospace\").scale(3) \n",
    "        self.add(rendered_code)"
   ]
  },
  {
   "cell_type": "code",
   "execution_count": null,
   "metadata": {},
   "outputs": [],
   "source": [
    "%%time\n",
    "%%manim $param\n",
    "class Example(Scene):\n",
    "    def construct(self):\n",
    "        axes = Axes(\n",
    "            x_range=[-8, 9, 2],\n",
    "            y_range=[-6, 7, 2],\n",
    "            x_length=4,\n",
    "            y_length=4,\n",
    "            axis_config={\"include_numbers\": True, \"numbers_to_exclude\": [0]},\n",
    "            x_axis_config={\"color\": ORANGE},\n",
    "            y_axis_config={\"color\": ORANGE},\n",
    "        )\n",
    "        axes_label = axes.get_axis_labels(x_label=\"x\", y_label=\"f(x)\")\n",
    "        graph = axes.get_graph(lambda x: 5*np.e ** (-x**2/2), x_range=[-5, 5], color=YELLOW)\n",
    "        graph_label = axes.get_graph_label(graph, label=\"e^{-x^2}\", color=YELLOW, x_val=1,dot=False)\n",
    "        self.add(axes, graph, graph_label, axes_label)\n",
    "        #self.camera.frame.scale(1/2.7) not yet possible?\n"
   ]
  },
  {
   "cell_type": "code",
   "execution_count": null,
   "metadata": {},
   "outputs": [],
   "source": [
    "%%time\n",
    "%%manim $param\n",
    "class Example(ThreeDScene):\n",
    "    def func(self, u, v):\n",
    "        return np.array([np.cos(u) * np.cos(v), np.cos(u) * np.sin(v), u])\n",
    "\n",
    "    def construct(self):\n",
    "        axes = ThreeDAxes(x_range=[-4,4], x_length=8)\n",
    "        surface = Surface(\n",
    "            lambda u, v: axes.c2p(*self.func(u, v)),\n",
    "            u_range=[-PI, PI],\n",
    "            v_range=[0, TAU]\n",
    "        )\n",
    "        self.set_camera_orientation(theta=70 * DEGREES, phi=75 * DEGREES)\n",
    "        self.add(axes, surface)"
   ]
  },
  {
   "cell_type": "code",
   "execution_count": null,
   "metadata": {},
   "outputs": [],
   "source": [
    "%%time\n",
    "%%manim $param\n",
    "class Example(ThreeDScene):\n",
    "    def construct(self):\n",
    "        resolution_fa = 42\n",
    "        self.set_camera_orientation(phi=75 * DEGREES, theta=-30 * DEGREES)\n",
    "\n",
    "        def param_gauss(u, v):\n",
    "            x = u\n",
    "            y = v\n",
    "            sigma, mu = 0.4, [0.0, 0.0]\n",
    "            d = np.linalg.norm(np.array([x - mu[0], y - mu[1]]))\n",
    "            z = np.exp(-(d ** 2 / (2.0 * sigma ** 2)))\n",
    "            return np.array([x, y, z])\n",
    "\n",
    "        gauss_plane = Surface(\n",
    "            param_gauss,\n",
    "            resolution=(resolution_fa, resolution_fa),\n",
    "            v_range=[-2, +2],\n",
    "            u_range=[-2, +2]\n",
    "        )\n",
    "\n",
    "        gauss_plane.scale(2, about_point=ORIGIN)\n",
    "        gauss_plane.set_style(fill_opacity=1,stroke_color=GREEN)\n",
    "        gauss_plane.set_fill_by_checkerboard(ORANGE, BLUE, opacity=0.5)\n",
    "        axes = ThreeDAxes()\n",
    "        self.add(axes,gauss_plane)"
   ]
  },
  {
   "cell_type": "code",
   "execution_count": null,
   "metadata": {},
   "outputs": [],
   "source": [
    "%%manim $parampH\n",
    "class Example(Scene):\n",
    "    def construct(self):\n",
    "        dot= Dot(color= YELLOW, radius=0.5)\n",
    "        self.play(dot.animate.shift(2*RIGHT).scale(2).set_color(BLUE))\n",
    "        self.wait()"
   ]
  },
  {
   "cell_type": "code",
   "execution_count": null,
   "metadata": {},
   "outputs": [],
   "source": [
    "%%time\n",
    "%%manim $param\n",
    "class Example(Scene):\n",
    "    def construct(self):\n",
    "        np.random.seed(41)\n",
    "        a= np.random.randint(0, 255, size=(3, 4))\n",
    "        img = ImageMobject(np.uint8(a))\n",
    "        img.height = 6\n",
    "        img.set_resampling_algorithm(RESAMPLING_ALGORITHMS[\"cubic\"]) \n",
    "        self.add(img)"
   ]
  }
 ],
 "metadata": {
  "kernelspec": {
   "display_name": "Python 3",
   "language": "python",
   "name": "python3"
  },
  "language_info": {
   "codemirror_mode": {
    "name": "ipython",
    "version": 3
   },
   "file_extension": ".py",
   "mimetype": "text/x-python",
   "name": "python",
   "nbconvert_exporter": "python",
   "pygments_lexer": "ipython3",
   "version": "3.9.5"
  }
 },
 "nbformat": 4,
 "nbformat_minor": 4
}
