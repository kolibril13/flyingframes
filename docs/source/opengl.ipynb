{
 "cells": [
  {
   "cell_type": "code",
   "execution_count": null,
   "metadata": {},
   "outputs": [],
   "source": [
    "from manim import *"
   ]
  },
  {
   "cell_type": "code",
   "execution_count": null,
   "metadata": {},
   "outputs": [],
   "source": [
    "%%manim -v WARNING -s -ql  --renderer=opengl --disable_caching --progress_bar None Example\n",
    "class Example(Scene):\n",
    "    def construct(self):\n",
    "        stars = VGroup()\n",
    "        for i in range(0,50):\n",
    "            s= Star(color= random_bright_color(), fill_opacity=1).scale(0.8)\n",
    "            stars.add(s)\n",
    "        stars.arrange_in_grid(buff=-1)\n",
    "        self.add(stars)"
   ]
  }
 ],
 "metadata": {
  "kernelspec": {
   "display_name": "Python 3",
   "language": "python",
   "name": "python3"
  },
  "language_info": {
   "codemirror_mode": {
    "name": "ipython",
    "version": 3
   },
   "file_extension": ".py",
   "mimetype": "text/x-python",
   "name": "python",
   "nbconvert_exporter": "python",
   "pygments_lexer": "ipython3",
   "version": "3.9.5"
  }
 },
 "nbformat": 4,
 "nbformat_minor": 4
}
