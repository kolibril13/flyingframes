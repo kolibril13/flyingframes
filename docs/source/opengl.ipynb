{
 "cells": [
  {
   "cell_type": "markdown",
   "metadata": {},
   "source": [
    "# OpenGL"
   ]
  },
  {
   "cell_type": "code",
   "execution_count": null,
   "metadata": {},
   "outputs": [],
   "source": [
    "from manim import *\n",
    "\n",
    "param   = \"-v WARNING -s -ql --renderer=opengl --disable_caching --progress_bar None Example\"\n",
    "paramH  = \"-v WARNING -s -qh --renderer=opengl --disable_caching --progress_bar None Example\"\n",
    "paramp  = \"-v WARNING    -ql --renderer=opengl --disable_caching --progress_bar None Example\"\n",
    "parampH = \"-v WARNING    -qh --renderer=opengl --disable_caching --progress_bar None Example\""
   ]
  },
  {
   "cell_type": "code",
   "execution_count": null,
   "metadata": {},
   "outputs": [],
   "source": [
    "%%time\n",
    "%%manim $param\n",
    "class Example(Scene):\n",
    "    def construct(self):\n",
    "        self.add(ManimBanner())"
   ]
  },
  {
   "cell_type": "code",
   "execution_count": null,
   "metadata": {},
   "outputs": [],
   "source": [
    "%%time\n",
    "%%manim $param\n",
    "class Example(Scene):\n",
    "    def construct(self):\n",
    "        vertices = [1, 2, 3, 4, 5, 6, 7, 8]\n",
    "        edges = [(1, 7), (1, 8), (2, 3), (2, 4), (2, 5),\n",
    "                 (2, 8), (3, 4), (6, 1), (6, 2),\n",
    "                 (6, 3), (7, 2), (7, 4)]\n",
    "        g = Graph(vertices, edges, layout=\"circular\", layout_scale=3,\n",
    "                  labels=True, vertex_config={7: {\"fill_color\": RED}},\n",
    "                  edge_config={(1, 7): {\"stroke_color\": RED},\n",
    "                               (2, 7): {\"stroke_color\": RED},\n",
    "                               (4, 7): {\"stroke_color\": RED}}) \n",
    "        self.add(g)"
   ]
  },
  {
   "cell_type": "code",
   "execution_count": null,
   "metadata": {},
   "outputs": [],
   "source": [
    "%%time\n",
    "%%manim $param\n",
    "class Example(Scene):\n",
    "    def construct(self):\n",
    "        func = lambda pos: ((pos[0]*UR+pos[1]*LEFT) - pos)\n",
    "        mob= StreamLines(func,delta_x=1, delta_y=1,stroke_width=3)\n",
    "        self.add(mob) "
   ]
  },
  {
   "cell_type": "code",
   "execution_count": null,
   "metadata": {},
   "outputs": [],
   "source": [
    "%%time\n",
    "%%manim $param\n",
    "class Example(ThreeDScene):\n",
    "    def func(self, u, v):\n",
    "        return np.array([np.cos(u) * np.cos(v), np.cos(u) * np.sin(v), u])\n",
    "\n",
    "    def construct(self):\n",
    "        axes = ThreeDAxes(x_range=[-4,4], x_length=8)\n",
    "        surface = Surface(\n",
    "            lambda u, v: axes.c2p(*self.func(u, v)),\n",
    "            u_range=[-PI, PI],\n",
    "            v_range=[0, TAU]\n",
    "        )\n",
    "        self.set_camera_orientation(theta=70 * DEGREES, phi=75 * DEGREES)\n",
    "        self.add(axes, surface)"
   ]
  },
  {
   "cell_type": "code",
   "execution_count": null,
   "metadata": {},
   "outputs": [],
   "source": [
    "%%time\n",
    "%%manim $param\n",
    "class Example(ThreeDScene):\n",
    "    def construct(self):\n",
    "\n",
    "        code= \"\"\"j = 1 \n",
    "        k = \"Hello\"\n",
    "        \"\"\"\n",
    "        rendered_code = Code(code=code, background_stroke_color= WHITE, tab_width=2, background=\"window\",\n",
    "                            language=\"Python\", font=\"Monospace\").scale(3) \n",
    "        self.add(rendered_code)"
   ]
  }
 ],
 "metadata": {
  "kernelspec": {
   "display_name": "Python 3",
   "language": "python",
   "name": "python3"
  },
  "language_info": {
   "codemirror_mode": {
    "name": "ipython",
    "version": 3
   },
   "file_extension": ".py",
   "mimetype": "text/x-python",
   "name": "python",
   "nbconvert_exporter": "python",
   "pygments_lexer": "ipython3",
   "version": "3.9.5"
  }
 },
 "nbformat": 4,
 "nbformat_minor": 4
}
