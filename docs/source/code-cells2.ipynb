{
 "cells": [
  {
   "cell_type": "markdown",
   "id": "9fafd1f9",
   "metadata": {},
   "source": [
    "# Manim1\n",
    "\n",
    "## Some more stuff"
   ]
  },
  {
   "cell_type": "code",
   "execution_count": null,
   "id": "2910a7f2",
   "metadata": {},
   "outputs": [],
   "source": [
    "import manim\n",
    "from manim import *"
   ]
  },
  {
   "cell_type": "code",
   "execution_count": null,
   "id": "a69c3487",
   "metadata": {},
   "outputs": [],
   "source": [
    "%%manim  -v WARNING -ql -s  --disable_caching Hello\n",
    "\n",
    "class Hello(Scene):\n",
    "    def construct(self):\n",
    "        self.camera.background_color=\"#193443\"\n",
    "        c = Circle()\n",
    "        d = Triangle()\n",
    "        d.scale(4)\n",
    "        d.set_style(stroke_color=BLUE)\n",
    "        c.next_to(d.get_top(), RIGHT, buff=0)\n",
    "    \n",
    "        self.add(d)\n",
    "        self.add(c)\n",
    "    #    self.play(FadeIn(c))\n",
    "     #   self.play(c.animate.shift(rotate_vector(6*DOWN, 30*DEGREES)), rate_func= lambda t:t**2, run_time=3)\n",
    "        #self.play(FadeIn(d))\n",
    "        #self.play(d.animate.shift(rotate_vector(3*UP, 30*DEGREES)))"
   ]
  },
  {
   "cell_type": "code",
   "execution_count": 8,
   "id": "961dc661",
   "metadata": {},
   "outputs": [
    {
     "name": "stdout",
     "output_type": "stream",
     "text": [
      "source/\n",
      "    index.rst\n",
      "    conf.py\n",
      "    code-cells2.ipynb\n",
      "    manim_directive.py\n",
      "    example3.ipynb\n",
      "    code-cells.ipynb\n",
      "    _static/\n",
      "        custom.css\n",
      "    .ipynb_checkpoints/\n",
      "        example3-checkpoint.ipynb\n",
      "        code-cells-checkpoint.ipynb\n",
      "        code-cells2-checkpoint.ipynb\n"
     ]
    }
   ],
   "source": [
    "import os\n",
    "import pathlib\n",
    "def list_files(startpath):\n",
    "    for root, dirs, files in os.walk(startpath):\n",
    "        level = root.replace(startpath, '').count(os.sep)\n",
    "        indent = ' ' * 4 * (level)\n",
    "        print('{}{}/'.format(indent, os.path.basename(root)))\n",
    "        subindent = ' ' * 4 * (level + 1)\n",
    "        for f in files:\n",
    "            print('{}{}'.format(subindent, f))\n",
    "list_files(str(pathlib.Path.cwd()))"
   ]
  },
  {
   "cell_type": "code",
   "execution_count": null,
   "id": "0d1396a3",
   "metadata": {},
   "outputs": [],
   "source": []
  }
 ],
 "metadata": {
  "kernelspec": {
   "display_name": "Python 3",
   "language": "python",
   "name": "python3"
  },
  "language_info": {
   "codemirror_mode": {
    "name": "ipython",
    "version": 3
   },
   "file_extension": ".py",
   "mimetype": "text/x-python",
   "name": "python",
   "nbconvert_exporter": "python",
   "pygments_lexer": "ipython3",
   "version": "3.9.2"
  }
 },
 "nbformat": 4,
 "nbformat_minor": 5
}
