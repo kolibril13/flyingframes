{
 "cells": [
  {
   "cell_type": "code",
   "execution_count": null,
   "id": "e4129a8a",
   "metadata": {},
   "outputs": [],
   "source": [
    "import manim\n",
    "from manim import *"
   ]
  },
  {
   "cell_type": "code",
   "execution_count": null,
   "id": "cff17b28",
   "metadata": {},
   "outputs": [],
   "source": [
    "%%manim  -v WARNING -ql -s  --disable_caching Hello\n",
    "\n",
    "class Hello(Scene):\n",
    "    def construct(self):\n",
    "        self.camera.background_color=\"#193443\"\n",
    "        c = Circle()\n",
    "        d = Triangle()\n",
    "        d.scale(4)\n",
    "        d.set_style(stroke_color=BLUE)\n",
    "        c.next_to(d.get_top(), RIGHT, buff=0)\n",
    "    \n",
    "        self.add(d)\n",
    "        self.add(c)\n",
    "    #    self.play(FadeIn(c))\n",
    "     #   self.play(c.animate.shift(rotate_vector(6*DOWN, 30*DEGREES)), rate_func= lambda t:t**2, run_time=3)\n",
    "        #self.play(FadeIn(d))\n",
    "        #self.play(d.animate.shift(rotate_vector(3*UP, 30*DEGREES)))"
   ]
  },
  {
   "cell_type": "code",
   "execution_count": null,
   "id": "46c32db0",
   "metadata": {},
   "outputs": [],
   "source": []
  }
 ],
 "metadata": {
  "kernelspec": {
   "display_name": "Python 3",
   "language": "python",
   "name": "python3"
  },
  "language_info": {
   "codemirror_mode": {
    "name": "ipython",
    "version": 3
   },
   "file_extension": ".py",
   "mimetype": "text/x-python",
   "name": "python",
   "nbconvert_exporter": "python",
   "pygments_lexer": "ipython3",
   "version": "3.9.2"
  }
 },
 "nbformat": 4,
 "nbformat_minor": 5
}
