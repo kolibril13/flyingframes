{
 "cells": [
  {
   "cell_type": "markdown",
   "metadata": {},
   "source": [
    "# Tips and Tricks"
   ]
  },
  {
   "cell_type": "markdown",
   "metadata": {},
   "source": [
    "## in development:\n",
    "### Docs\n",
    "**Command + Shift + R** : Reload page in chrome, when readthedocs shows old version because of caching problems\n",
    "### Development\n",
    "When the lastest main version of manim is instaled via `pip install .` ,  there might be problems with jupyter notebooks, that are not updated to the latest version. This is because there are some packages in the virtual environment that point to an older manim version. To solve this problem, simply delete the folders `0.6.0-dist` and `manim` from the  `site-packages`folder in your virtual environment. This problem should not occur when installing the latest manim via `poetry install`.\n",
    "\n",
    "\n"
   ]
  },
  {
   "cell_type": "markdown",
   "metadata": {},
   "source": [
    "### Shortcuts\n",
    "* Quickly open a jupyter notebook in the manim environment:  \n",
    "   `source projects/manimenv/bin/activate && jupyter lab`\n",
    "   \n",
    "* Jupyter start:  \n",
    "  `%%manim  -v WARNING -ql --progress_bar None --disable_caching MyScene`"
   ]
  },
  {
   "cell_type": "markdown",
   "metadata": {},
   "source": [
    "`-v WARNING` means that only waringins are shown in the log.  \n",
    "` --progress_bar None` will not show the animation progress bar  \n",
    "` --disable_caching` will disable the manim caching system"
   ]
  },
  {
   "cell_type": "code",
   "execution_count": null,
   "metadata": {},
   "outputs": [],
   "source": []
  }
 ],
 "metadata": {
  "kernelspec": {
   "display_name": "Python 3",
   "language": "python",
   "name": "python3"
  },
  "language_info": {
   "codemirror_mode": {
    "name": "ipython",
    "version": 3
   },
   "file_extension": ".py",
   "mimetype": "text/x-python",
   "name": "python",
   "nbconvert_exporter": "python",
   "pygments_lexer": "ipython3",
   "version": "3.9.2"
  }
 },
 "nbformat": 4,
 "nbformat_minor": 4
}
