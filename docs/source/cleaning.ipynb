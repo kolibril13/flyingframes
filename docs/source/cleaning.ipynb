{
 "cells": [
  {
   "cell_type": "code",
   "execution_count": null,
   "id": "f2d5baa5",
   "metadata": {},
   "outputs": [],
   "source": [
    "!jupyter nbconvert --clear-output --inplace ch1.ipynb"
   ]
  },
  {
   "cell_type": "code",
   "execution_count": null,
   "id": "3e067520",
   "metadata": {},
   "outputs": [],
   "source": [
    "!jupyter nbconvert --clear-output --inplace ch2.ipynb"
   ]
  },
  {
   "cell_type": "code",
   "execution_count": null,
   "id": "27ec9e25",
   "metadata": {},
   "outputs": [],
   "source": [
    "!jupyter nbconvert --clear-output --inplace ch3.ipynb"
   ]
  },
  {
   "cell_type": "code",
   "execution_count": null,
   "id": "77a968cd",
   "metadata": {},
   "outputs": [],
   "source": [
    "!jupyter nbconvert --clear-output --inplace ch4_color_example.ipynb"
   ]
  },
  {
   "cell_type": "code",
   "execution_count": null,
   "id": "8d1d5a75",
   "metadata": {},
   "outputs": [],
   "source": [
    "!jupyter nbconvert --clear-output --inplace cleaning.ipynb"
   ]
  }
 ],
 "metadata": {
  "kernelspec": {
   "display_name": "Python 3",
   "language": "python",
   "name": "python3"
  },
  "language_info": {
   "codemirror_mode": {
    "name": "ipython",
    "version": 3
   },
   "file_extension": ".py",
   "mimetype": "text/x-python",
   "name": "python",
   "nbconvert_exporter": "python",
   "pygments_lexer": "ipython3",
   "version": "3.9.2"
  }
 },
 "nbformat": 4,
 "nbformat_minor": 5
}
