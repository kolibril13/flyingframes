{
 "cells": [
  {
   "cell_type": "code",
   "execution_count": null,
   "id": "34aa00fb",
   "metadata": {},
   "outputs": [],
   "source": [
    "from pathlib import Path\n",
    "import os\n",
    "suffix = \".ipynb\"\n",
    "input_path= Path.cwd()\n",
    "file_paths= [subp for subp in input_path.glob('*') if  suffix == subp.suffix]\n",
    "if len(file_paths) == 0:\n",
    "        raise ValueError(\"No notebooks in folder\")\n",
    "file_paths.sort()\n",
    "#print(file_paths)\n",
    "for file_p in file_paths:\n",
    "    filepath = str(file_p)\n",
    "    if not \"cleaning\" in filepath:\n",
    "      #  command = f\"ffmpeg -i {input} -vframes 1 {output}.png\"\n",
    "        command= f\"jupyter nbconvert --clear-output --inplace {filepath}\"\n",
    "        os.system(command)\n",
    "        print(f\"Cleaning {filepath} complete\")"
   ]
  }
 ],
 "metadata": {
  "kernelspec": {
   "display_name": "Python 3",
   "language": "python",
   "name": "python3"
  },
  "language_info": {
   "codemirror_mode": {
    "name": "ipython",
    "version": 3
   },
   "file_extension": ".py",
   "mimetype": "text/x-python",
   "name": "python",
   "nbconvert_exporter": "python",
   "pygments_lexer": "ipython3",
   "version": "3.9.5"
  }
 },
 "nbformat": 4,
 "nbformat_minor": 5
}
