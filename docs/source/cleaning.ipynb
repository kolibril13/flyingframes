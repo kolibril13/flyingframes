{
 "cells": [
  {
   "cell_type": "code",
   "execution_count": null,
   "id": "39bf40b8",
   "metadata": {},
   "outputs": [],
   "source": [
    "!jupyter nbconvert --clear-output --inplace ch1.ipynb"
   ]
  },
  {
   "cell_type": "code",
   "execution_count": null,
   "id": "9cae3231",
   "metadata": {},
   "outputs": [],
   "source": [
    "!jupyter nbconvert --clear-output --inplace ch2.ipynb"
   ]
  },
  {
   "cell_type": "code",
   "execution_count": null,
   "id": "64234365",
   "metadata": {},
   "outputs": [],
   "source": [
    "!jupyter nbconvert --clear-output --inplace ch3.ipynb"
   ]
  },
  {
   "cell_type": "code",
   "execution_count": null,
   "id": "9f84e3fc",
   "metadata": {},
   "outputs": [],
   "source": [
    "!jupyter nbconvert --clear-output --inplace ch4.ipynb"
   ]
  },
  {
   "cell_type": "code",
   "execution_count": null,
   "id": "2632afe1",
   "metadata": {},
   "outputs": [],
   "source": [
    "!jupyter nbconvert --clear-output --inplace ch5.ipynb"
   ]
  },
  {
   "cell_type": "code",
   "execution_count": null,
   "id": "8da96e24",
   "metadata": {},
   "outputs": [],
   "source": [
    "!jupyter nbconvert --clear-output --inplace ch6.ipynb"
   ]
  },
  {
   "cell_type": "code",
   "execution_count": null,
   "id": "7e998136",
   "metadata": {},
   "outputs": [],
   "source": [
    "!jupyter nbconvert --clear-output --inplace cheatsheet.ipynb.ipynb"
   ]
  },
  {
   "cell_type": "code",
   "execution_count": null,
   "id": "ff6f5587",
   "metadata": {},
   "outputs": [],
   "source": [
    "!jupyter nbconvert --clear-output --inplace chtest.ipynb"
   ]
  },
  {
   "cell_type": "code",
   "execution_count": null,
   "id": "de756cef",
   "metadata": {},
   "outputs": [],
   "source": [
    "!jupyter nbconvert --clear-output --inplace chX_TOSORT.ipynb"
   ]
  },
  {
   "cell_type": "code",
   "execution_count": null,
   "id": "0c66b96a",
   "metadata": {},
   "outputs": [],
   "source": [
    "!jupyter nbconvert --clear-output --inplace cleaning.ipynb"
   ]
  }
 ],
 "metadata": {
  "kernelspec": {
   "display_name": "Python 3",
   "language": "python",
   "name": "python3"
  },
  "language_info": {
   "codemirror_mode": {
    "name": "ipython",
    "version": 3
   },
   "file_extension": ".py",
   "mimetype": "text/x-python",
   "name": "python",
   "nbconvert_exporter": "python",
   "pygments_lexer": "ipython3",
   "version": "3.9.2"
  }
 },
 "nbformat": 4,
 "nbformat_minor": 5
}
