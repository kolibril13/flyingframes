{
 "cells": [
  {
   "cell_type": "code",
   "execution_count": null,
   "id": "972aeaf2",
   "metadata": {},
   "outputs": [],
   "source": [
    "!jupyter nbconvert --clear-output --inplace ch1.ipynb"
   ]
  },
  {
   "cell_type": "code",
   "execution_count": null,
   "id": "d31161dc",
   "metadata": {},
   "outputs": [],
   "source": [
    "!jupyter nbconvert --clear-output --inplace ch2.ipynb"
   ]
  },
  {
   "cell_type": "code",
   "execution_count": null,
   "id": "96e53354",
   "metadata": {},
   "outputs": [],
   "source": [
    "!jupyter nbconvert --clear-output --inplace ch3.ipynb"
   ]
  },
  {
   "cell_type": "code",
   "execution_count": null,
   "id": "9de409a0",
   "metadata": {},
   "outputs": [],
   "source": [
    "!jupyter nbconvert --clear-output --inplace ch4_color_example.ipynb"
   ]
  },
  {
   "cell_type": "code",
   "execution_count": null,
   "id": "731fccee",
   "metadata": {},
   "outputs": [],
   "source": [
    "!jupyter nbconvert --clear-output --inplace cleaning.ipynb"
   ]
  }
 ],
 "metadata": {
  "kernelspec": {
   "display_name": "Python 3",
   "language": "python",
   "name": "python3"
  },
  "language_info": {
   "codemirror_mode": {
    "name": "ipython",
    "version": 3
   },
   "file_extension": ".py",
   "mimetype": "text/x-python",
   "name": "python",
   "nbconvert_exporter": "python",
   "pygments_lexer": "ipython3",
   "version": "3.9.2"
  }
 },
 "nbformat": 4,
 "nbformat_minor": 5
}
