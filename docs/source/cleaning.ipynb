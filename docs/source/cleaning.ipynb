{
 "cells": [
  {
   "cell_type": "code",
   "execution_count": null,
   "id": "1442498c",
   "metadata": {},
   "outputs": [],
   "source": [
    "!jupyter nbconvert --clear-output --inplace ch1.ipynb"
   ]
  },
  {
   "cell_type": "code",
   "execution_count": null,
   "id": "aacd854e",
   "metadata": {},
   "outputs": [],
   "source": [
    "!jupyter nbconvert --clear-output --inplace ch2.ipynb"
   ]
  },
  {
   "cell_type": "code",
   "execution_count": null,
   "id": "59ff8931",
   "metadata": {},
   "outputs": [],
   "source": [
    "!jupyter nbconvert --clear-output --inplace ch3.ipynb"
   ]
  },
  {
   "cell_type": "code",
   "execution_count": null,
   "id": "86691e78",
   "metadata": {},
   "outputs": [],
   "source": [
    "!jupyter nbconvert --clear-output --inplace ch4.ipynb"
   ]
  },
  {
   "cell_type": "code",
   "execution_count": null,
   "id": "651e3061",
   "metadata": {},
   "outputs": [],
   "source": [
    "!jupyter nbconvert --clear-output --inplace ch5.ipynb"
   ]
  },
  {
   "cell_type": "code",
   "execution_count": null,
   "id": "81721e2c",
   "metadata": {},
   "outputs": [],
   "source": [
    "!jupyter nbconvert --clear-output --inplace chtest.ipynb"
   ]
  },
  {
   "cell_type": "code",
   "execution_count": null,
   "id": "8c667cc2",
   "metadata": {},
   "outputs": [],
   "source": [
    "!jupyter nbconvert --clear-output --inplace chX_TOSORT.ipynb"
   ]
  },
  {
   "cell_type": "code",
   "execution_count": null,
   "id": "2d2cd30d",
   "metadata": {},
   "outputs": [],
   "source": [
    "!jupyter nbconvert --clear-output --inplace cleaning.ipynb"
   ]
  }
 ],
 "metadata": {
  "kernelspec": {
   "display_name": "Python 3",
   "language": "python",
   "name": "python3"
  },
  "language_info": {
   "codemirror_mode": {
    "name": "ipython",
    "version": 3
   },
   "file_extension": ".py",
   "mimetype": "text/x-python",
   "name": "python",
   "nbconvert_exporter": "python",
   "pygments_lexer": "ipython3",
   "version": "3.9.2"
  }
 },
 "nbformat": 4,
 "nbformat_minor": 5
}
