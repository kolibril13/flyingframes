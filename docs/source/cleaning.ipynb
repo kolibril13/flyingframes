{
 "cells": [
  {
   "cell_type": "code",
   "execution_count": null,
   "id": "3565bb5f",
   "metadata": {},
   "outputs": [],
   "source": [
    "!jupyter nbconvert --clear-output --inplace ch1.ipynb"
   ]
  },
  {
   "cell_type": "code",
   "execution_count": null,
   "id": "54052765",
   "metadata": {},
   "outputs": [],
   "source": [
    "!jupyter nbconvert --clear-output --inplace ch2.ipynb"
   ]
  },
  {
   "cell_type": "code",
   "execution_count": null,
   "id": "19b6d397",
   "metadata": {},
   "outputs": [],
   "source": [
    "!jupyter nbconvert --clear-output --inplace ch3.ipynb"
   ]
  },
  {
   "cell_type": "code",
   "execution_count": null,
   "id": "f98b725f",
   "metadata": {},
   "outputs": [],
   "source": [
    "!jupyter nbconvert --clear-output --inplace ch4.ipynb"
   ]
  },
  {
   "cell_type": "code",
   "execution_count": null,
   "id": "888008a1",
   "metadata": {},
   "outputs": [],
   "source": [
    "!jupyter nbconvert --clear-output --inplace ch5.ipynb"
   ]
  },
  {
   "cell_type": "code",
   "execution_count": null,
   "id": "c9ce1d89",
   "metadata": {},
   "outputs": [],
   "source": [
    "!jupyter nbconvert --clear-output --inplace ch6.ipynb"
   ]
  },
  {
   "cell_type": "code",
   "execution_count": null,
   "id": "acc5299d",
   "metadata": {},
   "outputs": [],
   "source": [
    "!jupyter nbconvert --clear-output --inplace cheatsheet.ipynb.ipynb"
   ]
  },
  {
   "cell_type": "code",
   "execution_count": null,
   "id": "51f25d29",
   "metadata": {},
   "outputs": [],
   "source": [
    "!jupyter nbconvert --clear-output --inplace chtest.ipynb"
   ]
  },
  {
   "cell_type": "code",
   "execution_count": null,
   "id": "3ffc9930",
   "metadata": {},
   "outputs": [],
   "source": [
    "!jupyter nbconvert --clear-output --inplace chX_TOSORT.ipynb"
   ]
  },
  {
   "cell_type": "code",
   "execution_count": null,
   "id": "f5a49629",
   "metadata": {},
   "outputs": [],
   "source": [
    "!jupyter nbconvert --clear-output --inplace cleaning.ipynb"
   ]
  },
  {
   "cell_type": "code",
   "execution_count": 27,
   "id": "c6bf9352",
   "metadata": {},
   "outputs": [
    {
     "name": "stdout",
     "output_type": "stream",
     "text": [
      "Cleaning /Users/jan-hendrik/projects/flyingframes/docs/source/ch1.ipynb complete\n",
      "Cleaning /Users/jan-hendrik/projects/flyingframes/docs/source/ch2.ipynb complete\n",
      "Cleaning /Users/jan-hendrik/projects/flyingframes/docs/source/ch3.ipynb complete\n",
      "Cleaning /Users/jan-hendrik/projects/flyingframes/docs/source/ch4.ipynb complete\n",
      "Cleaning /Users/jan-hendrik/projects/flyingframes/docs/source/ch5.ipynb complete\n",
      "Cleaning /Users/jan-hendrik/projects/flyingframes/docs/source/ch6.ipynb complete\n",
      "Cleaning /Users/jan-hendrik/projects/flyingframes/docs/source/chX_TOSORT.ipynb complete\n",
      "Cleaning /Users/jan-hendrik/projects/flyingframes/docs/source/cheatsheet.ipynb complete\n",
      "Cleaning /Users/jan-hendrik/projects/flyingframes/docs/source/chtest.ipynb complete\n"
     ]
    }
   ],
   "source": [
    "from pathlib import Path\n",
    "import os\n",
    "suffix = \".ipynb\"\n",
    "input_path= Path.cwd()\n",
    "file_paths= [subp for subp in input_path.glob('*') if  suffix == subp.suffix]\n",
    "if len(file_paths) == 0:\n",
    "        raise ValueError(\"No notebooks in folder\")\n",
    "file_paths.sort()\n",
    "#print(file_paths)\n",
    "for file_p in file_paths:\n",
    "    filepath = str(file_p)\n",
    "    if not \"cleaning\" in filepath:\n",
    "      #  command = f\"ffmpeg -i {input} -vframes 1 {output}.png\"\n",
    "        command= f\"jupyter nbconvert --clear-output --inplace {filepath}\"\n",
    "        os.system(command)\n",
    "        print(f\"Cleaning {filepath} complete\")"
   ]
  },
  {
   "cell_type": "code",
   "execution_count": null,
   "id": "974f5f43",
   "metadata": {},
   "outputs": [],
   "source": []
  }
 ],
 "metadata": {
  "kernelspec": {
   "display_name": "Python 3",
   "language": "python",
   "name": "python3"
  },
  "language_info": {
   "codemirror_mode": {
    "name": "ipython",
    "version": 3
   },
   "file_extension": ".py",
   "mimetype": "text/x-python",
   "name": "python",
   "nbconvert_exporter": "python",
   "pygments_lexer": "ipython3",
   "version": "3.9.2"
  }
 },
 "nbformat": 4,
 "nbformat_minor": 5
}
