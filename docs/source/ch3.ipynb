{
 "cells": [
  {
   "cell_type": "markdown",
   "metadata": {},
   "source": [
    "# Chapter 3 - Animations\n",
    " "
   ]
  },
  {
   "cell_type": "markdown",
   "metadata": {},
   "source": [
    "There are wide range of possibilities to animate your mobjects , that all work a bit differently. Here is a broad overview, so that you can choose the animation stategy that fits best for your project. This chapter will cover `ValueTrackers`, `Updaters`, `self.play Transformations` the `mobject.animate` syntax and `mobject.become` syntax."
   ]
  },
  {
   "cell_type": "code",
   "execution_count": null,
   "metadata": {},
   "outputs": [],
   "source": [
    "from manim import *"
   ]
  },
  {
   "cell_type": "code",
   "execution_count": null,
   "metadata": {},
   "outputs": [],
   "source": [
    "#ignore this cell, only for setup\n",
    "params= \"-v WARNING  --progress_bar None  -r  500,100  --disable_caching Example\"\n",
    "params= \"-v WARNING  --progress_bar None  -r  500,200  --disable_caching Example\"\n",
    "params15fps = \"-v WARNING  --progress_bar None -ql  -r  500,200  --disable_caching Example\""
   ]
  },
  {
   "cell_type": "markdown",
   "metadata": {},
   "source": [
    "## Simple Replacements"
   ]
  },
  {
   "cell_type": "code",
   "execution_count": null,
   "metadata": {},
   "outputs": [],
   "source": [
    "%%manim $params\n",
    "class Example(Scene):\n",
    "    def construct(self):\n",
    "        dot= Dot(color= YELLOW, radius=0.5)\n",
    "        self.add(dot)\n",
    "        self.wait()\n",
    "        dot.scale(2)\n",
    "        self.wait()\n",
    "        dot.scale(2)\n",
    "        self.wait(2)"
   ]
  },
  {
   "cell_type": "code",
   "execution_count": null,
   "metadata": {},
   "outputs": [],
   "source": [
    "%%manim $params\n",
    "class Example(Scene):\n",
    "    def construct(self):\n",
    "        dot= Dot(color= YELLOW, radius=0.5)\n",
    "        square= Square(side_length=4,color= BLUE, fill_opacity=1)\n",
    "        triangle= Triangle(radius=3,color= ORANGE, fill_opacity=1).shift(DOWN*0.5)\n",
    "        self.add(dot)\n",
    "        self.wait()\n",
    "        dot.become(square)\n",
    "        self.wait()\n",
    "        dot.become(triangle)\n",
    "        self.wait()"
   ]
  },
  {
   "cell_type": "markdown",
   "metadata": {},
   "source": [
    "## Using **.animate** Syntax"
   ]
  },
  {
   "cell_type": "code",
   "execution_count": null,
   "metadata": {},
   "outputs": [],
   "source": [
    "%%manim $params\n",
    "class Example(Scene):\n",
    "    def construct(self):\n",
    "        dot= Dot(color= YELLOW, radius=0.5)\n",
    "        self.play(dot.animate.scale(2))"
   ]
  },
  {
   "cell_type": "code",
   "execution_count": null,
   "metadata": {
    "tags": []
   },
   "outputs": [],
   "source": [
    "%%manim $params\n",
    "class Example(Scene):\n",
    "    def construct(self):\n",
    "        dot= Dot(color= YELLOW, radius=0.5)\n",
    "        self.play(dot.animate.shift(2*RIGHT))"
   ]
  },
  {
   "cell_type": "code",
   "execution_count": null,
   "metadata": {},
   "outputs": [],
   "source": [
    "%%manim $params\n",
    "class Example(Scene):\n",
    "    def construct(self):\n",
    "        dot= Dot(color= YELLOW, radius=0.5)\n",
    "        self.play(dot.animate.set_color(BLUE))"
   ]
  },
  {
   "cell_type": "code",
   "execution_count": null,
   "metadata": {},
   "outputs": [],
   "source": [
    "%%manim $params\n",
    "class Example(Scene):\n",
    "    def construct(self):\n",
    "        dot= Dot(color= YELLOW, radius=0.5)\n",
    "        self.play(dot.animate.shift(2*RIGHT).scale(2))"
   ]
  },
  {
   "cell_type": "code",
   "execution_count": null,
   "metadata": {},
   "outputs": [],
   "source": [
    "%%manim $params\n",
    "class Example(Scene):\n",
    "    def construct(self):\n",
    "        dot= Dot(color= YELLOW, radius=0.5)\n",
    "        self.play(dot.animate.shift(2*RIGHT).scale(2).set_color(BLUE))"
   ]
  },
  {
   "cell_type": "markdown",
   "metadata": {},
   "source": [
    "## Updaters\n",
    "They are very diverse!\n",
    "And they can be used with and without a \"dt\" parameter"
   ]
  },
  {
   "cell_type": "code",
   "execution_count": null,
   "metadata": {},
   "outputs": [],
   "source": [
    "%%manim $params\n",
    "class Example(Scene):\n",
    "    def construct(self):\n",
    "        dot = Dot(color= GREEN, radius=0.7)\n",
    "        self.add(dot)\n",
    "        dot.add_updater(lambda x,dt: x.shift(2*RIGHT*dt))\n",
    "        self.wait(3)"
   ]
  },
  {
   "cell_type": "code",
   "execution_count": null,
   "metadata": {},
   "outputs": [],
   "source": [
    "%%manim $params\n",
    "class Example(Scene):\n",
    "    def construct(self):\n",
    "        dot = Dot(color= GREEN, radius=0.7)\n",
    "        self.add(dot)\n",
    "        def foo(mob,dt):\n",
    "            mob.shift(2*RIGHT*dt)\n",
    "        dot.add_updater(foo)\n",
    "        self.wait(3)"
   ]
  },
  {
   "cell_type": "markdown",
   "metadata": {},
   "source": [
    "note: Not using the \"dt\" parameter will make your animation framerate dependent, but this can be solved using ValueTracker, which can be seen in the next section"
   ]
  },
  {
   "cell_type": "markdown",
   "metadata": {},
   "source": [
    "## Updaters + ValueTrackers"
   ]
  },
  {
   "cell_type": "code",
   "execution_count": null,
   "metadata": {},
   "outputs": [],
   "source": [
    "%%manim $params\n",
    "class Example(Scene):\n",
    "    def construct(self):\n",
    "        tracker= ValueTracker(0)\n",
    "        dot = Dot(color= GREEN, radius=0.7)\n",
    "        self.add(dot)\n",
    "        def foo(mob):\n",
    "            mob.move_to(RIGHT*tracker.get_value())\n",
    "        dot.add_updater(foo)\n",
    "        self.play(tracker.animate.set_value(2), rate_func= linear)"
   ]
  },
  {
   "cell_type": "markdown",
   "metadata": {},
   "source": [
    "Note: now you can also use rate functions:"
   ]
  },
  {
   "cell_type": "code",
   "execution_count": null,
   "metadata": {},
   "outputs": [],
   "source": [
    "%%manim $params\n",
    "class Example(Scene):\n",
    "    def construct(self):\n",
    "        tracker= ValueTracker(0)\n",
    "        dot = Dot(color= GREEN, radius=0.7)\n",
    "        self.add(dot)\n",
    "        def foo(mob):\n",
    "            mob.move_to(RIGHT*tracker.get_value())\n",
    "        dot.add_updater(foo)\n",
    "        self.play(tracker.animate.set_value(2), rate_func= smooth)"
   ]
  },
  {
   "cell_type": "code",
   "execution_count": null,
   "metadata": {},
   "outputs": [],
   "source": [
    "%%manim $params\n",
    "class Example(Scene):\n",
    "    def construct(self):\n",
    "        tracker= ValueTracker(4)\n",
    "        dot = Dot(color= GREEN, radius=0.7)\n",
    "        self.add(dot)\n",
    "        def foo(mob):\n",
    "            mob.move_to(RIGHT*tracker.get_value())\n",
    "        dot.add_updater(foo)\n",
    "        self.play(tracker.animate.set_value(2), rate_func= smooth)\n",
    "        self.play(tracker.animate.increment_value(1), rate_func= smooth)\n",
    "        self.play(tracker.animate.increment_value(-1), rate_func= smooth)\n"
   ]
  },
  {
   "cell_type": "code",
   "execution_count": null,
   "metadata": {},
   "outputs": [],
   "source": [
    "%%manim $params\n",
    "#one can now also add additional properties to mobjects, in this case a counter.\n",
    "class Example(Scene):\n",
    "    def construct(self):\n",
    "        tracker= ValueTracker(0)\n",
    "        dot = Dot(color= GREEN, radius=0.7)\n",
    "        self.add(dot)\n",
    "        dot.counter=0\n",
    "        def foo(mob):\n",
    "            mob.move_to(RIGHT*tracker.get_value())\n",
    "            if mob.counter == 20:\n",
    "                mob.set_color(random_bright_color())\n",
    "                mob.counter = 0\n",
    "            mob.counter += 1\n",
    "        dot.add_updater(foo)\n",
    "        self.play(tracker.animate.set_value(2), rate_func= linear, run_time=3)"
   ]
  },
  {
   "cell_type": "markdown",
   "metadata": {},
   "source": [
    "## Transformations"
   ]
  },
  {
   "cell_type": "code",
   "execution_count": null,
   "metadata": {},
   "outputs": [],
   "source": [
    "%%manim $params\n",
    "class Example(Scene):\n",
    "    def construct(self):\n",
    "        d= Dot(color= YELLOW, radius=0.5)\n",
    "        d2= d.copy().shift(2*RIGHT)\n",
    "        self.play(Transform(d, d2))"
   ]
  },
  {
   "cell_type": "markdown",
   "metadata": {},
   "source": [
    "## Does and Donts"
   ]
  },
  {
   "cell_type": "markdown",
   "metadata": {},
   "source": [
    "Note that when you choose to work with updaters, your script might depend on the frame rate.\n",
    "The below two examples are the exact same examples, but one is "
   ]
  },
  {
   "cell_type": "code",
   "execution_count": null,
   "metadata": {},
   "outputs": [],
   "source": [
    "%%manim $params\n",
    "class Example(Scene):\n",
    "    def construct(self):\n",
    "        print(f\"{config.frame_rate = }fps\")\n",
    "        dotred= Dot(color= RED, radius=0.5).shift(UP)\n",
    "        dotgreen = Dot(color= GREEN, radius=0.5)\n",
    "        dotgreen.next_to(dotred,DOWN)\n",
    "        self.add(dotgreen,dotred)\n",
    "        DIR= 2*RIGHT\n",
    "        dotgreen.add_updater(lambda x,dt: x.shift(DIR*dt))\n",
    "        dotred.add_updater(lambda x,dt: x.shift(DIR*1/60))\n",
    "        self.wait(3)"
   ]
  },
  {
   "cell_type": "code",
   "execution_count": null,
   "metadata": {},
   "outputs": [],
   "source": [
    "%%manim $params15fps\n",
    "class Example(Scene):\n",
    "    def construct(self):\n",
    "        print(f\"{config.frame_rate = }fps\")\n",
    "        dotred= Dot(color= RED, radius=0.5).shift(UP)\n",
    "        dotgreen = Dot(color= GREEN, radius=0.5)\n",
    "        dotgreen.next_to(dotred,DOWN)\n",
    "        self.add(dotgreen,dotred)\n",
    "        DIR= 2*RIGHT\n",
    "        dotgreen.add_updater(lambda x,dt: x.shift(DIR*dt))\n",
    "        dotred.add_updater(lambda x,dt: x.shift(DIR*1/60))\n",
    "        self.wait(3)"
   ]
  },
  {
   "cell_type": "markdown",
   "metadata": {},
   "source": [
    "### Rotation animation\n",
    "there are multiple ways to rotate a square, but not all will result in that animation that you might have expected."
   ]
  },
  {
   "cell_type": "code",
   "execution_count": null,
   "metadata": {},
   "outputs": [],
   "source": [
    "%%manim $params\n",
    "\n",
    "class Example(Scene):\n",
    "    def construct(self, **kwargs):\n",
    "        s1= Square().set_color(YELLOW)\n",
    "        self.add(s1)\n",
    "        self.play(Rotate(s1, angle=PI/2))"
   ]
  },
  {
   "cell_type": "code",
   "execution_count": null,
   "metadata": {},
   "outputs": [],
   "source": [
    "%%manim $params\n",
    "class Example(Scene):\n",
    "    def construct(self, **kwargs):\n",
    "        s2= Square().set_color(PURPLE)\n",
    "        self.add(s2)\n",
    "        self.play(s2.animate.rotate(PI/2))"
   ]
  },
  {
   "cell_type": "code",
   "execution_count": null,
   "metadata": {},
   "outputs": [],
   "source": [
    "%%manim $params\n",
    "\n",
    "class Example(Scene):\n",
    "    def construct(self, **kwargs):\n",
    "        theta_track= ValueTracker(0)\n",
    "        s3= Square().set_color(ORANGE)\n",
    "        self.add(s3)\n",
    "        s3.previous_angle=0\n",
    "        def pref(x):\n",
    "            x.previous_angle=theta_track.get_value()\n",
    "        s3.add_updater(lambda x: x.rotate(theta_track.get_value()-s3.previous_angle))\n",
    "        s3.add_updater(pref)\n",
    "        self.play(theta_track.animate.increment_value(PI/2))\n"
   ]
  },
  {
   "cell_type": "code",
   "execution_count": null,
   "metadata": {},
   "outputs": [],
   "source": [
    "#not yet implemented\n",
    "#class Example(Scene):\n",
    "#    def construct(self, **kwargs):\n",
    "        #s3b= Square().set_color(YELLOW)\n",
    "        #self.add(s3b)\n",
    "        #theta_track= DeltaValueTracker(0)\n",
    "        #s3b.add_updater(lambda x: x.rotate(theta_track.get_delta_value()))\n",
    "        #self.play(theta_track.animate.set_value(90*DEGREES))"
   ]
  },
  {
   "cell_type": "code",
   "execution_count": null,
   "metadata": {},
   "outputs": [],
   "source": [
    "%%manim $params\n",
    "# NOT WORKING!, BAD PRACTICE.\n",
    "class Example(Scene):\n",
    "    def construct(self, **kwargs):\n",
    "        s4= Square().set_color(GREEN)\n",
    "        self.add(s4)\n",
    "        theta_track= ValueTracker(0)\n",
    "        s4.add_updater(lambda x: x.rotate(theta_track.get_value()))\n",
    "        self.play(theta_track.animate.increment_value(PI/2))"
   ]
  },
  {
   "cell_type": "code",
   "execution_count": null,
   "metadata": {},
   "outputs": [],
   "source": [
    "%%manim $params\n",
    "class Example(Scene):\n",
    "    def construct(self, **kwargs):\n",
    "        s6= Square().set_color(PINK)\n",
    "        self.add(s6)\n",
    "        s6.add_updater(lambda x, dt: x.rotate(dt*PI/2))\n",
    "        self.wait(1)"
   ]
  },
  {
   "cell_type": "code",
   "execution_count": null,
   "metadata": {},
   "outputs": [],
   "source": []
  }
 ],
 "metadata": {
  "kernelspec": {
   "display_name": "Python 3",
   "language": "python",
   "name": "python3"
  },
  "language_info": {
   "codemirror_mode": {
    "name": "ipython",
    "version": 3
   },
   "file_extension": ".py",
   "mimetype": "text/x-python",
   "name": "python",
   "nbconvert_exporter": "python",
   "pygments_lexer": "ipython3",
   "version": "3.9.2"
  }
 },
 "nbformat": 4,
 "nbformat_minor": 4
}
