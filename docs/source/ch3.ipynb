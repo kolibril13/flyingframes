{
 "cells": [
  {
   "cell_type": "markdown",
   "id": "b97af06a",
   "metadata": {},
   "source": [
    "# Mobject Basics\n",
    "\n",
    "After reading this chapter, you will be able to build up Mobjects on scenes, no animations included yet. There will be lots of minimal examples and only very brief explanations."
   ]
  },
  {
   "cell_type": "code",
   "execution_count": null,
   "id": "495c6464",
   "metadata": {},
   "outputs": [],
   "source": [
    "from manim import * "
   ]
  },
  {
   "cell_type": "code",
   "execution_count": null,
   "id": "29f834d0",
   "metadata": {},
   "outputs": [],
   "source": [
    "#ignore this cell, only for setup\n",
    "param = \"-v WARNING -r 500,100 -s  --disable_caching Example\"\n",
    "parambigger = \"-v WARNING -r 500,120 -s  --disable_caching Example\""
   ]
  },
  {
   "cell_type": "markdown",
   "id": "9f014daa",
   "metadata": {},
   "source": [
    "## Positioning\n",
    "First we want to position mobjects.\n",
    "There are tons of options, and not everything will be covered here.\n",
    "\n",
    "### set positions\n",
    "Some important methods to set positions are:  \n",
    "`shift` `move_to`  `align_to` , `next_to` ,`to_corner` , `to_edge` , `arrange` , `arrange_in_grid` "
   ]
  },
  {
   "cell_type": "code",
   "execution_count": null,
   "id": "5d3f2680",
   "metadata": {},
   "outputs": [],
   "source": [
    "dORIGIN= Dot(color= BLUE,radius=0.5)"
   ]
  },
  {
   "cell_type": "code",
   "execution_count": null,
   "id": "247a5f6a",
   "metadata": {},
   "outputs": [],
   "source": [
    "%%manim $param\n",
    "class Example(Scene):\n",
    "    def construct(self):\n",
    "        d= Dot(color= YELLOW, radius=0.5)\n",
    "        d.shift(2*RIGHT)\n",
    "        self.add(dORIGIN, d)"
   ]
  },
  {
   "cell_type": "code",
   "execution_count": null,
   "id": "a2d28777",
   "metadata": {},
   "outputs": [],
   "source": [
    "%%manim $param\n",
    "class Example(Scene):\n",
    "    def construct(self):\n",
    "        d= Dot(color= YELLOW, radius=0.5)\n",
    "        d.shift(3*RIGHT+0.8*UP)\n",
    "        self.add(dORIGIN, d)"
   ]
  },
  {
   "cell_type": "code",
   "execution_count": null,
   "id": "dac2eea6",
   "metadata": {},
   "outputs": [],
   "source": [
    "%%manim $param\n",
    "class Example(Scene):\n",
    "    def construct(self):\n",
    "        d= Dot(color= ORANGE, radius=0.5)\n",
    "        d.next_to(dORIGIN, LEFT)\n",
    "        self.add(dORIGIN, d)"
   ]
  },
  {
   "cell_type": "code",
   "execution_count": null,
   "id": "e6f330a5",
   "metadata": {},
   "outputs": [],
   "source": [
    "%%manim $param\n",
    "class Example(Scene):\n",
    "    def construct(self):\n",
    "        d= Dot(color= ORANGE, radius=0.5)\n",
    "        d.next_to(dORIGIN, LEFT, buff=0)\n",
    "        self.add(dORIGIN, d)"
   ]
  },
  {
   "cell_type": "code",
   "execution_count": null,
   "id": "eba2c3b4",
   "metadata": {},
   "outputs": [],
   "source": [
    "%%manim $param\n",
    "class Example(Scene):\n",
    "    def construct(self):\n",
    "        d= Dot(color= ORANGE, radius=0.5)\n",
    "        d.next_to(dORIGIN, LEFT, buff=4)\n",
    "        self.add(dORIGIN, d)"
   ]
  },
  {
   "cell_type": "code",
   "execution_count": null,
   "id": "d525aa0f",
   "metadata": {},
   "outputs": [],
   "source": [
    "%%manim $param\n",
    "class Example(Scene):\n",
    "    def construct(self):\n",
    "        d= Dot(color= ORANGE, radius=0.5)\n",
    "        d.next_to(dORIGIN, UL,buff=-0.5) # UL is UPLEFT \n",
    "        self.add(dORIGIN, d)"
   ]
  },
  {
   "cell_type": "code",
   "execution_count": null,
   "id": "1355b58d",
   "metadata": {},
   "outputs": [],
   "source": [
    "%%manim $param\n",
    "class Example(Scene):\n",
    "    def construct(self):\n",
    "        d= Dot(color= ORANGE, radius=0.5)\n",
    "        d.to_edge(LEFT)\n",
    "        self.add(dORIGIN, d)"
   ]
  },
  {
   "cell_type": "code",
   "execution_count": null,
   "id": "5ddbed65",
   "metadata": {},
   "outputs": [],
   "source": [
    "%%manim $param\n",
    "class Example(Scene):\n",
    "    def construct(self):\n",
    "        s= Star(stroke_width=10)\n",
    "        d=Dot(color= ORANGE, radius=0.5)\n",
    "        d.align_to(s,DOWN)\n",
    "        self.add(s,d)"
   ]
  },
  {
   "cell_type": "code",
   "execution_count": null,
   "id": "cf38e2f3",
   "metadata": {},
   "outputs": [],
   "source": [
    "%%manim $param\n",
    "class Example(Scene):\n",
    "    def construct(self):\n",
    "        s= Star(stroke_width=10)\n",
    "        d=Dot(color= ORANGE, radius=0.5)\n",
    "        d.next_to(s,RIGHT, aligned_edge=UP) #next to and align combined\n",
    "        self.add(s,d)\n"
   ]
  },
  {
   "cell_type": "code",
   "execution_count": null,
   "id": "27c7620a",
   "metadata": {},
   "outputs": [],
   "source": [
    "%%manim $param\n",
    "class Example(Scene):\n",
    "    def construct(self):\n",
    "        for i in range(0,10):\n",
    "            self.add(Dot(color= ORANGE, radius=0.5))\n",
    "        VGroup(*self.mobjects).arrange()"
   ]
  },
  {
   "cell_type": "code",
   "execution_count": null,
   "id": "f7adf37b",
   "metadata": {},
   "outputs": [],
   "source": [
    "%%manim $param\n",
    "class Example(Scene):\n",
    "    def construct(self):\n",
    "        for i in range(0,24):\n",
    "            self.add(Dot(color= ORANGE, radius=0.2))\n",
    "        VGroup(*self.mobjects).arrange_in_grid(cols=6)"
   ]
  },
  {
   "cell_type": "markdown",
   "id": "aa5a871c",
   "metadata": {},
   "source": [
    "### get positions\n",
    "The most important methods to get positions:  \n",
    "`get_center` , `get_top` , `get_right` , `get_start`"
   ]
  },
  {
   "cell_type": "code",
   "execution_count": null,
   "id": "d8e4105a",
   "metadata": {},
   "outputs": [],
   "source": [
    "s= Star(stroke_width=10)\n",
    "d=Dot(color= YELLOW, radius=0.2)"
   ]
  },
  {
   "cell_type": "code",
   "execution_count": null,
   "id": "6e0d27b2",
   "metadata": {},
   "outputs": [],
   "source": [
    "%%manim $param\n",
    "class Example(Scene):\n",
    "    def construct(self):\n",
    "        pos= s.get_center()\n",
    "        self.add(s, d.move_to(pos))"
   ]
  },
  {
   "cell_type": "code",
   "execution_count": null,
   "id": "214d58ba",
   "metadata": {},
   "outputs": [],
   "source": [
    "%%manim $param\n",
    "class Example(Scene):\n",
    "    def construct(self):\n",
    "        pos= s.get_center_of_mass()\n",
    "        self.add(s, d.move_to(pos))"
   ]
  },
  {
   "cell_type": "code",
   "execution_count": null,
   "id": "64cb8b91",
   "metadata": {},
   "outputs": [],
   "source": [
    "%%manim $param\n",
    "class Example(Scene):\n",
    "    def construct(self):\n",
    "        pos= s.get_top()\n",
    "        self.add(s, d.move_to(pos))"
   ]
  },
  {
   "cell_type": "code",
   "execution_count": null,
   "id": "cca5f2a3",
   "metadata": {},
   "outputs": [],
   "source": [
    "%%manim $param\n",
    "class Example(Scene):\n",
    "    def construct(self):\n",
    "        pos= s.get_right()\n",
    "        self.add(s, d.move_to(pos))"
   ]
  },
  {
   "cell_type": "code",
   "execution_count": null,
   "id": "58805ab6",
   "metadata": {},
   "outputs": [],
   "source": [
    "%%manim $param\n",
    "class Example(Scene):\n",
    "    def construct(self):\n",
    "        pos= s.get_bottom()\n",
    "        self.add(s, d.move_to(pos))"
   ]
  },
  {
   "cell_type": "code",
   "execution_count": null,
   "id": "6efeeab3",
   "metadata": {},
   "outputs": [],
   "source": [
    "%%manim $param\n",
    "class Example(Scene):\n",
    "    def construct(self):\n",
    "        pos= s.get_left()\n",
    "        self.add(s, d.move_to(pos))"
   ]
  },
  {
   "cell_type": "code",
   "execution_count": null,
   "id": "2b62ed39",
   "metadata": {},
   "outputs": [],
   "source": [
    "%%manim $param\n",
    "class Example(Scene):\n",
    "    def construct(self):\n",
    "        pos= s.get_corner(UL)\n",
    "        self.add(s, d.move_to(pos))"
   ]
  },
  {
   "cell_type": "code",
   "execution_count": null,
   "id": "ec0b2589",
   "metadata": {},
   "outputs": [],
   "source": [
    "%%manim $param\n",
    "class Example(Scene):\n",
    "    def construct(self):\n",
    "        pos= s.get_corner(DR)\n",
    "        self.add(s, d.move_to(pos))"
   ]
  },
  {
   "cell_type": "code",
   "execution_count": null,
   "id": "0eba150d",
   "metadata": {},
   "outputs": [],
   "source": [
    "arc= Arc(radius=1.0, start_angle=-PI/16, angle=PI, stroke_width=10)"
   ]
  },
  {
   "cell_type": "code",
   "execution_count": null,
   "id": "40aa8234",
   "metadata": {},
   "outputs": [],
   "source": [
    "%%manim $param\n",
    "class Example(Scene):\n",
    "    def construct(self):\n",
    "        pos= arc.get_start()\n",
    "        self.add(arc, d.move_to(pos))"
   ]
  },
  {
   "cell_type": "code",
   "execution_count": null,
   "id": "04bb8690",
   "metadata": {},
   "outputs": [],
   "source": [
    "%%manim $param\n",
    "class Example(Scene):\n",
    "    def construct(self):\n",
    "        pos= arc.get_end()\n",
    "        self.add(arc, d.move_to(pos))"
   ]
  },
  {
   "cell_type": "code",
   "execution_count": null,
   "id": "edd56a87",
   "metadata": {},
   "outputs": [],
   "source": [
    "%%manim $param\n",
    "class Example(Scene):\n",
    "    def construct(self):\n",
    "        pos= arc.get_midpoint()\n",
    "        self.add(arc, d.move_to(pos))"
   ]
  },
  {
   "cell_type": "code",
   "execution_count": null,
   "id": "1cd58fc0",
   "metadata": {},
   "outputs": [],
   "source": [
    "%%manim $param\n",
    "class Example(Scene):\n",
    "    def construct(self):\n",
    "        pos= arc.point_from_proportion(0.2)\n",
    "        self.add(arc, d.move_to(pos))"
   ]
  },
  {
   "cell_type": "code",
   "execution_count": null,
   "id": "9eb1bb90",
   "metadata": {},
   "outputs": [],
   "source": [
    "%%manim $param\n",
    "class Example(Scene):\n",
    "    def construct(self):\n",
    "        pos= arc.get_center()\n",
    "        self.add(arc, d.move_to(pos))"
   ]
  },
  {
   "cell_type": "code",
   "execution_count": null,
   "id": "d83a2cd6",
   "metadata": {},
   "outputs": [],
   "source": [
    "%%manim $param\n",
    "class Example(Scene):\n",
    "    def construct(self):\n",
    "        pos= arc.get_center_of_mass()\n",
    "        self.add(arc, d.move_to(pos))"
   ]
  },
  {
   "cell_type": "code",
   "execution_count": null,
   "id": "d77249f4",
   "metadata": {},
   "outputs": [],
   "source": [
    "%%manim $param\n",
    "class Example(Scene):\n",
    "    def construct(self):\n",
    "        pos= arc.get_arc_center()\n",
    "        self.add(arc, d.move_to(pos))"
   ]
  },
  {
   "cell_type": "code",
   "execution_count": null,
   "id": "fd226e00",
   "metadata": {},
   "outputs": [],
   "source": [
    "%%manim $param\n",
    "class Example(Scene): #Example for `get_x` , `get_y`, `set_x` and `set_y`\n",
    "    def construct(self):\n",
    "        d = Dot(point=[3,1,0],radius=0.2,color= BLUE)\n",
    "        triangle= Triangle(color=YELLOW, stroke_width=10).scale(0.5)\n",
    "        x_pos=d.get_x() \n",
    "        print(x_pos)\n",
    "        triangle.set_x(x_pos)\n",
    "        self.add(d, triangle)"
   ]
  },
  {
   "cell_type": "code",
   "execution_count": null,
   "id": "c4186e54",
   "metadata": {},
   "outputs": [],
   "source": [
    "%%manim $param\n",
    "class Example(Scene): #Example for `get_x` , `get_y`, `set_x` and `set_y`\n",
    "    def construct(self):\n",
    "        d = Dot(point=[3,1,0],radius=0.2,color= BLUE)\n",
    "        triangle= Triangle(color=YELLOW, stroke_width=10).scale(0.5)\n",
    "        y_pos=d.get_y() \n",
    "        print(y_pos)\n",
    "        triangle.set_y(y_pos)\n",
    "        self.add(d, triangle)"
   ]
  },
  {
   "cell_type": "markdown",
   "id": "7d04cf24",
   "metadata": {
    "tags": []
   },
   "source": [
    "## Scaling and Stretching"
   ]
  },
  {
   "cell_type": "code",
   "execution_count": null,
   "id": "4d79d8f7",
   "metadata": {},
   "outputs": [],
   "source": [
    "%%manim $param\n",
    "class Example(Scene):\n",
    "    def construct(self):\n",
    "        d= Dot(color= YELLOW)\n",
    "        d.scale(10)\n",
    "        self.add(d)"
   ]
  },
  {
   "cell_type": "code",
   "execution_count": null,
   "id": "058fcf8d",
   "metadata": {},
   "outputs": [],
   "source": [
    "%%manim $param\n",
    "class Example(Scene):\n",
    "    def construct(self):\n",
    "        d= Dot(color= YELLOW)\n",
    "        d.scale(10)\n",
    "        d.stretch(4, dim = 0) # dim = 0 means vertical\n",
    "        self.add(d)"
   ]
  },
  {
   "cell_type": "code",
   "execution_count": null,
   "id": "50bc90ab",
   "metadata": {},
   "outputs": [],
   "source": [
    "%%manim $parambigger\n",
    "class Example(Scene):\n",
    "    def construct(self):\n",
    "        d= Dot(color= YELLOW)\n",
    "        d.scale(10)\n",
    "        d.stretch(2, dim = 1) # dim = 1 means horizontal\n",
    "        self.add(d)"
   ]
  },
  {
   "cell_type": "code",
   "execution_count": null,
   "id": "bc39d987",
   "metadata": {},
   "outputs": [],
   "source": [
    "%%manim $param\n",
    "class Example(Scene):\n",
    "    def construct(self):\n",
    "        d= Dot(color= YELLOW)\n",
    "        d.scale(10)\n",
    "        d.apply_matrix([[0.5, 0.5, 0], # shear matrix\n",
    "                        [ 0 ,  1 , 0],\n",
    "                        [ 0 ,  0 , 1]])\n",
    "        self.add(d)"
   ]
  },
  {
   "cell_type": "markdown",
   "id": "d9701009",
   "metadata": {},
   "source": [
    "## Rotating"
   ]
  },
  {
   "cell_type": "code",
   "execution_count": null,
   "id": "eb5efb2f",
   "metadata": {},
   "outputs": [],
   "source": [
    "%%manim $parambigger\n",
    "class Example(Scene):\n",
    "    def construct(self):\n",
    "        m= ManimBanner().scale(0.5)\n",
    "        m.rotate(PI/8)\n",
    "        self.add(m)"
   ]
  },
  {
   "cell_type": "code",
   "execution_count": null,
   "id": "47dee3e9",
   "metadata": {},
   "outputs": [],
   "source": [
    "%%manim $parambigger\n",
    "class Example(Scene):\n",
    "    def construct(self):\n",
    "        m= ManimBanner().scale(0.5)\n",
    "        m.rotate(-20*DEGREES)\n",
    "        self.add(m)"
   ]
  },
  {
   "cell_type": "code",
   "execution_count": null,
   "id": "13c17f65",
   "metadata": {},
   "outputs": [],
   "source": [
    "%%manim $parambigger\n",
    "class Example(Scene):\n",
    "    def construct(self):\n",
    "        m= ManimBanner().scale(0.5)\n",
    "        self.add(m.copy())\n",
    "        m.rotate(about_point=2*LEFT, angle=180*DEGREES)\n",
    "        self.add(m, Dot(2*LEFT,radius=0.1))"
   ]
  },
  {
   "cell_type": "code",
   "execution_count": null,
   "id": "5b1dd29d",
   "metadata": {},
   "outputs": [],
   "source": [
    "%%manim $parambigger\n",
    "class Example(Scene):\n",
    "    def construct(self):\n",
    "        m= ManimBanner().scale(0.5)\n",
    "        m.rotate(axis=UP,angle=60*DEGREES)\n",
    "        self.add(m)"
   ]
  },
  {
   "cell_type": "markdown",
   "id": "97db5bf6",
   "metadata": {},
   "source": [
    "------------\n",
    "------------"
   ]
  },
  {
   "cell_type": "markdown",
   "id": "d0d9b07b",
   "metadata": {},
   "source": [
    "<div class=\"alert alert-info\">\n",
    "\n",
    "Note\n",
    "\n",
    "Python is very fertile tool, there multiple ways to accomplish a certain task, but some options are not \"best practice\". \n",
    "For the methods in the next chapters, I want to show the best practice (labeled with **BEST** and the **green check with the star**), other possible options (labeled with **YES** and the **green check**), and options that do not work (labeled with **NO** and the **red cross**)\n",
    "\n",
    "</div>"
   ]
  },
  {
   "cell_type": "code",
   "execution_count": null,
   "id": "54756790",
   "metadata": {},
   "outputs": [],
   "source": [
    "# ignore this cell, only for setup\n",
    "YES = SVGMobject(\"good.svg\").to_edge(LEFT, buff=1)\n",
    "BEST = YES.copy()\n",
    "BEST.add(Star(color= YELLOW, fill_opacity=1).scale(0.5).move_to(BEST).shift(0.5*DOWN+0.5*RIGHT))\n",
    "NO  = Cross(Square(), stroke_color = RED_D, stroke_width = 38).scale(0.9).move_to(YES)"
   ]
  },
  {
   "cell_type": "markdown",
   "id": "0482381b",
   "metadata": {},
   "source": [
    "## Colors and Opacity  \n",
    "\n",
    "* Color parameters for Mobjects are `stroke_color`, `fill_color` and `color`.   The parameter  `color` automatically sets both `stroke_color` and `fill_color`.  \n",
    "The recommended ways to set **colors** are via  `c = Circle(fill_color= BLUE, fill_opacity= 1 )` , `c.set_fill(color=RED)` or `c.set_style(fill_color=GREEN)`  \n",
    "Not possible are `c.fill_color=YELLOW` ,   `c.set(fill_color=YELLOW)` and `c.set_fill_color(YELLOW)`  \n",
    "\n",
    "\n",
    "* Opacity parameters for Mobjects are `fill_opacity` and `stroke_opacity` (there is **not**  `opacity` here).  \n",
    "The recommended ways to set **opacity** are via  `c = Circle(fill_color= BLUE, fill_opacity= 0.5 )` , `c.set_fill(color=RED)` or `c.set_style(fill_color=GREEN)`  \n",
    "Analog to colors, `c.fill_opacity=1`, `c.set(fill_opacity=1)` and `c.set_fill_opacity(1)` are not possible. (to keep things short, these examples are not shown).  \n"
   ]
  },
  {
   "cell_type": "markdown",
   "id": "16b68676",
   "metadata": {},
   "source": [
    "### Colors"
   ]
  },
  {
   "cell_type": "code",
   "execution_count": null,
   "id": "bc64db70",
   "metadata": {},
   "outputs": [],
   "source": [
    "%%manim $param\n",
    "class Example(Scene):\n",
    "    def construct(self):\n",
    "        c = Square(fill_color= BLUE, fill_opacity= 1 )\n",
    "        self.add(BEST,c)"
   ]
  },
  {
   "cell_type": "code",
   "execution_count": null,
   "id": "7285165a",
   "metadata": {},
   "outputs": [],
   "source": [
    "%%manim $param\n",
    "class Example(Scene):\n",
    "    def construct(self):\n",
    "        c = Square(fill_color= BLUE, fill_opacity= 1)\n",
    "        c.set_fill(color=RED)\n",
    "        self.add(BEST,c)"
   ]
  },
  {
   "cell_type": "code",
   "execution_count": null,
   "id": "132c499f",
   "metadata": {},
   "outputs": [],
   "source": [
    "%%manim $param\n",
    "class Example(Scene):\n",
    "    def construct(self):\n",
    "        c = Square(fill_color= BLUE, fill_opacity= 1)\n",
    "        c.set_style(fill_color=GREEN)\n",
    "        self.add(BEST,c)"
   ]
  },
  {
   "cell_type": "code",
   "execution_count": null,
   "id": "78d97d33",
   "metadata": {},
   "outputs": [],
   "source": [
    "%%manim $param\n",
    "class Example(Scene):\n",
    "    def construct(self):\n",
    "        c = Square(fill_opacity= 1)\n",
    "        c.fill_color=YELLOW\n",
    "        self.add(NO,c)"
   ]
  },
  {
   "cell_type": "code",
   "execution_count": null,
   "id": "526fafdf",
   "metadata": {},
   "outputs": [],
   "source": [
    "%%manim $param\n",
    "class Example(Scene):\n",
    "    def construct(self):\n",
    "        c = Square(fill_opacity= 1)\n",
    "        c.set(fill_color=YELLOW)\n",
    "        self.add(NO,c)"
   ]
  },
  {
   "cell_type": "code",
   "execution_count": null,
   "id": "c1e72251",
   "metadata": {},
   "outputs": [],
   "source": [
    "%%manim $param\n",
    "class Example(Scene):\n",
    "    def construct(self):\n",
    "        c = Square(fill_opacity= 1)\n",
    "        c.set_fill_color(YELLOW)\n",
    "        self.add(NO,c)"
   ]
  },
  {
   "cell_type": "code",
   "execution_count": null,
   "id": "5fafdd85",
   "metadata": {},
   "outputs": [],
   "source": [
    "%%manim $param\n",
    "class Example(Scene):\n",
    "    def construct(self):\n",
    "        self.camera.background_color = PURPLE\n",
    "        self.add(BEST)"
   ]
  },
  {
   "cell_type": "markdown",
   "id": "cc8869e1",
   "metadata": {},
   "source": [
    "### Opacitiy"
   ]
  },
  {
   "cell_type": "code",
   "execution_count": null,
   "id": "673b34c8",
   "metadata": {},
   "outputs": [],
   "source": [
    "%%manim $param\n",
    "class Example(Scene):\n",
    "    def construct(self):\n",
    "        c = Ellipse(color= YELLOW, fill_opacity=0.3).scale(2)\n",
    "        self.add(BEST,c)"
   ]
  },
  {
   "cell_type": "code",
   "execution_count": null,
   "id": "d6da2d1c",
   "metadata": {},
   "outputs": [],
   "source": [
    "%%manim  $param\n",
    "class Example(Scene):\n",
    "    def construct(self):\n",
    "        c = Ellipse(color= YELLOW).scale(2)\n",
    "        c.set_fill(opacity=0.5) # be careful: here, it must be `opacity` and not `fill_opacity` !\n",
    "        self.add(BEST,c)"
   ]
  },
  {
   "cell_type": "code",
   "execution_count": null,
   "id": "a3ef5c05",
   "metadata": {},
   "outputs": [],
   "source": [
    "%%manim  $param\n",
    "class Example(Scene):\n",
    "    def construct(self):\n",
    "        c = Ellipse(color= YELLOW).scale(2)\n",
    "        c.set_style(fill_opacity=0.7) # and here, it must be `fill_opacity` and not `opacity` !\n",
    "        self.add(BEST,c)"
   ]
  },
  {
   "cell_type": "markdown",
   "id": "e5315029",
   "metadata": {},
   "source": [
    "## Stroke width\n",
    "\n",
    "Strokes can be set in multiple ways:   \n",
    "The recommended ways are via  `Circle(stroke_width=30)` , `c.set_stroke(width = 30)` or `c.set_style(stroke_width= 30)`    \n",
    "Also possible, but not the best solution is `c.stroke_width = 30` and `c.set(stroke_width = 30)`   \n",
    "Also possible, but not recommended because deprecated is `c.set_stroke_width(30)`   "
   ]
  },
  {
   "cell_type": "code",
   "execution_count": null,
   "id": "84d3ee6d",
   "metadata": {},
   "outputs": [],
   "source": [
    "%%manim $param\n",
    "class Example(Scene):\n",
    "    def construct(self):\n",
    "        c = Circle(stroke_width=30)\n",
    "        self.add(BEST,c)"
   ]
  },
  {
   "cell_type": "code",
   "execution_count": null,
   "id": "633c6dad",
   "metadata": {},
   "outputs": [],
   "source": [
    "%%manim $param\n",
    "class Example(Scene):\n",
    "    def construct(self):\n",
    "        c = Circle()\n",
    "        c.set_stroke(width = 30)\n",
    "        self.add(BEST,c)"
   ]
  },
  {
   "cell_type": "code",
   "execution_count": null,
   "id": "4b52d699",
   "metadata": {},
   "outputs": [],
   "source": [
    "%%manim $param\n",
    "class Example(Scene):\n",
    "    def construct(self):\n",
    "        c = Circle()\n",
    "        c.set_style(stroke_width= 30)\n",
    "        self.add(BEST,c)"
   ]
  },
  {
   "cell_type": "code",
   "execution_count": null,
   "id": "81acf042",
   "metadata": {},
   "outputs": [],
   "source": [
    "%%manim $param\n",
    "class Example(Scene):\n",
    "    def construct(self):\n",
    "        c = Circle()\n",
    "        c.stroke_width = 30\n",
    "        self.add(YES,c)"
   ]
  },
  {
   "cell_type": "code",
   "execution_count": null,
   "id": "6e0536d2",
   "metadata": {},
   "outputs": [],
   "source": [
    "%%manim $param\n",
    "class Example(Scene):\n",
    "    def construct(self):\n",
    "        c = Circle()\n",
    "        c.set(stroke_width = 30)\n",
    "        self.add(YES,c)"
   ]
  },
  {
   "cell_type": "code",
   "execution_count": null,
   "id": "33127a7e",
   "metadata": {},
   "outputs": [],
   "source": [
    "%%manim $param\n",
    "class Example(Scene):\n",
    "    def construct(self):\n",
    "        c = Circle()\n",
    "        c.set_stroke_width(30)\n",
    "        self.add(NO,c)"
   ]
  },
  {
   "cell_type": "markdown",
   "id": "a4f8dd85",
   "metadata": {},
   "source": [
    "## Layers\n",
    "There are two main ways to change the layers of Mobjects:    \n",
    "\n",
    "   1. Reordering the list of submobjects that where added  \n",
    "   2. Using the z_index  \n",
    "\n",
    "### submobjects\n",
    "A scene stores displayed mobjects in a list. They are displayed in the order that they are added to the scene with the syntax `self.add(circleLeft,circleRight)`\n",
    "First, we have a look on positioning mobjects with `self.add` and the methods `self.bring_to_back` and `self.bring_to_front`. In most cases, this is completely enough. Later, we will come to the z_index, that is seen by manim by one priority higher: Even when a mobject is added first to the mobject list, it will be displayed on top of the others, if it has a higher z_index. An example about this will be seen later."
   ]
  },
  {
   "cell_type": "markdown",
   "id": "00ba1b8f",
   "metadata": {},
   "source": []
  },
  {
   "cell_type": "code",
   "execution_count": null,
   "id": "166ec5c3",
   "metadata": {},
   "outputs": [],
   "source": [
    "circleLeft = Circle(color=BLUE, fill_opacity=1)\n",
    "circleRight = Circle(color=ORANGE,fill_opacity=1).shift(RIGHT)\n",
    "line = Line(2*LEFT,3*RIGHT,color=YELLOW, stroke_width=20)"
   ]
  },
  {
   "cell_type": "code",
   "execution_count": null,
   "id": "d1df41d2",
   "metadata": {},
   "outputs": [],
   "source": [
    "%%manim  $parambigger\n",
    "class Example(Scene):\n",
    "    def construct(self):\n",
    "        self.add(circleLeft,circleRight)\n",
    "        self.add(BEST)"
   ]
  },
  {
   "cell_type": "code",
   "execution_count": null,
   "id": "3dd60dd0",
   "metadata": {},
   "outputs": [],
   "source": [
    "%%manim  $parambigger\n",
    "class Example(Scene):\n",
    "    def construct(self):\n",
    "        self.add(circleRight,circleLeft)\n",
    "        self.add(BEST)"
   ]
  },
  {
   "cell_type": "code",
   "execution_count": null,
   "id": "27f9853b",
   "metadata": {},
   "outputs": [],
   "source": [
    "%%manim  $parambigger\n",
    "class Example(Scene):\n",
    "    def construct(self):\n",
    "        self.add(circleLeft,circleRight, line)\n",
    "        self.add(BEST)"
   ]
  },
  {
   "cell_type": "code",
   "execution_count": null,
   "id": "77c25c18",
   "metadata": {},
   "outputs": [],
   "source": [
    "%%manim  $parambigger\n",
    "class Example(Scene):\n",
    "    def construct(self):\n",
    "        self.add(circleLeft,circleRight, line)\n",
    "        print(self.mobjects)\n",
    "        self.bring_to_back(line)\n",
    "        print(self.mobjects)\n",
    "        self.add(BEST)"
   ]
  },
  {
   "cell_type": "code",
   "execution_count": null,
   "id": "221f75f4",
   "metadata": {},
   "outputs": [],
   "source": [
    "%%manim  $parambigger\n",
    "class Example(Scene):\n",
    "    def construct(self):\n",
    "        self.add(circleLeft,circleRight, line)\n",
    "        print(self.mobjects)\n",
    "        self.bring_to_front(circleLeft)\n",
    "        print(self.mobjects)\n",
    "        self.add(BEST)"
   ]
  },
  {
   "cell_type": "markdown",
   "id": "1405ef43",
   "metadata": {},
   "source": [
    "### z_index\n",
    "The default z_index is 0. \n",
    "Now we will see what happens, when we increase the value of the z_index.   \n",
    "The z_index can be changed by `triangle = Triangle(z_index=1)`,`triangle.z_index=1` , `triangle.set(z_index=1)` and `triangle.set_z_index(1)`  \n",
    "It can not be changed using `triangle.set_style(z_index=1)`"
   ]
  },
  {
   "cell_type": "code",
   "execution_count": null,
   "id": "de544d6c",
   "metadata": {},
   "outputs": [],
   "source": [
    "#initilizing line,circle,square and triangle\n",
    "BUFF= 0.5*DOWN \n",
    "line = Line(3*LEFT,3*RIGHT,color=YELLOW, stroke_width=20)\n",
    "circle = Circle(color=GREEN_D, fill_opacity=1).shift(LEFT+BUFF)\n",
    "square = Square(color=BLUE_D, fill_opacity=1).shift(UP+BUFF)\n",
    "triangle = Triangle(color=RED_D, fill_opacity=1).shift(RIGHT+BUFF)"
   ]
  },
  {
   "cell_type": "code",
   "execution_count": null,
   "id": "9f141f14",
   "metadata": {},
   "outputs": [],
   "source": [
    "%%manim  $parambigger\n",
    "class Example(Scene):\n",
    "    def construct(self):\n",
    "        self.add(line,triangle, square, circle)  # order matters\n",
    "        print(self.mobjects)\n",
    "        print(f\"{triangle.z_index=} , {square.z_index=} , {circle.z_index=} , {line.z_index=}\")\n",
    "        self.add(BEST)"
   ]
  },
  {
   "cell_type": "code",
   "execution_count": null,
   "id": "b162c2e5",
   "metadata": {},
   "outputs": [],
   "source": [
    "%%manim  $parambigger\n",
    "class Example(Scene):\n",
    "    def construct(self):\n",
    "        triangle.z_index=1\n",
    "        self.add(triangle, square, circle,line)  # order matters\n",
    "        print(self.mobjects)\n",
    "        print(f\"{triangle.z_index=} , {square.z_index=} , {circle.z_index=} , {line.z_index=}\")\n",
    "        self.add(BEST)"
   ]
  },
  {
   "cell_type": "code",
   "execution_count": null,
   "id": "dbe4682d",
   "metadata": {},
   "outputs": [],
   "source": [
    "%%manim  $parambigger\n",
    "class Example(Scene):\n",
    "    def construct(self):\n",
    "        triangle.z_index = 1\n",
    "        square.z_index   = 2\n",
    "        circle.z_index   = 3\n",
    "        self.add(triangle, square, circle,line)  # order matters\n",
    "        self.add(BEST)\n",
    "        print(f\"{line.z_index=}\")"
   ]
  },
  {
   "cell_type": "code",
   "execution_count": null,
   "id": "952c76aa",
   "metadata": {},
   "outputs": [],
   "source": [
    "%%manim  $parambigger\n",
    "class Example(Scene):\n",
    "    def construct(self):\n",
    "        triangle.z_index = 3\n",
    "        square.z_index   = 2\n",
    "        circle.z_index   = 1\n",
    "        self.add(triangle, square, circle,line)  # order matters\n",
    "        self.add(BEST)\n",
    "        print(f\"{line.z_index=}\")"
   ]
  },
  {
   "cell_type": "code",
   "execution_count": null,
   "id": "1ec8f8e9",
   "metadata": {},
   "outputs": [],
   "source": [
    "%%manim  $parambigger\n",
    "triangle.z_index = 0\n",
    "square.z_index   = 0\n",
    "circle.z_index   = 0\n",
    "class Example(Scene):\n",
    "    def construct(self):\n",
    "        triangle.set(z_index=1)\n",
    "        self.add(triangle, square, circle,line)  # order matters\n",
    "        print(self.mobjects)\n",
    "        print(f\"{triangle.z_index=} , {square.z_index=} , {circle.z_index=} , {line.z_index=}\")\n",
    "        self.add(BEST)"
   ]
  },
  {
   "cell_type": "code",
   "execution_count": null,
   "id": "90e43feb",
   "metadata": {},
   "outputs": [],
   "source": [
    "%%manim  $parambigger \n",
    "triangle.z_index = 0\n",
    "square.z_index   = 0\n",
    "circle.z_index   = 0\n",
    "class Example(Scene):\n",
    "    def construct(self):\n",
    "        try: \n",
    "            triangle.set_style(z_index=1)  # here we expect an error! Only for didactic purpose, it is put into this `try` blog, so that no long error message is shown.\n",
    "        except TypeError:  \n",
    "            print(\"TypeError, set_style() got an unexpected keyword argument 'z_index'. \")\n",
    "            self.add(NO)\n",
    "        self.add(triangle, square, circle,line)  # order matters\n",
    "        print(f\"{triangle.z_index=} , {square.z_index=} , {circle.z_index=} , {line.z_index=}\")\n"
   ]
  },
  {
   "cell_type": "markdown",
   "id": "f66ab199",
   "metadata": {},
   "source": [
    "##  VGroup and Group\n",
    "### VGroup\n",
    "It is a Group of VMobjects (\"V\" stands for Vector)"
   ]
  },
  {
   "cell_type": "code",
   "execution_count": null,
   "id": "932a9b82",
   "metadata": {},
   "outputs": [],
   "source": [
    "#only for setup\n",
    "def create_dots():\n",
    "    blue1_ref= Dot(color= BLUE,       point=[-.3,-.5,0], radius=0.5)\n",
    "    blue2_ref= Dot(color= BLUE_A,     point=[ .3,-.5,0], radius=0.5)\n",
    "    yellow1_ref= Dot(color= YELLOW,   point=[-.3, .5,0], radius=0.5)\n",
    "    yellow2_ref= Dot(color= YELLOW_A, point=[ .3, .5,0], radius=0.5)\n",
    "    return blue1_ref, blue2_ref,yellow1_ref,yellow2_ref"
   ]
  },
  {
   "cell_type": "code",
   "execution_count": null,
   "id": "2528f593",
   "metadata": {},
   "outputs": [],
   "source": [
    "%%manim $param\n",
    "blue1,blue2, yellow1,yellow2 = create_dots()\n",
    "class Example(Scene):\n",
    "    def construct(self):\n",
    "        self.add(blue1,blue2, yellow1,yellow2)"
   ]
  },
  {
   "cell_type": "code",
   "execution_count": null,
   "id": "a4dc7a3b",
   "metadata": {},
   "outputs": [],
   "source": [
    "%%manim $param\n",
    "blue1,blue2, yellow1,yellow2 = create_dots()\n",
    "class Example(Scene):\n",
    "    def construct(self):\n",
    "        VGroup(yellow1,yellow2).shift(RIGHT)\n",
    "        self.add(blue1,blue2, yellow1,yellow2)"
   ]
  },
  {
   "cell_type": "code",
   "execution_count": null,
   "id": "8d49a889",
   "metadata": {},
   "outputs": [],
   "source": [
    "%%manim $param\n",
    "blue1,blue2, yellow1,yellow2 = create_dots()\n",
    "class Example(Scene):\n",
    "    def construct(self):\n",
    "        g1=VGroup(yellow1,yellow2).shift(2*RIGHT)\n",
    "        self.add(blue1,blue2, g1)"
   ]
  },
  {
   "cell_type": "code",
   "execution_count": null,
   "id": "f030e624",
   "metadata": {},
   "outputs": [],
   "source": [
    "%%manim $param\n",
    "blue1,blue2, yellow1,yellow2 = create_dots()\n",
    "class Example(Scene):\n",
    "    def construct(self):\n",
    "        g1=VGroup(yellow1,yellow2).set_color(RED)\n",
    "        self.add(blue1,blue2, g1)"
   ]
  },
  {
   "cell_type": "code",
   "execution_count": null,
   "id": "8a5c8d43",
   "metadata": {},
   "outputs": [],
   "source": [
    "%%manim $param\n",
    "blue1,blue2, yellow1,yellow2 = create_dots()\n",
    "class Example(Scene):\n",
    "    def construct(self):\n",
    "        g1=VGroup(yellow1,yellow2).shift(0.5*DOWN)\n",
    "        g2=VGroup(blue1,blue2)\n",
    "        self.add(g1, g2)"
   ]
  },
  {
   "cell_type": "code",
   "execution_count": null,
   "id": "1ab7cd4a",
   "metadata": {},
   "outputs": [],
   "source": [
    "%%manim $param\n",
    "blue1,blue2, yellow1,yellow2 = create_dots()\n",
    "class Example(Scene):\n",
    "    def construct(self):\n",
    "        g1=VGroup(yellow1,yellow2).shift(0.5*DOWN)\n",
    "        g2=VGroup(blue1,blue2)\n",
    "        self.add(g2,g1)"
   ]
  },
  {
   "cell_type": "code",
   "execution_count": null,
   "id": "08be54b8",
   "metadata": {},
   "outputs": [],
   "source": [
    "%%manim $param\n",
    "blue1,blue2, yellow1,yellow2 = create_dots()\n",
    "class Example(Scene): # Groups of Groups\n",
    "    def construct(self):\n",
    "        g1=VGroup(yellow1,yellow2).shift(0.5*DOWN)\n",
    "        g2=VGroup(blue1,blue2)\n",
    "        gAll = VGroup(g1, g2)\n",
    "        self.add(gAll)\n",
    "        print(gAll.submobjects)\n",
    "        print(gAll.submobjects[0].submobjects)\n",
    "        print(gAll.submobjects[1].submobjects)"
   ]
  },
  {
   "cell_type": "code",
   "execution_count": null,
   "id": "c7ff426f",
   "metadata": {},
   "outputs": [],
   "source": [
    "%%manim $param\n",
    "blue1,blue2, yellow1,yellow2 = create_dots()\n",
    "class Example(Scene): #setting VMobject attibutes\n",
    "    def construct(self):\n",
    "        g=VGroup(yellow1,yellow2,blue1,blue2)\n",
    "        g.set_stroke(color=PURPLE_D, width=20) # <--\n",
    "        self.add(g)"
   ]
  },
  {
   "cell_type": "code",
   "execution_count": null,
   "id": "f65da8dc",
   "metadata": {},
   "outputs": [],
   "source": [
    "%%manim $param\n",
    "blue1,blue2, yellow1,yellow2 = create_dots()\n",
    "class Example(Scene): # add syntax\n",
    "    def construct(self):\n",
    "        g=VGroup(yellow1,yellow2,blue1)\n",
    "        g.add(blue2) # <--\n",
    "        g.set_stroke(color=GREEN, width=20)\n",
    "        self.add(g)"
   ]
  },
  {
   "cell_type": "code",
   "execution_count": null,
   "id": "6fe08aff",
   "metadata": {},
   "outputs": [],
   "source": [
    "%%manim $param\n",
    "blue1,blue2, yellow1,yellow2 = create_dots()\n",
    "class Example(Scene): # += Syntax\n",
    "    def construct(self):\n",
    "        g=VGroup(yellow1,yellow2,blue1)\n",
    "        g += blue2 # <--\n",
    "        g.set_stroke(color=ORANGE, width=20)\n",
    "        self.add(g)"
   ]
  },
  {
   "cell_type": "code",
   "execution_count": null,
   "id": "17d615e7",
   "metadata": {},
   "outputs": [],
   "source": [
    "%%manim $param\n",
    "blue1,blue2, yellow1,yellow2 = create_dots()\n",
    "class Example(Scene): # empty initilizing\n",
    "    def construct(self):\n",
    "        g=VGroup()\n",
    "        for _ in range(0,10):\n",
    "            g += yellow1.copy()\n",
    "        g.set_stroke(color=WHITE, width=20)\n",
    "        g.arrange_in_grid(rows=2) # <-- Groups and VGroups can be arranged in grids\n",
    "        g.move_to(ORIGIN)\n",
    "        self.add(g)"
   ]
  },
  {
   "cell_type": "markdown",
   "id": "861f4e71",
   "metadata": {},
   "source": [
    "<div class=\"alert alert-info\">\n",
    "\n",
    "Note: \n",
    "    \n",
    "VMobject().add(...) is functionally equivalent to VGroup(...), but it is recommended to use VGroup, as \n",
    "    \n",
    "* It is better readable \n",
    "* supports the `+=` syntax\n",
    "    \n",
    "</div>"
   ]
  },
  {
   "cell_type": "code",
   "execution_count": null,
   "id": "68cf80b2",
   "metadata": {},
   "outputs": [],
   "source": [
    "%%manim $param\n",
    "blue1,blue2, yellow1,yellow2 = create_dots()\n",
    "class Example(Scene):  # using VMobject instead\n",
    "    def construct(self):\n",
    "        g= VMobject()\n",
    "        g.add(yellow1,yellow2,blue1,blue2)\n",
    "        g.set_stroke(color=PURPLE_D, width=20)\n",
    "        self.add(g)"
   ]
  },
  {
   "cell_type": "code",
   "execution_count": null,
   "id": "3831fe1f",
   "metadata": {},
   "outputs": [],
   "source": [
    "%%manim $param\n",
    "blue1,blue2, yellow1,yellow2 = create_dots()\n",
    "class Example(Scene):  # other Mobjects can be added to any Mobjects\n",
    "    def construct(self):\n",
    "        d= Dot(color= YELLOW, radius=0.7)\n",
    "        d.add(Line(0.2*UP, 0.8*UP, color=RED,stroke_width=40))\n",
    "        self.add(d)"
   ]
  },
  {
   "cell_type": "code",
   "execution_count": null,
   "id": "a4cf5606",
   "metadata": {},
   "outputs": [],
   "source": [
    "%%manim $param\n",
    "dot= Dot(color= YELLOW, radius=0.5)\n",
    "image = ImageMobject(np.uint8([[200, 233, 111, 200],\n",
    "                               [255, 100, 190, 100]])).shift(2*RIGHT)\n",
    "image.height = 1\n",
    "class Example(Scene): \n",
    "    def construct(self):\n",
    "        self.add(dot, image)\n",
    "        try: # Image is not a VMobject!\n",
    "            VGroup(dot,image).shift(3*RIGHT)\n",
    "        except TypeError:\n",
    "            print(\"Adding an Mobject to a VGroup is not possible!\")\n",
    "            self.add(NO)"
   ]
  },
  {
   "cell_type": "markdown",
   "id": "0c8e92d2",
   "metadata": {},
   "source": [
    "### Group\n",
    "Groups Mobjects and VMobjects togehter.\n",
    "You can only use the methods of Mobject here.\n",
    "Methods of VMobject wont be supported."
   ]
  },
  {
   "cell_type": "code",
   "execution_count": null,
   "id": "bfa0b0b3",
   "metadata": {},
   "outputs": [],
   "source": [
    "%%manim $param\n",
    "dot= Dot(color= YELLOW, radius=0.5)\n",
    "image = ImageMobject(np.uint8([[200, 233, 111, 200],\n",
    "                               [255, 100, 190, 100]])).shift(2*RIGHT)\n",
    "image.height = 1\n",
    "class Example(Scene): \n",
    "    def construct(self):\n",
    "        self.add(dot, image)\n",
    "        Group(dot,image).shift(3*RIGHT)"
   ]
  },
  {
   "cell_type": "code",
   "execution_count": null,
   "id": "6072dde0",
   "metadata": {},
   "outputs": [],
   "source": [
    "%%manim $param\n",
    "blue1,blue2, yellow1,yellow2 = create_dots()\n",
    "class Example(Scene): # \n",
    "    def construct(self):\n",
    "        g=Group(yellow1,yellow2,blue1,blue2)\n",
    "        try:\n",
    "            g.set_stroke(color=PURPLE_D, width=20)\n",
    "        except TypeError:\n",
    "            print(\"TypeError!\")\n",
    "            self.add(NO)\n",
    "        self.add(g)"
   ]
  },
  {
   "cell_type": "markdown",
   "id": "f1042ff9",
   "metadata": {},
   "source": [
    "<div class=\"alert alert-info\">\n",
    "\n",
    "Note: `z_index` is not supported, neither for VGroup nor for Group\n",
    "    \n",
    "</div>"
   ]
  },
  {
   "cell_type": "code",
   "execution_count": null,
   "id": "f494fc30",
   "metadata": {},
   "outputs": [],
   "source": [
    "%%manim $param\n",
    "blue1,blue2, yellow1,yellow2 = create_dots()\n",
    "class Example(Scene):\n",
    "    def construct(self):\n",
    "        a=VGroup(yellow1,yellow2).shift(0.5*DOWN)\n",
    "        b=VGroup(blue1,blue2)\n",
    "        a.set_z_index(2)\n",
    "        b.set_z_index(1)\n",
    "        self.add(a,b)\n",
    "        self.add(NO)"
   ]
  },
  {
   "cell_type": "markdown",
   "id": "6b36b796",
   "metadata": {
    "tags": []
   },
   "source": [
    "<div class=\"alert alert-info\">\n",
    "\n",
    "Congratulations!\n",
    "\n",
    "You are now a master in setting up your Mobjects on a scene. Let's go on with the part you came to manim for in the first place: Animations!\n",
    "\n",
    "</div>"
   ]
  },
  {
   "cell_type": "markdown",
   "id": "d867d87b",
   "metadata": {},
   "source": []
  }
 ],
 "metadata": {
  "interpreter": {
   "hash": "deefdb209dc179ecbc880626fece8554a87baca41cae0d7b198759a4c27f783b"
  },
  "kernelspec": {
   "display_name": "Python 3",
   "language": "python",
   "name": "python3"
  },
  "language_info": {
   "codemirror_mode": {
    "name": "ipython",
    "version": 3
   },
   "file_extension": ".py",
   "mimetype": "text/x-python",
   "name": "python",
   "nbconvert_exporter": "python",
   "pygments_lexer": "ipython3",
   "version": "3.9.5"
  }
 },
 "nbformat": 4,
 "nbformat_minor": 5
}
