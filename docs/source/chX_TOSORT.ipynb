{
 "cells": [
  {
   "cell_type": "markdown",
   "id": "9023a7d6",
   "metadata": {},
   "source": [
    "# Tips and Tricks (WIP)"
   ]
  },
  {
   "cell_type": "markdown",
   "id": "5384ce85",
   "metadata": {},
   "source": [
    "## in development:\n",
    "### Docs\n",
    "**Command + Shift + R** : Reload page in chrome, when readthedocs shows old version because of caching problems\n",
    "### Development\n",
    "When the lastest main version of manim is instaled via `pip install .` ,  there might be problems with jupyter notebooks, that are not updated to the latest version. This is because there are some packages in the virtual environment that point to an older manim version. To solve this problem, simply delete the folders `0.6.0-dist` and `manim` from the  `site-packages`folder in your virtual environment. This problem should not occur when installing the latest manim via `poetry install`.\n",
    "\n",
    "\n"
   ]
  },
  {
   "cell_type": "markdown",
   "id": "78a729fe",
   "metadata": {},
   "source": []
  },
  {
   "cell_type": "markdown",
   "id": "adf24803",
   "metadata": {},
   "source": [
    "### Shortcuts\n",
    "* Quickly open a jupyter notebook in the manim environment:  \n",
    "   `source projects/manimenv/bin/activate && jupyter lab`\n",
    "   "
   ]
  },
  {
   "cell_type": "markdown",
   "id": "af48c971",
   "metadata": {},
   "source": [
    "## Chapter Snippets"
   ]
  },
  {
   "cell_type": "code",
   "execution_count": null,
   "id": "7cfc3910",
   "metadata": {},
   "outputs": [],
   "source": [
    "import manim\n",
    "from manim import *"
   ]
  },
  {
   "cell_type": "markdown",
   "id": "21008213",
   "metadata": {},
   "source": [
    "### FFMPEG \n",
    "\n",
    "For some videos, it might be wanted to have the first frame as an image, for example \n",
    "in while post-processing in a video edior.\n",
    "This can be accived with the following script, which will batch-process all videos in the Downloads folder and extract all first frames to\n",
    "the folder \"Downloads/processed\""
   ]
  },
  {
   "cell_type": "code",
   "execution_count": null,
   "id": "8bd98d9d",
   "metadata": {},
   "outputs": [],
   "source": [
    "from pathlib import Path\n",
    "import os\n",
    "suffix = \".mp4\"\n",
    "input_path= Path.home() / \"Downloads/\"\n",
    "file_paths= [subp for subp in input_path.rglob('*') if  suffix == subp.suffix]\n",
    "if len(file_paths) == 0:\n",
    "        raise ValueError(\"No videos in folder\")\n",
    "file_paths.sort()\n",
    "print(file_paths)\n",
    "output_path =  Path.home() / \"Downloads/processed\"\n",
    "output_path.mkdir(parents=True, exist_ok=True)\n",
    "print(output_path)\n",
    "\n",
    "for file_p in file_paths:\n",
    "    input = str(file_p)\n",
    "    output = str(  output_path / file_p.name)\n",
    "    output = output[:-4] # delete the ending\n",
    "    print(output)\n",
    "    command = f\"ffmpeg -i {input} -vframes 1 {output}.png\"\n",
    "    os.system(command)"
   ]
  },
  {
   "cell_type": "markdown",
   "id": "d1986605",
   "metadata": {},
   "source": [
    "## Dummy"
   ]
  },
  {
   "cell_type": "code",
   "execution_count": null,
   "id": "e18ad044",
   "metadata": {},
   "outputs": [],
   "source": [
    "import manim\n",
    "from manim import *"
   ]
  },
  {
   "cell_type": "markdown",
   "id": "efa2b610",
   "metadata": {},
   "source": [
    "## Adding Mobjects without self.add()"
   ]
  },
  {
   "cell_type": "code",
   "execution_count": null,
   "id": "5eb8026e",
   "metadata": {},
   "outputs": [],
   "source": [
    "%%manim  -v WARNING -ql  --disable_caching ABCCD\n",
    "\n",
    "class ABCCD(Scene):\n",
    "    def construct(self):\n",
    "        tex  = Tex(r\"$dk_x dk_y = |\\mu| d\\mu d\\phi$\").scale(3)\n",
    "        tex2 = Tex(r\"$\\begin{pmatrix} k_x \\\\ k_y  \\end{pmatrix}$\")\n",
    "        tex3 = Tex(r\"$\\mu \\begin{pmatrix} \\cos \\phi \\\\ \\sin \\phi  \\end{pmatrix}$\")\n",
    "        \n",
    "        gr = VGroup()\n",
    "        all_variables = dir()\n",
    "        for name in all_variables:\n",
    "            if not name.startswith('__'):\n",
    "                myvalue = eval(name)\n",
    "                if isinstance(myvalue, Tex):\n",
    "                    gr.add(myvalue)\n",
    "        gr.arrange(DOWN)\n",
    "        self.add(gr)\n",
    "            "
   ]
  },
  {
   "cell_type": "markdown",
   "id": "30d1bcfa",
   "metadata": {},
   "source": [
    "## Aligining and coloring latex formulas"
   ]
  },
  {
   "cell_type": "code",
   "execution_count": null,
   "id": "28771f90",
   "metadata": {},
   "outputs": [],
   "source": [
    "%%manim  -v WARNING -qh  -s --progress_bar None  --disable_caching Ingreds2\n",
    "BLUE=\"#09B0EC\"\n",
    "ORANGE=\"#F87D50\"\n",
    "\n",
    "\n",
    "class Ingreds2(Scene):\n",
    "    def construct(self):\n",
    "        d1,d2,d3,d4= Dot(),Dot(),Dot(),Dot()\n",
    "        dots= VGroup(d1,d2,d3,d4).arrange(DOWN, buff=1.5).to_edge(LEFT, buff=1).shift(0.2*DOWN)\n",
    "        d3.shift(DOWN*0.15)\n",
    "\n",
    "        title = Tex(r\"From \" , r\"$p(s,\\phi)$\" , \" to \" , r\"$f(x,y)$\" , r\" ? \\\\ Why do we have to filter with \" , r\"$|\\omega|$ \",\"? \").to_edge(UP, buff=1)\n",
    "        title.set_color_by_tex(\"f(x,y)\", BLUE)\n",
    "        title.set_color_by_tex(\"p(s,\\phi)\", ORANGE)\n",
    "        title.set_color_by_tex(\"|\\omega|\",ORANGE)\n",
    "\n",
    "        radon_tex = MathTex(r\"\\text{Radon Transform} \", r\"p(s,\\phi)\",r\" =\\mathcal{R}\\big\\{\",r\" f(x,y) \",r\"\\big\\}\").next_to(d1, RIGHT)\n",
    "        radon_tex.set_color_by_tex(\"f(x,y)\", BLUE)\n",
    "        radon_tex.set_color_by_tex(\"p(s,\\phi)\", ORANGE)\n",
    "        radon_name= radon_tex.submobjects[0]\n",
    "        radon_formula= VGroup(*radon_tex.submobjects[1:])\n",
    "\n",
    "\n",
    "        fourier_name = Tex(\"Fourier Transform \").next_to(d2, RIGHT)\n",
    "        fourier_formulaA =MathTex(r\"\\mathcal{F}_1\\big\\{ \",r\"p(s, \\phi)\",r\" \\big\\}   = P(\",r\"\\omega\",r\", \\phi)\")\n",
    "        fourier_formulaA.set_color_by_tex(\"p(s,\\phi)\", ORANGE)\n",
    "        fourier_formulaA.set_color_by_tex(\"\\omega\", ORANGE)\n",
    "        fourier_formulaB =MathTex(r\"\\mathcal{F}_2\\big\\{\",r\"f(x,y)\",r\"\\big\\} = F(k_x,k_y)\").next_to(fourier_formulaA, DOWN, aligned_edge=LEFT)\n",
    "        fourier_formulaB.set_color_by_tex(\"f(x,y)\", BLUE)\n",
    "        fourier_formulaALL = VGroup(fourier_formulaA,fourier_formulaB).next_to(fourier_name, RIGHT)\n",
    "        \n",
    "        polar_name = Tex(\"Polar Coordinates\").next_to(d3,RIGHT)\n",
    "        polar_formula = MathTex(r\"\t\\begin{pmatrix} k_x \\\\ k_y  \\end{pmatrix} =  r \\begin{pmatrix} \\cos \\phi \\\\ \\sin \\phi  \\end{pmatrix}\").next_to(polar_name, RIGHT )\n",
    "        \n",
    "        slice_name = Tex(\"Fourier Slice Theorm\").next_to(d4,RIGHT)\n",
    "        \n",
    "        slice_formula = MathTex(r\"\\mathcal{F}_1 \\big\\{\",r\"p(s, \\phi = \\phi')\",r\" \\big\\} &= \\mathcal{F}_2 \\big\\{ \",r\"f(x,y)\",r\" \\big\\}  \\Big|_{\\phi = \\phi'} \\\\\")\n",
    "        slice_formula.next_to(slice_name).shift(DOWN*0.1)\n",
    "        slice_formula.set_color_by_tex(\"p(s,\\phi)\", ORANGE)\n",
    "        slice_formula.set_color_by_tex(\"f(x,y)\", BLUE)\n",
    "\n",
    "        self.add(title)\n",
    "        alltex= VGroup( radon_tex, fourier_name, fourier_formulaALL, polar_name, polar_formula, slice_name,slice_formula).scale(0.8).shift(DOWN*0.5)\n",
    "        radon_formula.align_to(slice_formula, LEFT)\n",
    "        fourier_formulaALL.align_to(slice_formula, LEFT)\n",
    "        polar_formula.align_to(slice_formula, LEFT)\n",
    "        self.add(alltex)\n"
   ]
  },
  {
   "cell_type": "code",
   "execution_count": null,
   "id": "61d8fa02",
   "metadata": {},
   "outputs": [],
   "source": [
    "!manim render --help"
   ]
  }
 ],
 "metadata": {
  "kernelspec": {
   "display_name": "Python 3",
   "language": "python",
   "name": "python3"
  },
  "language_info": {
   "codemirror_mode": {
    "name": "ipython",
    "version": 3
   },
   "file_extension": ".py",
   "mimetype": "text/x-python",
   "name": "python",
   "nbconvert_exporter": "python",
   "pygments_lexer": "ipython3",
   "version": "3.9.2"
  }
 },
 "nbformat": 4,
 "nbformat_minor": 5
}
