{
 "cells": [
  {
   "cell_type": "markdown",
   "id": "45ea94f5",
   "metadata": {},
   "source": [
    "# Tips and Tricks (WIP)"
   ]
  },
  {
   "cell_type": "markdown",
   "id": "c9bd3616",
   "metadata": {},
   "source": [
    "## in development:\n",
    "### Docs\n",
    "**Command + Shift + R** : Reload page in chrome, when readthedocs shows old version because of caching problems\n",
    "### Development\n",
    "When the lastest main version of manim is instaled via `pip install .` ,  there might be problems with jupyter notebooks, that are not updated to the latest version. This is because there are some packages in the virtual environment that point to an older manim version. To solve this problem, simply delete the folders `0.6.0-dist` and `manim` from the  `site-packages`folder in your virtual environment. This problem should not occur when installing the latest manim via `poetry install`.\n",
    "\n",
    "\n"
   ]
  },
  {
   "cell_type": "markdown",
   "id": "ff210c12",
   "metadata": {},
   "source": [
    "### Shortcuts\n",
    "* Quickly open a jupyter notebook in the manim environment:  \n",
    "   `source projects/manimenv/bin/activate && jupyter lab`\n",
    "   "
   ]
  },
  {
   "cell_type": "markdown",
   "id": "35513eba",
   "metadata": {},
   "source": [
    "## Chapter Snippets"
   ]
  },
  {
   "cell_type": "code",
   "execution_count": null,
   "id": "2344e574",
   "metadata": {},
   "outputs": [],
   "source": [
    "import manim\n",
    "from manim import *"
   ]
  },
  {
   "cell_type": "markdown",
   "id": "749adf65",
   "metadata": {},
   "source": [
    "## Adding Mobjects without self.add()"
   ]
  },
  {
   "cell_type": "code",
   "execution_count": null,
   "id": "4d721ca5",
   "metadata": {},
   "outputs": [],
   "source": [
    "%%manim  -v WARNING -ql  --disable_caching ABCCD\n",
    "\n",
    "class ABCCD(Scene):\n",
    "    def construct(self):\n",
    "        tex  = Tex(r\"$dk_x dk_y = |\\mu| d\\mu d\\phi$\").scale(3)\n",
    "        tex2 = Tex(r\"$\\begin{pmatrix} k_x \\\\ k_y  \\end{pmatrix}$\")\n",
    "        tex3 = Tex(r\"$\\mu \\begin{pmatrix} \\cos \\phi \\\\ \\sin \\phi  \\end{pmatrix}$\")\n",
    "        \n",
    "        gr = VGroup()\n",
    "        all_variables = dir()\n",
    "        for name in all_variables:\n",
    "            if not name.startswith('__'):\n",
    "                myvalue = eval(name)\n",
    "                if isinstance(myvalue, Tex):\n",
    "                    gr.add(myvalue)\n",
    "        gr.arrange(DOWN)\n",
    "        self.add(gr)\n",
    "            "
   ]
  },
  {
   "cell_type": "markdown",
   "id": "79b72115",
   "metadata": {},
   "source": [
    "## Aligining and coloring latex formulas"
   ]
  },
  {
   "cell_type": "code",
   "execution_count": null,
   "id": "eb2ea796",
   "metadata": {},
   "outputs": [],
   "source": [
    "%%manim  -v WARNING -qh  -s --progress_bar None  --disable_caching Ingreds2\n",
    "BLUE=\"#09B0EC\"\n",
    "ORANGE=\"#F87D50\"\n",
    "\n",
    "\n",
    "class Ingreds2(Scene):\n",
    "    def construct(self):\n",
    "        d1,d2,d3,d4= Dot(),Dot(),Dot(),Dot()\n",
    "        dots= VGroup(d1,d2,d3,d4).arrange(DOWN, buff=1.5).to_edge(LEFT, buff=1).shift(0.2*DOWN)\n",
    "        d3.shift(DOWN*0.15)\n",
    "\n",
    "        title = Tex(r\"From \" , r\"$p(s,\\phi)$\" , \" to \" , r\"$f(x,y)$\" , r\" ? \\\\ Why do we have to filter with \" , r\"$|\\omega|$ \",\"? \").to_edge(UP, buff=1)\n",
    "        title.set_color_by_tex(\"f(x,y)\", BLUE)\n",
    "        title.set_color_by_tex(\"p(s,\\phi)\", ORANGE)\n",
    "        title.set_color_by_tex(\"|\\omega|\",ORANGE)\n",
    "\n",
    "        radon_tex = MathTex(r\"\\text{Radon Transform} \", r\"p(s,\\phi)\",r\" =\\mathcal{R}\\big\\{\",r\" f(x,y) \",r\"\\big\\}\").next_to(d1, RIGHT)\n",
    "        radon_tex.set_color_by_tex(\"f(x,y)\", BLUE)\n",
    "        radon_tex.set_color_by_tex(\"p(s,\\phi)\", ORANGE)\n",
    "        radon_name= radon_tex.submobjects[0]\n",
    "        radon_formula= VGroup(*radon_tex.submobjects[1:])\n",
    "\n",
    "\n",
    "        fourier_name = Tex(\"Fourier Transform \").next_to(d2, RIGHT)\n",
    "        fourier_formulaA =MathTex(r\"\\mathcal{F}_1\\big\\{ \",r\"p(s, \\phi)\",r\" \\big\\}   = P(\",r\"\\omega\",r\", \\phi)\")\n",
    "        fourier_formulaA.set_color_by_tex(\"p(s,\\phi)\", ORANGE)\n",
    "        fourier_formulaA.set_color_by_tex(\"\\omega\", ORANGE)\n",
    "        fourier_formulaB =MathTex(r\"\\mathcal{F}_2\\big\\{\",r\"f(x,y)\",r\"\\big\\} = F(k_x,k_y)\").next_to(fourier_formulaA, DOWN, aligned_edge=LEFT)\n",
    "        fourier_formulaB.set_color_by_tex(\"f(x,y)\", BLUE)\n",
    "        fourier_formulaALL = VGroup(fourier_formulaA,fourier_formulaB).next_to(fourier_name, RIGHT)\n",
    "        \n",
    "        polar_name = Tex(\"Polar Coordinates\").next_to(d3,RIGHT)\n",
    "        polar_formula = MathTex(r\"\t\\begin{pmatrix} k_x \\\\ k_y  \\end{pmatrix} =  r \\begin{pmatrix} \\cos \\phi \\\\ \\sin \\phi  \\end{pmatrix}\").next_to(polar_name, RIGHT )\n",
    "        \n",
    "        slice_name = Tex(\"Fourier Slice Theorm\").next_to(d4,RIGHT)\n",
    "        \n",
    "        slice_formula = MathTex(r\"\\mathcal{F}_1 \\big\\{\",r\"p(s, \\phi = \\phi')\",r\" \\big\\} &= \\mathcal{F}_2 \\big\\{ \",r\"f(x,y)\",r\" \\big\\}  \\Big|_{\\phi = \\phi'} \\\\\")\n",
    "        slice_formula.next_to(slice_name).shift(DOWN*0.1)\n",
    "        slice_formula.set_color_by_tex(\"p(s,\\phi)\", ORANGE)\n",
    "        slice_formula.set_color_by_tex(\"f(x,y)\", BLUE)\n",
    "\n",
    "        self.add(title)\n",
    "        alltex= VGroup( radon_tex, fourier_name, fourier_formulaALL, polar_name, polar_formula, slice_name,slice_formula).scale(0.8).shift(DOWN*0.5)\n",
    "        radon_formula.align_to(slice_formula, LEFT)\n",
    "        fourier_formulaALL.align_to(slice_formula, LEFT)\n",
    "        polar_formula.align_to(slice_formula, LEFT)\n",
    "        self.add(alltex)\n"
   ]
  },
  {
   "cell_type": "code",
   "execution_count": null,
   "id": "49ef13c4",
   "metadata": {},
   "outputs": [],
   "source": [
    "s= Arc(radius=1.0, start_angle=-PI/8, angle=PI,stroke_width=10).scale(4)\n",
    "funcnames = [\"s.get_start()\", \"s.get_end()\", \"s.get_midpoint()\" ,\"s.point_from_proportion(0.3)\", \"s.get_center()\", \"s.get_center()\", \"s.get_top()\", \"s.get_bottom()\", \"s.get_corner(DL)\"]\n",
    "COLORS = [\"BLUE\", \"BLUE\", \"BLUE\" , \"YELLOW\", \"ORANGE\", \"RED\",\"WHITE\",\"WHITE\",\"WHITE\"]\n",
    "funcvals = np.array([eval(el) for el in funcnames])\n",
    "funcvals= np.round(funcvals,2)\n",
    "positiondots= Group()\n",
    "for name, val, color in zip(funcnames,funcvals, COLORS):\n",
    "    print(f\"{name:<{30}}\" + f\"x = {val[0]:<{6}} y = {val[1]:<{6}} \" + color )\n",
    "    positiondots.add(Dot(val, color= eval(color), radius=0.2))"
   ]
  },
  {
   "cell_type": "code",
   "execution_count": null,
   "id": "3682f5f0",
   "metadata": {},
   "outputs": [],
   "source": [
    "%%manim -v WARNING -r 400,400 -s  --disable_caching Example\n",
    "class Example(Scene):\n",
    "    def construct(self):\n",
    "        self.add(s)\n",
    "        self.add(positiondots)"
   ]
  }
 ],
 "metadata": {
  "kernelspec": {
   "display_name": "Python 3",
   "language": "python",
   "name": "python3"
  },
  "language_info": {
   "codemirror_mode": {
    "name": "ipython",
    "version": 3
   },
   "file_extension": ".py",
   "mimetype": "text/x-python",
   "name": "python",
   "nbconvert_exporter": "python",
   "pygments_lexer": "ipython3",
   "version": "3.9.2"
  }
 },
 "nbformat": 4,
 "nbformat_minor": 5
}
