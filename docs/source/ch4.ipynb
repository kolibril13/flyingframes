{
 "cells": [
  {
   "cell_type": "markdown",
   "metadata": {},
   "source": [
    "# 4. Animations\n"
   ]
  },
  {
   "cell_type": "markdown",
   "metadata": {},
   "source": [
    "There are a wide range of possibilities to animate your mobjects that all work a bit differently. Here is a broad overview so that you can choose the animation stategy that fits best for your project. This chapter will cover `ValueTrackers`, `Updaters`, `self.play Transformations` the `mobject.animate` syntax and `mobject.become` syntax."
   ]
  },
  {
   "cell_type": "code",
   "execution_count": null,
   "metadata": {},
   "outputs": [],
   "source": [
    "from manim import *"
   ]
  },
  {
   "cell_type": "code",
   "execution_count": null,
   "metadata": {},
   "outputs": [],
   "source": [
    "#ignore this cell, only for setup\n",
    "params= \"-v WARNING  --progress_bar None  -r  500,200  --disable_caching Example\"\n",
    "\n",
    "NO  = Cross(Square(), stroke_color = RED_D, stroke_width = 38).scale(0.9).to_edge(LEFT, buff=1)\n",
    "YES = SVGMobject(\"good.svg\").to_edge(LEFT, buff=1)\n",
    "BEST = YES.copy()\n",
    "BEST.add(Star(color= YELLOW, fill_opacity=1).scale(0.5).move_to(BEST).shift(0.5*DOWN+0.5*RIGHT));"
   ]
  },
  {
   "cell_type": "markdown",
   "metadata": {},
   "source": [
    "## Simple Replacements"
   ]
  },
  {
   "cell_type": "code",
   "execution_count": null,
   "metadata": {},
   "outputs": [],
   "source": [
    "%%manim $params\n",
    "class Example(Scene):\n",
    "    def construct(self):\n",
    "        dot= Dot(color= YELLOW, radius=0.5)\n",
    "        self.add(dot)\n",
    "        self.wait()\n",
    "        dot.scale(2)\n",
    "        self.wait()\n",
    "        dot.scale(2)\n",
    "        self.wait(2)"
   ]
  },
  {
   "cell_type": "code",
   "execution_count": null,
   "metadata": {},
   "outputs": [],
   "source": [
    "%%manim $params\n",
    "class Example(Scene):\n",
    "    def construct(self):\n",
    "        dot= Dot(color= YELLOW, radius=0.5)\n",
    "        square= Square(side_length=4,color= BLUE, fill_opacity=1)\n",
    "        triangle= Triangle(radius=3,color= ORANGE, fill_opacity=1).shift(DOWN*0.5)\n",
    "        self.add(dot)\n",
    "        self.wait()\n",
    "        dot.become(square)\n",
    "        self.wait()\n",
    "        dot.become(triangle)\n",
    "        self.wait()"
   ]
  },
  {
   "cell_type": "markdown",
   "metadata": {},
   "source": [
    "## Using **.animate** Syntax"
   ]
  },
  {
   "cell_type": "code",
   "execution_count": null,
   "metadata": {},
   "outputs": [],
   "source": [
    "%%manim $params\n",
    "class Example(Scene):\n",
    "    def construct(self):\n",
    "        dot= Dot(color= YELLOW, radius=0.5)\n",
    "        self.play(dot.animate.scale(2))"
   ]
  },
  {
   "cell_type": "code",
   "execution_count": null,
   "metadata": {
    "tags": []
   },
   "outputs": [],
   "source": [
    "%%manim $params\n",
    "class Example(Scene):\n",
    "    def construct(self):\n",
    "        dot= Dot(color= YELLOW, radius=0.5)\n",
    "        self.play(dot.animate.shift(2*RIGHT))"
   ]
  },
  {
   "cell_type": "code",
   "execution_count": null,
   "metadata": {},
   "outputs": [],
   "source": [
    "%%manim $params\n",
    "class Example(Scene):\n",
    "    def construct(self):\n",
    "        dot= Dot(color= YELLOW, radius=0.5)\n",
    "        self.play(dot.animate.set_color(BLUE))"
   ]
  },
  {
   "cell_type": "code",
   "execution_count": null,
   "metadata": {},
   "outputs": [],
   "source": [
    "%%manim $params\n",
    "class Example(Scene):\n",
    "    def construct(self):\n",
    "        dot= Dot(color= YELLOW, radius=0.5)\n",
    "        self.play(dot.animate.shift(2*RIGHT).scale(2))"
   ]
  },
  {
   "cell_type": "code",
   "execution_count": null,
   "metadata": {},
   "outputs": [],
   "source": [
    "%%manim $params\n",
    "class Example(Scene):\n",
    "    def construct(self):\n",
    "        dot= Dot(color= YELLOW, radius=0.5)\n",
    "        self.play(dot.animate.shift(2*RIGHT).scale(2).set_color(BLUE))"
   ]
  },
  {
   "cell_type": "markdown",
   "metadata": {},
   "source": [
    "## Updaters\n",
    "They are very diverse!\n",
    "And they can be used with and without a \"dt\" parameter"
   ]
  },
  {
   "cell_type": "code",
   "execution_count": null,
   "metadata": {},
   "outputs": [],
   "source": [
    "%%manim $params\n",
    "class Example(Scene):\n",
    "    def construct(self):\n",
    "        dot = Dot(color= GREEN, radius=0.7)\n",
    "        self.add(dot)\n",
    "        def foo(mob,dt):\n",
    "            mob.shift(2*RIGHT*dt)\n",
    "        dot.add_updater(foo)\n",
    "        self.wait(3)"
   ]
  },
  {
   "cell_type": "code",
   "execution_count": null,
   "metadata": {},
   "outputs": [],
   "source": [
    "%%manim $params\n",
    "class Example(Scene):\n",
    "    def construct(self):\n",
    "        dot = Dot(color= GREEN, radius=0.7)\n",
    "        self.add(dot)\n",
    "        dot.add_updater(lambda x,dt: x.shift(2*RIGHT*dt))\n",
    "        self.wait(3)"
   ]
  },
  {
   "cell_type": "code",
   "execution_count": null,
   "metadata": {},
   "outputs": [],
   "source": [
    "%%manim $params\n",
    "class Example(Scene): # when there is no dt parameter, the updater does not work\n",
    "    def construct(self):\n",
    "        dot = Dot(color= GREEN, radius=0.7)\n",
    "        self.add(dot,NO)\n",
    "        dot.add_updater(lambda x : x.shift(2*RIGHT*0.1))\n",
    "        self.wait(3)"
   ]
  },
  {
   "cell_type": "markdown",
   "metadata": {},
   "source": [
    "Note: Not using the \"dt\" parameter will make your animation framerate dependent, but this can be solved using ValueTracker, which can be seen in the next section"
   ]
  },
  {
   "cell_type": "markdown",
   "metadata": {},
   "source": [
    "## Updaters + ValueTrackers"
   ]
  },
  {
   "cell_type": "code",
   "execution_count": null,
   "metadata": {},
   "outputs": [],
   "source": [
    "%%manim $params\n",
    "class Example(Scene):\n",
    "    def construct(self):\n",
    "        tracker= ValueTracker(0)\n",
    "        dot = Dot(color= GREEN, radius=0.7)\n",
    "        self.add(dot)\n",
    "        def foo(mob):\n",
    "            mob.move_to(RIGHT*tracker.get_value())\n",
    "        dot.add_updater(foo)\n",
    "        self.play(tracker.animate.set_value(2), rate_func= linear)"
   ]
  },
  {
   "cell_type": "markdown",
   "metadata": {},
   "source": [
    "Note: now you can also use rate functions:"
   ]
  },
  {
   "cell_type": "code",
   "execution_count": null,
   "metadata": {},
   "outputs": [],
   "source": [
    "%%manim $params\n",
    "class Example(Scene):\n",
    "    def construct(self):\n",
    "        tracker= ValueTracker(0)\n",
    "        dot = Dot(color= GREEN, radius=0.7)\n",
    "        self.add(dot)\n",
    "        def foo(mob):\n",
    "            mob.move_to(RIGHT*tracker.get_value())\n",
    "        dot.add_updater(foo)\n",
    "        self.play(tracker.animate.set_value(2), rate_func= smooth)"
   ]
  },
  {
   "cell_type": "code",
   "execution_count": null,
   "metadata": {},
   "outputs": [],
   "source": [
    "%%manim $params\n",
    "class Example(Scene):\n",
    "    def construct(self):\n",
    "        tracker= ValueTracker(0.5)\n",
    "        dot = Dot(color= GREEN, radius=0.7)\n",
    "        self.add(dot)\n",
    "        def foo(mob):\n",
    "            mob.move_to(RIGHT*tracker.get_value())\n",
    "        dot.add_updater(foo)\n",
    "        self.play(tracker.animate.set_value(2.2), rate_func= smooth)\n",
    "        self.play(tracker.animate.increment_value(1), rate_func= smooth)\n",
    "        self.play(tracker.animate.increment_value(-1), rate_func= smooth)\n",
    "        self.play(tracker.animate.set_value(0.5), rate_func= linear)\n"
   ]
  },
  {
   "cell_type": "code",
   "execution_count": null,
   "metadata": {},
   "outputs": [],
   "source": [
    "%%manim $params\n",
    "#one can now also add additional properties to mobjects, in this case a counter.\n",
    "class Example(Scene):\n",
    "    def construct(self):\n",
    "        tracker= ValueTracker(0)\n",
    "        dot = Dot(color= GREEN, radius=0.7)\n",
    "        self.add(dot)\n",
    "        dot.counter=0\n",
    "        def foo(mob):\n",
    "            mob.move_to(RIGHT*tracker.get_value())\n",
    "            if mob.counter == 20:\n",
    "                mob.set_color(random_bright_color())\n",
    "                mob.counter = 0\n",
    "            mob.counter += 1\n",
    "        dot.add_updater(foo)\n",
    "        self.play(tracker.animate.set_value(2), rate_func= linear, run_time=3)"
   ]
  },
  {
   "cell_type": "markdown",
   "metadata": {},
   "source": [
    "## Transformations"
   ]
  },
  {
   "cell_type": "code",
   "execution_count": null,
   "metadata": {},
   "outputs": [],
   "source": [
    "%%manim $params\n",
    "class Example(Scene):\n",
    "    def construct(self):\n",
    "        d= Dot(color= YELLOW, radius=0.5)\n",
    "        d2= d.copy().shift(2*RIGHT)\n",
    "        self.play(Transform(d, d2))"
   ]
  },
  {
   "cell_type": "markdown",
   "metadata": {},
   "source": [
    "## Does and Donts"
   ]
  },
  {
   "cell_type": "markdown",
   "metadata": {},
   "source": [
    "Note that when you choose to work with updaters, your script might depend on the frame rate.\n"
   ]
  },
  {
   "cell_type": "code",
   "execution_count": null,
   "metadata": {},
   "outputs": [],
   "source": [
    "%%manim $params\n",
    "class Example(Scene):\n",
    "    def construct(self):\n",
    "        print(f\"{config.frame_rate = }fps\")\n",
    "        dotred= Dot(color= RED, radius=0.5).shift(UP)\n",
    "        dotgreen = Dot(color= GREEN, radius=0.5)\n",
    "        dotgreen.next_to(dotred,DOWN)\n",
    "        self.add(dotgreen,dotred)\n",
    "        DIR= 2*RIGHT\n",
    "        dotgreen.add_updater(lambda x,dt: x.shift(DIR*dt))\n",
    "        dotred.add_updater(lambda x,dt: x.shift(DIR*1/60))\n",
    "        self.wait(3)"
   ]
  },
  {
   "cell_type": "code",
   "execution_count": null,
   "metadata": {},
   "outputs": [],
   "source": [
    "params5fps = \"-v WARNING  --progress_bar None  --frame_rate=5 -r  500,200  --disable_caching Example\""
   ]
  },
  {
   "cell_type": "code",
   "execution_count": null,
   "metadata": {},
   "outputs": [],
   "source": [
    "%%manim $params5fps\n",
    "class Example(Scene):\n",
    "    def construct(self):\n",
    "        print(f\"{config.frame_rate = }fps\")\n",
    "        dotred= Dot(color= RED, radius=0.5).shift(UP)\n",
    "        dotgreen = Dot(color= GREEN, radius=0.5)\n",
    "        dotgreen.next_to(dotred,DOWN)\n",
    "        self.add(dotgreen,dotred)\n",
    "        DIR= 2*RIGHT\n",
    "        dotgreen.add_updater(lambda x,dt: x.shift(DIR*dt))\n",
    "        dotred.add_updater(lambda x,dt: x.shift(DIR*1/60))\n",
    "        self.wait(3)"
   ]
  },
  {
   "cell_type": "markdown",
   "metadata": {},
   "source": [
    "### Rotation animation\n",
    "There are multiple ways to rotate a square, but not all will result in that animation that you might have expected."
   ]
  },
  {
   "cell_type": "code",
   "execution_count": null,
   "metadata": {},
   "outputs": [],
   "source": [
    "%%manim $params\n",
    "\n",
    "class Example(Scene):\n",
    "    def construct(self, **kwargs):\n",
    "        s1= Square().set_color(YELLOW)\n",
    "        self.add(s1, BEST)\n",
    "        self.play(Rotate(s1, angle=PI/2))"
   ]
  },
  {
   "cell_type": "code",
   "execution_count": null,
   "metadata": {},
   "outputs": [],
   "source": [
    "%%manim $params\n",
    "class Example(Scene):\n",
    "    def construct(self, **kwargs):\n",
    "        s2= Square().set_color(PURPLE)\n",
    "        self.add(s2, NO)\n",
    "        self.play(s2.animate.rotate(PI/2))"
   ]
  },
  {
   "cell_type": "code",
   "execution_count": null,
   "metadata": {},
   "outputs": [],
   "source": [
    "%%manim $params\n",
    "\n",
    "class Example(Scene):\n",
    "    def construct(self, **kwargs):\n",
    "        theta_track= ValueTracker(0)\n",
    "        s3= Square().set_color(ORANGE)\n",
    "        self.add(s3, YES)\n",
    "        s3.previous_angle=0\n",
    "        def pref(x):\n",
    "            x.previous_angle=theta_track.get_value()\n",
    "        s3.add_updater(lambda x: x.rotate(theta_track.get_value()-s3.previous_angle))\n",
    "        s3.add_updater(pref)\n",
    "        self.play(theta_track.animate.increment_value(PI/2))\n"
   ]
  },
  {
   "cell_type": "code",
   "execution_count": null,
   "metadata": {},
   "outputs": [],
   "source": [
    "#not yet implemented\n",
    "#class Example(Scene):\n",
    "#    def construct(self, **kwargs):\n",
    "        #s3b= Square().set_color(YELLOW)\n",
    "        #self.add(s3b)\n",
    "        #theta_track= DeltaValueTracker(0)\n",
    "        #s3b.add_updater(lambda x: x.rotate(theta_track.get_delta_value()))\n",
    "        #self.play(theta_track.animate.set_value(90*DEGREES))"
   ]
  },
  {
   "cell_type": "code",
   "execution_count": null,
   "metadata": {},
   "outputs": [],
   "source": [
    "%%manim $params\n",
    "# NOT WORKING!, BAD PRACTICE.\n",
    "class Example(Scene):\n",
    "    def construct(self, **kwargs):\n",
    "        s4= Square().set_color(GREEN)\n",
    "        self.add(s4, NO)\n",
    "        theta_track= ValueTracker(0)\n",
    "        s4.add_updater(lambda x: x.rotate(theta_track.get_value()))\n",
    "        self.play(theta_track.animate.increment_value(PI/2))"
   ]
  },
  {
   "cell_type": "code",
   "execution_count": null,
   "metadata": {},
   "outputs": [],
   "source": [
    "%%manim $params\n",
    "class Example(Scene):\n",
    "    def construct(self, **kwargs):\n",
    "        s6= Square().set_color(PINK)\n",
    "        self.add(s6, YES)\n",
    "        s6.add_updater(lambda x, dt: x.rotate(dt*PI/2))\n",
    "        self.wait(1)"
   ]
  },
  {
   "cell_type": "markdown",
   "metadata": {},
   "source": [
    "### Known bugs\n",
    "#### Bug with updaters that do not have a dt"
   ]
  },
  {
   "cell_type": "code",
   "execution_count": null,
   "metadata": {},
   "outputs": [],
   "source": [
    "%%manim $params\n",
    "class Example(Scene):\n",
    "    def construct(self):\n",
    "        dot = Dot(color= GREEN, radius=0.7)\n",
    "        self.add(dot,NO)\n",
    "        \n",
    "        #dot.add_updater(lambda x,dt : x) \n",
    "\n",
    "        dot.add_updater(lambda x : x.shift(2*RIGHT*1/config.frame_rate))\n",
    "        self.wait(3)"
   ]
  },
  {
   "cell_type": "code",
   "execution_count": null,
   "metadata": {},
   "outputs": [],
   "source": [
    "%%manim $params\n",
    "class Example(Scene): \n",
    "    def construct(self):\n",
    "        dot = Dot(color= GREEN, radius=0.7)\n",
    "        self.add(dot,YES)\n",
    "        \n",
    "        dot.add_updater(lambda x,dt : x) #adding this line will make the updater continiously watch\n",
    "\n",
    "        dot.add_updater(lambda x : x.shift(2*RIGHT*1/config.frame_rate))\n",
    "        self.wait(3)"
   ]
  },
  {
   "cell_type": "markdown",
   "metadata": {},
   "source": [
    "### Bugs with updater in ZoomedScene"
   ]
  },
  {
   "cell_type": "code",
   "execution_count": null,
   "metadata": {},
   "outputs": [],
   "source": [
    "%%manim $params\n",
    "class Example(ZoomedScene):\n",
    "    def __init__(self, **kwargs):\n",
    "        ZoomedScene.__init__(\n",
    "            self,\n",
    "            zoom_factor=0.3,\n",
    "            zoomed_display_height=4,\n",
    "            zoomed_display_width=4,\n",
    "            image_frame_stroke_width=20,\n",
    "            zoomed_camera_config={\n",
    "                \"default_frame_stroke_width\": 3,\n",
    "            },\n",
    "            **kwargs\n",
    "        )\n",
    "    def construct(self):\n",
    "        d= Dot()\n",
    "        self.add(d)\n",
    "        imgo =Square().scale(0.3).set_color(RED)\n",
    "        self.add(imgo)\n",
    "        #imgo.add_updater(lambda x: x) # COMMENTED OUT\n",
    "        self.activate_zooming(animate=True)\n",
    "        self.play(self.zoomed_camera.frame.animate.shift(0.5 * (LEFT+UP*0.8)))\n",
    "        self.play(self.zoomed_camera.frame.animate.shift(0.5 * (RIGHT+DOWN*2.8)))"
   ]
  },
  {
   "cell_type": "code",
   "execution_count": null,
   "metadata": {},
   "outputs": [],
   "source": [
    "%%manim $params\n",
    "class Example(ZoomedScene):\n",
    "    def __init__(self, **kwargs):\n",
    "        ZoomedScene.__init__(\n",
    "            self,\n",
    "            zoom_factor=0.3,\n",
    "            zoomed_display_height=4,\n",
    "            zoomed_display_width=4,\n",
    "            image_frame_stroke_width=20,\n",
    "            zoomed_camera_config={\n",
    "                \"default_frame_stroke_width\": 3,\n",
    "            },\n",
    "            **kwargs\n",
    "        )\n",
    "    def construct(self):\n",
    "        d= Dot()\n",
    "        self.add(d)\n",
    "        imgo =Square().scale(0.3).set_color(RED)\n",
    "        self.add(imgo)\n",
    "        imgo.add_updater(lambda x: x) # INCLUDED\n",
    "        self.activate_zooming(animate=True)\n",
    "        self.play(self.zoomed_camera.frame.animate.shift(0.5 * (LEFT+UP*0.8)))\n",
    "        self.play(self.zoomed_camera.frame.animate.shift(0.5 * (RIGHT+DOWN*2.8)))"
   ]
  },
  {
   "cell_type": "code",
   "execution_count": null,
   "metadata": {},
   "outputs": [],
   "source": []
  }
 ],
 "metadata": {
  "kernelspec": {
   "display_name": "Python 3",
   "language": "python",
   "name": "python3"
  },
  "language_info": {
   "codemirror_mode": {
    "name": "ipython",
    "version": 3
   },
   "file_extension": ".py",
   "mimetype": "text/x-python",
   "name": "python",
   "nbconvert_exporter": "python",
   "pygments_lexer": "ipython3",
   "version": "3.9.5"
  }
 },
 "nbformat": 4,
 "nbformat_minor": 4
}
