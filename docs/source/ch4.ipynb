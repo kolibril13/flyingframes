{
 "cells": [
  {
   "cell_type": "markdown",
   "metadata": {},
   "source": [
    "# (Chapter 4 - Building Scenes)\n",
    " "
   ]
  },
  {
   "cell_type": "code",
   "execution_count": null,
   "metadata": {},
   "outputs": [],
   "source": [
    "from manim import *"
   ]
  },
  {
   "cell_type": "markdown",
   "metadata": {},
   "source": [
    "## Scene coordinates\n",
    "First, let's learn a bit about how manim coordinates work\n",
    "There is the config.frame_width, config.frame_height which is unrelated to the pixelsize\n",
    "The default values are 14.222 and 8. These values are chosen, because it gives and width/height ratio of 16/9, which is a commen screen resolution.\n",
    "The coordinate center of scenes is in the center, which is at (0,0). most left is (-7.1,0), most right is (7.1,0), top is  (0,4), and button is (0,-4)"
   ]
  },
  {
   "cell_type": "code",
   "execution_count": null,
   "metadata": {},
   "outputs": [],
   "source": [
    "config.frame_width/config.frame_height "
   ]
  },
  {
   "cell_type": "code",
   "execution_count": null,
   "metadata": {},
   "outputs": [],
   "source": [
    "16/9"
   ]
  },
  {
   "cell_type": "code",
   "execution_count": null,
   "metadata": {},
   "outputs": [],
   "source": [
    "# for setup only\n",
    "def yellow_frame_annotation(framew, frameh):\n",
    "    d1 = DoubleArrow(framew * LEFT / 2, framew * RIGHT / 2, buff=0).to_edge(DOWN)\n",
    "    t1 = Text(str(framew)[:6]).next_to(d1, UP)\n",
    "    d2 = DoubleArrow(frameh * UP / 2, frameh * DOWN / 2, buff=0).to_edge(LEFT)\n",
    "    t2= Text(str(frameh)).next_to(d2, RIGHT)\n",
    "    x=Group(d1,d2,t1,t2).set_color(YELLOW)\n",
    "    return x\n",
    "\n",
    "def blue_pixel_annotation(framew, frameh,pixelw, pixelh):\n",
    "    d1 = DoubleArrow(framew * LEFT / 2, framew * RIGHT / 2, buff=0).to_edge(UP)\n",
    "    t1 = Text(str(pixelw) + \" pixel\").next_to(d1, DOWN)\n",
    "    d2 = DoubleArrow(frameh * UP / 2, frameh * DOWN / 2, buff=0).to_edge(RIGHT)\n",
    "    t2= Text(str(pixelh) + \" pixel\").next_to(d2, LEFT)\n",
    "    x=Group(d1,d2,t1,t2).set_color(BLUE)\n",
    "    return x"
   ]
  },
  {
   "cell_type": "markdown",
   "metadata": {},
   "source": [
    "###  Pixel ratio of 16/9\n",
    "see a table of commen 16/9 resolutions here https://en.wikipedia.org/wiki/16:9_aspect_ratio#Common_resolutions"
   ]
  },
  {
   "cell_type": "code",
   "execution_count": null,
   "metadata": {},
   "outputs": [],
   "source": [
    "%%manim -v WARNING  -s -r 160,90 --disable_caching Example\n",
    "class Example(Scene):\n",
    "    def construct(self):\n",
    "        self.add(Annulus(innter_radius=1,outer_radius=2,color=WHITE,  stroke_width=10))\n",
    "        x= yellow_frame_annotation(config.frame_width,config.frame_height)\n",
    "        self.add(x)\n",
    "        y= blue_pixel_annotation(config.frame_width,config.frame_height,config.pixel_width,config.pixel_height)\n",
    "        self.add(y)"
   ]
  },
  {
   "cell_type": "code",
   "execution_count": null,
   "metadata": {},
   "outputs": [],
   "source": [
    "%%manim -v WARNING  -s -r 256,144 --disable_caching Example\n",
    "class Example(Scene):\n",
    "    def construct(self):\n",
    "        self.add(Annulus(innter_radius=1,outer_radius=2,color=WHITE,  stroke_width=10))\n",
    "        x= yellow_frame_annotation(config.frame_width,config.frame_height)\n",
    "        self.add(x)\n",
    "        y= blue_pixel_annotation(config.frame_width,config.frame_height,config.pixel_width,config.pixel_height)\n",
    "        self.add(y)"
   ]
  },
  {
   "cell_type": "code",
   "execution_count": null,
   "metadata": {},
   "outputs": [],
   "source": [
    "%%manim -v WARNING  -s -ql --disable_caching Example\n",
    "class Example(Scene):\n",
    "    def construct(self):\n",
    "        self.add(Annulus(innter_radius=1,outer_radius=2,color=WHITE,  stroke_width=10))\n",
    "        x= yellow_frame_annotation(config.frame_width,config.frame_height)\n",
    "        self.add(x)\n",
    "        y= blue_pixel_annotation(config.frame_width,config.frame_height,config.pixel_width,config.pixel_height)\n",
    "        self.add(y)"
   ]
  },
  {
   "cell_type": "code",
   "execution_count": null,
   "metadata": {},
   "outputs": [],
   "source": [
    "%%manim -v WARNING  -s -qm --disable_caching Example\n",
    "\n",
    "class Example(Scene):\n",
    "    def construct(self):\n",
    "        self.add(Annulus(innter_radius=1,outer_radius=2,color=WHITE,  stroke_width=10))\n",
    "        x= yellow_frame_annotation(config.frame_width,config.frame_height)\n",
    "        self.add(x)\n",
    "        y= blue_pixel_annotation(config.frame_width,config.frame_height,config.pixel_width,config.pixel_height)\n",
    "        self.add(y)"
   ]
  },
  {
   "cell_type": "markdown",
   "metadata": {},
   "source": [
    "<div class=\"alert alert-info\">\n",
    "\n",
    "Note\n",
    "\n",
    "The borders of this website are narrow.  \n",
    "To see the changes in high resolution, open this image in a new tab.\n",
    "\n",
    "</div>"
   ]
  },
  {
   "cell_type": "code",
   "execution_count": null,
   "metadata": {},
   "outputs": [],
   "source": [
    "%%manim -v WARNING  -s -qh --disable_caching Example\n",
    "\n",
    "class Example(Scene):\n",
    "    def construct(self):\n",
    "        self.add(Annulus(innter_radius=1,outer_radius=2,color=WHITE,  stroke_width=10))\n",
    "        x= yellow_frame_annotation(config.frame_width,config.frame_height)\n",
    "        self.add(x)\n",
    "        y= blue_pixel_annotation(config.frame_width,config.frame_height,config.pixel_width,config.pixel_height)\n",
    "        self.add(y)"
   ]
  },
  {
   "cell_type": "markdown",
   "metadata": {},
   "source": [
    "###  Pixel ratio unequal to 16/9\n",
    "\n",
    "* When the pixel ratio is heigher then 16/9 frame_height cropped. \n",
    "* When the pixel ratio is lower then 16/9 frame_height padded. "
   ]
  },
  {
   "cell_type": "code",
   "execution_count": null,
   "metadata": {},
   "outputs": [],
   "source": [
    "%%manim -v WARNING  -s -r 1000,500 --disable_caching Example\n",
    "#ratio of 2/1\n",
    "class Example(Scene):\n",
    "    def construct(self):\n",
    "        self.add(Annulus(innter_radius=1,outer_radius=2,color=WHITE,  stroke_width=10))\n",
    "        x= yellow_frame_annotation(config.frame_width,config.frame_height)\n",
    "        self.add(x)\n",
    "        y= blue_pixel_annotation(config.frame_width,config.frame_height,config.pixel_width,config.pixel_height)\n",
    "        self.add(y)"
   ]
  },
  {
   "cell_type": "code",
   "execution_count": null,
   "metadata": {},
   "outputs": [],
   "source": [
    "%%manim -v WARNING  -s -r 1000,50 --disable_caching Example\n",
    "#ratio of 20/1\n",
    "class Example(Scene):\n",
    "    def construct(self):\n",
    "        self.add(Annulus(innter_radius=1,outer_radius=2,color=WHITE,  stroke_width=10))\n",
    "        x= yellow_frame_annotation(config.frame_width,config.frame_height)\n",
    "        self.add(x)\n",
    "        y= blue_pixel_annotation(config.frame_width,config.frame_height,config.pixel_width,config.pixel_height)\n",
    "        self.add(y)"
   ]
  },
  {
   "cell_type": "code",
   "execution_count": null,
   "metadata": {},
   "outputs": [],
   "source": [
    "%%manim -v WARNING  -s -r 500,1000 --disable_caching Example\n",
    "#ratio of 1/2\n",
    "class Example(Scene):\n",
    "    def construct(self):\n",
    "        self.add(Annulus(innter_radius=1,outer_radius=2,color=WHITE,  stroke_width=10))\n",
    "        x= yellow_frame_annotation(config.frame_width,config.frame_height)\n",
    "        self.add(x)\n",
    "        y= blue_pixel_annotation(config.frame_width,config.frame_height,config.pixel_width,config.pixel_height)\n",
    "        self.add(y)"
   ]
  },
  {
   "cell_type": "markdown",
   "metadata": {},
   "source": [
    "Scenes in manim can become cluttered very easily. As you want to have videos in the end, and not the code, code tidyness is not crucial, but often it is useful to stay organized and to not get lost in complex scenes."
   ]
  },
  {
   "cell_type": "markdown",
   "metadata": {},
   "source": [
    "## More comming soon!\n"
   ]
  }
 ],
 "metadata": {
  "kernelspec": {
   "display_name": "Python 3",
   "language": "python",
   "name": "python3"
  },
  "language_info": {
   "codemirror_mode": {
    "name": "ipython",
    "version": 3
   },
   "file_extension": ".py",
   "mimetype": "text/x-python",
   "name": "python",
   "nbconvert_exporter": "python",
   "pygments_lexer": "ipython3",
   "version": "3.9.5"
  }
 },
 "nbformat": 4,
 "nbformat_minor": 4
}
