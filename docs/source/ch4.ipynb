{
 "cells": [
  {
   "cell_type": "markdown",
   "metadata": {},
   "source": [
    "# Animations\n"
   ]
  },
  {
   "cell_type": "markdown",
   "metadata": {},
   "source": [
    "There are a wide range of possibilities to animate your mobjects that all work a bit differently. Here is a broad overview so that you can choose the animation stategy that fits best for your project. This chapter will cover `ValueTrackers`, `Updaters`, `self.play Transformations` the `mobject.animate` syntax and `mobject.become` syntax."
   ]
  },
  {
   "cell_type": "code",
   "execution_count": 11,
   "metadata": {},
   "outputs": [],
   "source": [
    "from manim import *"
   ]
  },
  {
   "cell_type": "code",
   "execution_count": 12,
   "metadata": {},
   "outputs": [],
   "source": [
    "#ignore this cell, only for setup\n",
    "param= \"-v WARNING  --progress_bar None  -r  500,200  --disable_caching Example\"\n",
    "config.media_embed = True\n",
    "\n",
    "NO  = Cross(Square(), stroke_color = RED_D, stroke_width = 38).scale(0.9).to_edge(LEFT, buff=1)\n",
    "YES = SVGMobject(\"good.svg\").to_edge(LEFT, buff=1)\n",
    "BEST = YES.copy()\n",
    "BEST.add(Star(color= YELLOW, fill_opacity=1).scale(0.5).move_to(BEST).shift(0.5*DOWN+0.5*RIGHT));"
   ]
  },
  {
   "cell_type": "markdown",
   "metadata": {},
   "source": [
    "## Simple Replacements"
   ]
  },
  {
   "cell_type": "code",
   "execution_count": 13,
   "metadata": {},
   "outputs": [
    {
     "data": {
      "text/html": [
       "<video controls autoplay loop style=\"max-width: 60%;\"  >\n",
       " <source src=\"data:video/mp4;base64,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\" type=\"video/mp4\">\n",
       " Your browser does not support the video tag.\n",
       " </video>"
      ],
      "text/plain": [
       "<IPython.core.display.Video object>"
      ]
     },
     "metadata": {},
     "output_type": "display_data"
    }
   ],
   "source": [
    "%%manim $param\n",
    "class Example(Scene):\n",
    "    def construct(self):\n",
    "        dot= Dot(color= YELLOW, radius=0.5)\n",
    "        self.add(dot)\n",
    "        self.wait()\n",
    "        dot.scale(2)\n",
    "        self.wait()\n",
    "        dot.scale(2)\n",
    "        self.wait(2)"
   ]
  },
  {
   "cell_type": "code",
   "execution_count": null,
   "metadata": {},
   "outputs": [],
   "source": [
    "%%manim $param\n",
    "class Example(Scene):\n",
    "    def construct(self):\n",
    "        dot= Dot(color= YELLOW, radius=0.5)\n",
    "        square= Square(side_length=4,color= BLUE, fill_opacity=1)\n",
    "        triangle= Triangle(radius=3,color= ORANGE, fill_opacity=1).shift(DOWN*0.5)\n",
    "        self.add(dot)\n",
    "        self.wait()\n",
    "        dot.become(square)\n",
    "        self.wait()\n",
    "        dot.become(triangle)\n",
    "        self.wait()"
   ]
  },
  {
   "cell_type": "markdown",
   "metadata": {},
   "source": [
    "## Using **.animate** Syntax"
   ]
  },
  {
   "cell_type": "code",
   "execution_count": null,
   "metadata": {},
   "outputs": [],
   "source": [
    "%%manim $param\n",
    "class Example(Scene):\n",
    "    def construct(self):\n",
    "        dot= Dot(color= YELLOW, radius=0.5)\n",
    "        self.play(dot.animate.scale(2))"
   ]
  },
  {
   "cell_type": "code",
   "execution_count": null,
   "metadata": {
    "tags": []
   },
   "outputs": [],
   "source": [
    "%%manim $param\n",
    "class Example(Scene):\n",
    "    def construct(self):\n",
    "        dot= Dot(color= YELLOW, radius=0.5)\n",
    "        self.play(dot.animate.shift(2*RIGHT))"
   ]
  },
  {
   "cell_type": "code",
   "execution_count": null,
   "metadata": {},
   "outputs": [],
   "source": [
    "%%manim $param\n",
    "class Example(Scene):\n",
    "    def construct(self):\n",
    "        dot= Dot(color= YELLOW, radius=0.5)\n",
    "        self.play(dot.animate.set_color(BLUE))"
   ]
  },
  {
   "cell_type": "code",
   "execution_count": null,
   "metadata": {},
   "outputs": [],
   "source": [
    "%%manim $param\n",
    "class Example(Scene):\n",
    "    def construct(self):\n",
    "        dot= Dot(color= YELLOW, radius=0.5)\n",
    "        self.play(dot.animate.shift(2*RIGHT).scale(2))"
   ]
  },
  {
   "cell_type": "code",
   "execution_count": null,
   "metadata": {},
   "outputs": [],
   "source": [
    "%%manim $param\n",
    "class Example(Scene):\n",
    "    def construct(self):\n",
    "        dot= Dot(color= YELLOW, radius=0.5)\n",
    "        self.play(dot.animate.shift(2*RIGHT).scale(2).set_color(BLUE))"
   ]
  },
  {
   "cell_type": "markdown",
   "metadata": {},
   "source": [
    "## Updaters\n",
    "They are very diverse!\n",
    "And they can be used with and without a \"dt\" parameter"
   ]
  },
  {
   "cell_type": "code",
   "execution_count": null,
   "metadata": {},
   "outputs": [],
   "source": [
    "%%manim $param\n",
    "class Example(Scene):\n",
    "    def construct(self):\n",
    "        dot = Dot(color= GREEN, radius=0.7)\n",
    "        self.add(dot)\n",
    "        def foo(mob,dt):\n",
    "            mob.shift(2*RIGHT*dt)\n",
    "        dot.add_updater(foo)\n",
    "        self.wait(3)"
   ]
  },
  {
   "cell_type": "code",
   "execution_count": null,
   "metadata": {},
   "outputs": [],
   "source": [
    "%%manim $param\n",
    "class Example(Scene):\n",
    "    def construct(self):\n",
    "        dot = Dot(color= GREEN, radius=0.7)\n",
    "        self.add(dot)\n",
    "        dot.add_updater(lambda x,dt: x.shift(2*RIGHT*dt))\n",
    "        self.wait(3)"
   ]
  },
  {
   "cell_type": "code",
   "execution_count": null,
   "metadata": {},
   "outputs": [],
   "source": [
    "%%manim $param\n",
    "class Example(Scene): # when there is no dt parameter, the updater does not work\n",
    "    def construct(self):\n",
    "        dot = Dot(color= GREEN, radius=0.7)\n",
    "        self.add(dot,NO)\n",
    "        dot.add_updater(lambda x : x.shift(2*RIGHT*0.1))\n",
    "        self.wait(3)"
   ]
  },
  {
   "cell_type": "markdown",
   "metadata": {},
   "source": [
    "Note: Not using the \"dt\" parameter will make your animation framerate dependent, but this can be solved using ValueTracker, which can be seen in the next section"
   ]
  },
  {
   "cell_type": "markdown",
   "metadata": {},
   "source": [
    "## Updaters + ValueTrackers"
   ]
  },
  {
   "cell_type": "code",
   "execution_count": null,
   "metadata": {},
   "outputs": [],
   "source": [
    "%%manim $param\n",
    "class Example(Scene):\n",
    "    def construct(self):\n",
    "        tracker= ValueTracker(0)\n",
    "        dot = Dot(color= GREEN, radius=0.7)\n",
    "        self.add(dot)\n",
    "        def foo(mob):\n",
    "            mob.move_to(RIGHT*tracker.get_value())\n",
    "        dot.add_updater(foo)\n",
    "        self.play(tracker.animate.set_value(2), rate_func= linear)"
   ]
  },
  {
   "cell_type": "markdown",
   "metadata": {},
   "source": [
    "Note: now you can also use rate functions:"
   ]
  },
  {
   "cell_type": "code",
   "execution_count": null,
   "metadata": {},
   "outputs": [],
   "source": [
    "%%manim $param\n",
    "class Example(Scene):\n",
    "    def construct(self):\n",
    "        tracker= ValueTracker(0)\n",
    "        dot = Dot(color= GREEN, radius=0.7)\n",
    "        self.add(dot)\n",
    "        def foo(mob):\n",
    "            mob.move_to(RIGHT*tracker.get_value())\n",
    "        dot.add_updater(foo)\n",
    "        self.play(tracker.animate.set_value(2), rate_func= smooth)"
   ]
  },
  {
   "cell_type": "markdown",
   "metadata": {},
   "source": [
    "and this is how to make a custom rate function, e.g. a for a low frame rate within a high frame rate video:"
   ]
  },
  {
   "cell_type": "code",
   "execution_count": null,
   "metadata": {},
   "outputs": [],
   "source": [
    "%%manim $param\n",
    "\n",
    "def low_frame_rate(t):\n",
    "    return np.floor(t*10)/10\n",
    "\n",
    "class Example(Scene):\n",
    "    def construct(self):\n",
    "        self.camera.background_color = \"#ece6e2\"\n",
    "        banner = ManimBanner(dark_theme=False).scale(0.7)\n",
    "        banner2 = banner.copy()\n",
    "        Group(banner, banner2).arrange(DOWN)\n",
    "        self.play(banner.expand(), rate_func = low_frame_rate)\n",
    "        self.play(banner2.expand())\n",
    "        self.wait()"
   ]
  },
  {
   "cell_type": "code",
   "execution_count": null,
   "metadata": {
    "tags": []
   },
   "outputs": [],
   "source": [
    "%%manim $param\n",
    "class Example(Scene):\n",
    "    def construct(self):\n",
    "        tracker= ValueTracker(0.5)\n",
    "        dot = Dot(color= GREEN, radius=0.7)\n",
    "        self.add(dot)\n",
    "        def foo(mob):\n",
    "            mob.move_to(RIGHT*tracker.get_value())\n",
    "        dot.add_updater(foo)\n",
    "        self.play(tracker.animate.set_value(2.2), rate_func= smooth)\n",
    "        self.play(tracker.animate.increment_value(1), rate_func= smooth)\n",
    "        self.play(tracker.animate.increment_value(-1), rate_func= smooth)\n",
    "        self.play(tracker.animate.set_value(0.5), rate_func= linear)\n"
   ]
  },
  {
   "cell_type": "markdown",
   "metadata": {},
   "source": [
    "It's also possible to use different rate functions simultaneously:"
   ]
  },
  {
   "cell_type": "code",
   "execution_count": null,
   "metadata": {},
   "outputs": [],
   "source": [
    "%%manim $param\n",
    "class Example(Scene):\n",
    "    def construct(self):\n",
    "        line1 = Line(3*LEFT, 3*RIGHT, stroke_width=10).set_color(RED)\n",
    "        line2 = Line(3*LEFT, 3*RIGHT, stroke_width=10).set_color(GREEN)\n",
    "        Group(line1,line2).arrange(DOWN, buff=2)\n",
    "\n",
    "        d1 = Dot(point = line1.get_left(), radius=0.5)\n",
    "        d2 = Dot(point = line2.get_left(), radius=0.5)\n",
    "\n",
    "        label1 = Tex(\"smooth\").scale(2).next_to(line1, buff= 1)\n",
    "        label2 = Tex(\"linear\").scale(2).next_to(line2, buff= 1)\n",
    "\n",
    "        tr1=ValueTracker(-3)\n",
    "        tr2=ValueTracker(-3)\n",
    "\n",
    "        d1.add_updater(lambda z: z.set_x(tr1.get_value()))\n",
    "        d2.add_updater(lambda z: z.set_x(tr2.get_value()))\n",
    "        \n",
    "        self.add(line1,line2,d1,d2,label1,label2 )\n",
    "\n",
    "        self.play(tr1.animate(rate_func=smooth).set_value(3), tr2.animate(rate_func=linear).set_value(3))\n",
    "        self.wait()"
   ]
  },
  {
   "cell_type": "code",
   "execution_count": null,
   "metadata": {},
   "outputs": [],
   "source": [
    "%%manim $param\n",
    "#one can now also add additional properties to mobjects, in this case a counter.\n",
    "class Example(Scene):\n",
    "    def construct(self):\n",
    "        tracker= ValueTracker(0)\n",
    "        dot = Dot(color= GREEN, radius=0.7)\n",
    "        self.add(dot)\n",
    "        dot.counter=0\n",
    "        def foo(mob):\n",
    "            mob.move_to(RIGHT*tracker.get_value())\n",
    "            if mob.counter == 20:\n",
    "                mob.set_color(random_bright_color())\n",
    "                mob.counter = 0\n",
    "            mob.counter += 1\n",
    "        dot.add_updater(foo)\n",
    "        self.play(tracker.animate.set_value(2), rate_func= linear, run_time=3)"
   ]
  },
  {
   "cell_type": "markdown",
   "metadata": {},
   "source": [
    "## Transformations"
   ]
  },
  {
   "cell_type": "code",
   "execution_count": null,
   "metadata": {},
   "outputs": [],
   "source": [
    "%%manim $param\n",
    "class Example(Scene):\n",
    "    def construct(self):\n",
    "        d= Dot(color= YELLOW, radius=0.5)\n",
    "        d2= d.copy().shift(2*RIGHT)\n",
    "        self.play(Transform(d, d2))"
   ]
  },
  {
   "cell_type": "markdown",
   "metadata": {},
   "source": [
    "## Does and Donts"
   ]
  },
  {
   "cell_type": "markdown",
   "metadata": {},
   "source": [
    "Note that when you choose to work with updaters, your script might depend on the frame rate.\n"
   ]
  },
  {
   "cell_type": "code",
   "execution_count": null,
   "metadata": {},
   "outputs": [],
   "source": [
    "%%manim $param\n",
    "class Example(Scene):\n",
    "    def construct(self):\n",
    "        print(f\"{config.frame_rate = }fps\")\n",
    "        dotred= Dot(color= RED, radius=0.5).shift(UP)\n",
    "        dotgreen = Dot(color= GREEN, radius=0.5)\n",
    "        dotgreen.next_to(dotred,DOWN)\n",
    "        self.add(dotgreen,dotred)\n",
    "        DIR= 2*RIGHT\n",
    "        dotgreen.add_updater(lambda x,dt: x.shift(DIR*dt))\n",
    "        dotred.add_updater(lambda x,dt: x.shift(DIR*1/60))\n",
    "        self.wait(3)"
   ]
  },
  {
   "cell_type": "code",
   "execution_count": null,
   "metadata": {},
   "outputs": [],
   "source": [
    "param5fps = \"-v WARNING  --progress_bar None  --frame_rate=5 -r  500,200  --disable_caching Example\""
   ]
  },
  {
   "cell_type": "code",
   "execution_count": null,
   "metadata": {},
   "outputs": [],
   "source": [
    "%%manim $param5fps\n",
    "class Example(Scene):\n",
    "    def construct(self):\n",
    "        print(f\"{config.frame_rate = }fps\")\n",
    "        dotred= Dot(color= RED, radius=0.5).shift(UP)\n",
    "        dotgreen = Dot(color= GREEN, radius=0.5)\n",
    "        dotgreen.next_to(dotred,DOWN)\n",
    "        self.add(dotgreen,dotred)\n",
    "        DIR= 2*RIGHT\n",
    "        dotgreen.add_updater(lambda x,dt: x.shift(DIR*dt))\n",
    "        dotred.add_updater(lambda x,dt: x.shift(DIR*1/60))\n",
    "        self.wait(3)"
   ]
  },
  {
   "cell_type": "markdown",
   "metadata": {},
   "source": [
    "### Rotation animation\n",
    "There are multiple ways to rotate a square, but not all will result in that animation that you might have expected."
   ]
  },
  {
   "cell_type": "code",
   "execution_count": null,
   "metadata": {},
   "outputs": [],
   "source": [
    "%%manim $param\n",
    "\n",
    "class Example(Scene):\n",
    "    def construct(self, **kwargs):\n",
    "        s1= Square().set_color(YELLOW)\n",
    "        self.add(s1, BEST)\n",
    "        self.play(Rotate(s1, angle=PI/2))"
   ]
  },
  {
   "cell_type": "code",
   "execution_count": null,
   "metadata": {},
   "outputs": [],
   "source": [
    "%%manim $param\n",
    "class Example(Scene):\n",
    "    def construct(self, **kwargs):\n",
    "        s2= Square().set_color(PURPLE)\n",
    "        self.add(s2, NO)\n",
    "        self.play(s2.animate.rotate(PI/2))"
   ]
  },
  {
   "cell_type": "code",
   "execution_count": null,
   "metadata": {},
   "outputs": [],
   "source": [
    "%%manim $param\n",
    "\n",
    "class Example(Scene):\n",
    "    def construct(self, **kwargs):\n",
    "        theta_track= ValueTracker(0)\n",
    "        s3= Square().set_color(ORANGE)\n",
    "        self.add(s3, YES)\n",
    "        s3.previous_angle=0\n",
    "        def pref(x):\n",
    "            x.previous_angle=theta_track.get_value()\n",
    "        s3.add_updater(lambda x: x.rotate(theta_track.get_value()-s3.previous_angle))\n",
    "        s3.add_updater(pref)\n",
    "        self.play(theta_track.animate.increment_value(PI/2))\n"
   ]
  },
  {
   "cell_type": "code",
   "execution_count": null,
   "metadata": {},
   "outputs": [],
   "source": [
    "#not yet implemented\n",
    "#class Example(Scene):\n",
    "#    def construct(self, **kwargs):\n",
    "        #s3b= Square().set_color(YELLOW)\n",
    "        #self.add(s3b)\n",
    "        #theta_track= DeltaValueTracker(0)\n",
    "        #s3b.add_updater(lambda x: x.rotate(theta_track.get_delta_value()))\n",
    "        #self.play(theta_track.animate.set_value(90*DEGREES))"
   ]
  },
  {
   "cell_type": "code",
   "execution_count": null,
   "metadata": {},
   "outputs": [],
   "source": [
    "%%manim $param\n",
    "# NOT WORKING!, BAD PRACTICE.\n",
    "class Example(Scene):\n",
    "    def construct(self, **kwargs):\n",
    "        s4= Square().set_color(GREEN)\n",
    "        self.add(s4, NO)\n",
    "        theta_track= ValueTracker(0)\n",
    "        s4.add_updater(lambda x: x.rotate(theta_track.get_value()))\n",
    "        self.play(theta_track.animate.increment_value(PI/2))"
   ]
  },
  {
   "cell_type": "code",
   "execution_count": null,
   "metadata": {},
   "outputs": [],
   "source": [
    "%%manim $param\n",
    "class Example(Scene):\n",
    "    def construct(self, **kwargs):\n",
    "        s6= Square().set_color(PINK)\n",
    "        self.add(s6, YES)\n",
    "        s6.add_updater(lambda x, dt: x.rotate(dt*PI/2))\n",
    "        self.wait(1)"
   ]
  },
  {
   "cell_type": "markdown",
   "metadata": {},
   "source": [
    "### Known bugs\n",
    "#### Bug with updaters that do not have a dt"
   ]
  },
  {
   "cell_type": "code",
   "execution_count": null,
   "metadata": {},
   "outputs": [],
   "source": [
    "%%manim $param\n",
    "class Example(Scene):\n",
    "    def construct(self):\n",
    "        dot = Dot(color= GREEN, radius=0.7)\n",
    "        self.add(dot,NO)\n",
    "        \n",
    "        #dot.add_updater(lambda x,dt : x) \n",
    "\n",
    "        dot.add_updater(lambda x : x.shift(2*RIGHT*1/config.frame_rate))\n",
    "        self.wait(3)"
   ]
  },
  {
   "cell_type": "code",
   "execution_count": null,
   "metadata": {},
   "outputs": [],
   "source": [
    "%%manim $param\n",
    "class Example(Scene): \n",
    "    def construct(self):\n",
    "        dot = Dot(color= GREEN, radius=0.7)\n",
    "        self.add(dot,YES)\n",
    "        \n",
    "        dot.add_updater(lambda x,dt : x) #adding this line will make the updater continiously watch\n",
    "\n",
    "        dot.add_updater(lambda x : x.shift(2*RIGHT*1/config.frame_rate))\n",
    "        self.wait(3)"
   ]
  },
  {
   "cell_type": "markdown",
   "metadata": {},
   "source": [
    "### Bugs with updater in ZoomedScene"
   ]
  },
  {
   "cell_type": "code",
   "execution_count": null,
   "metadata": {},
   "outputs": [],
   "source": [
    "%%manim $param\n",
    "class Example(ZoomedScene):\n",
    "    def __init__(self, **kwargs):\n",
    "        ZoomedScene.__init__(\n",
    "            self,\n",
    "            zoom_factor=0.3,\n",
    "            zoomed_display_height=4,\n",
    "            zoomed_display_width=4,\n",
    "            image_frame_stroke_width=20,\n",
    "            zoomed_camera_config={\n",
    "                \"default_frame_stroke_width\": 3,\n",
    "            },\n",
    "            **kwargs\n",
    "        )\n",
    "    def construct(self):\n",
    "        d= Dot()\n",
    "        self.add(d)\n",
    "        imgo =Square().scale(0.3).set_color(RED)\n",
    "        self.add(imgo)\n",
    "        #imgo.add_updater(lambda x: x) # COMMENTED OUT\n",
    "        self.activate_zooming(animate=True)\n",
    "        self.play(self.zoomed_camera.frame.animate.shift(0.5 * (LEFT+UP*0.8)))\n",
    "        self.play(self.zoomed_camera.frame.animate.shift(0.5 * (RIGHT+DOWN*2.8)))"
   ]
  },
  {
   "cell_type": "code",
   "execution_count": null,
   "metadata": {},
   "outputs": [],
   "source": [
    "%%manim $param\n",
    "class Example(ZoomedScene):\n",
    "    def __init__(self, **kwargs):\n",
    "        ZoomedScene.__init__(\n",
    "            self,\n",
    "            zoom_factor=0.3,\n",
    "            zoomed_display_height=4,\n",
    "            zoomed_display_width=4,\n",
    "            image_frame_stroke_width=20,\n",
    "            zoomed_camera_config={\n",
    "                \"default_frame_stroke_width\": 3,\n",
    "            },\n",
    "            **kwargs\n",
    "        )\n",
    "    def construct(self):\n",
    "        d= Dot()\n",
    "        self.add(d)\n",
    "        imgo =Square().scale(0.3).set_color(RED)\n",
    "        self.add(imgo)\n",
    "        imgo.add_updater(lambda x: x) # INCLUDED\n",
    "        self.activate_zooming(animate=True)\n",
    "        self.play(self.zoomed_camera.frame.animate.shift(0.5 * (LEFT+UP*0.8)))\n",
    "        self.play(self.zoomed_camera.frame.animate.shift(0.5 * (RIGHT+DOWN*2.8)))"
   ]
  }
 ],
 "metadata": {
  "kernelspec": {
   "display_name": ".venv",
   "language": "python",
   "name": "python3"
  },
  "language_info": {
   "codemirror_mode": {
    "name": "ipython",
    "version": 3
   },
   "file_extension": ".py",
   "mimetype": "text/x-python",
   "name": "python",
   "nbconvert_exporter": "python",
   "pygments_lexer": "ipython3",
   "version": "3.11.0"
  },
  "vscode": {
   "interpreter": {
    "hash": "f787d74a9e12ab3ccb05df1312db2c2bd8bbc22ecc9f12926934e36d8bbe1578"
   }
  }
 },
 "nbformat": 4,
 "nbformat_minor": 4
}
