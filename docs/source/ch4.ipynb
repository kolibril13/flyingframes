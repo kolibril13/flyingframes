{
 "cells": [
  {
   "cell_type": "markdown",
   "id": "3b35ea06-4d03-49e4-a468-7e6af2dac59d",
   "metadata": {},
   "source": [
    "# (Chapter 4 - Building Scenes)\n",
    " "
   ]
  },
  {
   "cell_type": "markdown",
   "id": "31e739c7-4b1e-4e9f-9c1c-04f0888c3d95",
   "metadata": {},
   "source": [
    "Scenes in manim can become cluttered very easily. As you want to have videos in the end, and not the code, code tidyness is not crucial, but often it is useful to stay organized and to not get lost in complex scenes."
   ]
  },
  {
   "cell_type": "markdown",
   "id": "9cb597a5-797d-4726-a994-7164494b3cf5",
   "metadata": {},
   "source": [
    "## More comming soon!\n"
   ]
  },
  {
   "cell_type": "code",
   "execution_count": null,
   "id": "242a1f2e-6576-47f6-9409-2a104bd8d660",
   "metadata": {},
   "outputs": [],
   "source": []
  }
 ],
 "metadata": {
  "kernelspec": {
   "display_name": "Python 3",
   "language": "python",
   "name": "python3"
  },
  "language_info": {
   "codemirror_mode": {
    "name": "ipython",
    "version": 3
   },
   "file_extension": ".py",
   "mimetype": "text/x-python",
   "name": "python",
   "nbconvert_exporter": "python",
   "pygments_lexer": "ipython3",
   "version": "3.9.5"
  }
 },
 "nbformat": 4,
 "nbformat_minor": 5
}
