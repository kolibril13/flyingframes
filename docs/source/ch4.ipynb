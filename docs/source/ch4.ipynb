{
 "cells": [
  {
   "cell_type": "markdown",
   "metadata": {},
   "source": [
    "# Chapter 4 - Animations\n",
    " "
   ]
  },
  {
   "cell_type": "code",
   "execution_count": null,
   "metadata": {},
   "outputs": [],
   "source": [
    "from manim import *"
   ]
  },
  {
   "cell_type": "code",
   "execution_count": null,
   "metadata": {},
   "outputs": [],
   "source": [
    "foo = [1,2,3]\n",
    "anothervariable = [4,5,6]\n",
    "bar= [9,3,2]\n",
    "print(f\"{foo=}\")\n",
    "print(f\"{anothervariable=}\")\n",
    "print(f\"{bar=}\")"
   ]
  },
  {
   "cell_type": "code",
   "execution_count": null,
   "metadata": {},
   "outputs": [],
   "source": [
    "foo = [1,2,3]\n",
    "anothervariable = [4,5,6]\n",
    "bar= [9,3,2]\n",
    "ind=15\n",
    "print(f\"{'foo':<{ind}} = {foo}\")\n",
    "print(f\"{'anothervariable':<{ind}} = {anothervariable}\")\n",
    "print(f\"{'bar':<{ind}} = {bar}\")"
   ]
  }
 ],
 "metadata": {
  "kernelspec": {
   "display_name": "Python 3",
   "language": "python",
   "name": "python3"
  },
  "language_info": {
   "codemirror_mode": {
    "name": "ipython",
    "version": 3
   },
   "file_extension": ".py",
   "mimetype": "text/x-python",
   "name": "python",
   "nbconvert_exporter": "python",
   "pygments_lexer": "ipython3",
   "version": "3.9.2"
  }
 },
 "nbformat": 4,
 "nbformat_minor": 4
}
