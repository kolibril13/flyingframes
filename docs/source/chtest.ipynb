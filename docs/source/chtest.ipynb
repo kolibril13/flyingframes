{
 "cells": [
  {
   "cell_type": "markdown",
   "metadata": {},
   "source": [
    "# Test"
   ]
  },
  {
   "cell_type": "code",
   "execution_count": null,
   "metadata": {},
   "outputs": [],
   "source": [
    "from manim import *"
   ]
  },
  {
   "cell_type": "code",
   "execution_count": null,
   "metadata": {},
   "outputs": [],
   "source": [
    "%%manim -v WARNING -r 600,400 -s  --disable_caching Example\n",
    "\n",
    "class Example(Scene):\n",
    "    def construct(self):\n",
    "        pixel_height = config[\"pixel_height\"]  \n",
    "        pixel_width = config[\"pixel_width\"]  \n",
    "        frame_width = config[\"frame_width\"]\n",
    "        frame_height = config[\"frame_height\"]\n",
    "        print(f\"{pixel_height=}\")\n",
    "        print(f\"{pixel_width=}\")\n",
    "        print(f\"{frame_width=}\")\n",
    "        print(f\"{frame_height=}\")\n",
    "        self.add(Dot())\n",
    "        l1 = Line(frame_width * LEFT / 2, frame_width * RIGHT / 2).to_edge(DOWN)\n",
    "        l2 = Line(frame_height * UP / 2, frame_height * DOWN / 2).to_edge(LEFT)\n",
    "        self.add(l1,l2)\n",
    "        self.add(Text(str(pixel_width)).next_to(l1, UP))\n",
    "        self.add(Text(str(pixel_height)).next_to(l2, RIGHT))"
   ]
  },
  {
   "cell_type": "code",
   "execution_count": null,
   "metadata": {},
   "outputs": [],
   "source": []
  }
 ],
 "metadata": {
  "kernelspec": {
   "display_name": "Python 3",
   "language": "python",
   "name": "python3"
  },
  "language_info": {
   "codemirror_mode": {
    "name": "ipython",
    "version": 3
   },
   "file_extension": ".py",
   "mimetype": "text/x-python",
   "name": "python",
   "nbconvert_exporter": "python",
   "pygments_lexer": "ipython3",
   "version": "3.9.2"
  }
 },
 "nbformat": 4,
 "nbformat_minor": 4
}
