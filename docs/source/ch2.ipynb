{
 "cells": [
  {
   "cell_type": "markdown",
   "id": "0ce44b96",
   "metadata": {},
   "source": [
    "# Chapter 2 - Mobject Basics\n",
    "**Latest update : 11.6.2021**  \n",
    "After reading this chapter, you will be able to build up Mobjects on scenes, no animations included yet. There will be lots of minimal examples and only very brief explanations."
   ]
  },
  {
   "cell_type": "code",
   "execution_count": null,
   "id": "da5ee442",
   "metadata": {},
   "outputs": [],
   "source": [
    "from manim import * "
   ]
  },
  {
   "cell_type": "code",
   "execution_count": null,
   "id": "4c18e6a3",
   "metadata": {},
   "outputs": [],
   "source": [
    "#ignore this cell, only for setup\n",
    "params = \"-v WARNING -r 500,100 -s  --disable_caching Example\"\n",
    "paramsbigger = \"-v WARNING -r 500,120 -s  --disable_caching Example\""
   ]
  },
  {
   "cell_type": "markdown",
   "id": "e808d8f7",
   "metadata": {},
   "source": [
    "## Positioning\n",
    "First we want to position of mobjects.\n",
    "There are tons of options, and not everything will be covered here.\n",
    "\n",
    "### set positions\n",
    "Some important methods to set positions are:  \n",
    "`shift` `move_to`  `align_to` , `next_to` ,`to_corner` , `to_edge` , `arrange` , `arrange_in_grid` "
   ]
  },
  {
   "cell_type": "code",
   "execution_count": null,
   "id": "d14b667e",
   "metadata": {},
   "outputs": [],
   "source": [
    "dORIGIN= Dot(color= BLUE,radius=0.5)"
   ]
  },
  {
   "cell_type": "code",
   "execution_count": null,
   "id": "93f51d50",
   "metadata": {},
   "outputs": [],
   "source": [
    "%%manim $params\n",
    "class Example(Scene):\n",
    "    def construct(self):\n",
    "        d= Dot(color= YELLOW, radius=0.5)\n",
    "        d.shift(2*RIGHT)\n",
    "        self.add(dORIGIN, d)"
   ]
  },
  {
   "cell_type": "code",
   "execution_count": null,
   "id": "3c24afdd",
   "metadata": {},
   "outputs": [],
   "source": [
    "%%manim $params\n",
    "class Example(Scene):\n",
    "    def construct(self):\n",
    "        d= Dot(color= YELLOW, radius=0.5)\n",
    "        d.shift(3*RIGHT+0.8*UP)\n",
    "        self.add(dORIGIN, d)"
   ]
  },
  {
   "cell_type": "code",
   "execution_count": null,
   "id": "ed6e5787",
   "metadata": {},
   "outputs": [],
   "source": [
    "%%manim $params\n",
    "class Example(Scene):\n",
    "    def construct(self):\n",
    "        d= Dot(color= ORANGE, radius=0.5)\n",
    "        d.next_to(dORIGIN, LEFT)\n",
    "        self.add(dORIGIN, d)"
   ]
  },
  {
   "cell_type": "code",
   "execution_count": null,
   "id": "1d92f263",
   "metadata": {},
   "outputs": [],
   "source": [
    "%%manim $params\n",
    "class Example(Scene):\n",
    "    def construct(self):\n",
    "        d= Dot(color= ORANGE, radius=0.5)\n",
    "        d.next_to(dORIGIN, LEFT, buff=0)\n",
    "        self.add(dORIGIN, d)"
   ]
  },
  {
   "cell_type": "code",
   "execution_count": null,
   "id": "74586ecb",
   "metadata": {},
   "outputs": [],
   "source": [
    "%%manim $params\n",
    "class Example(Scene):\n",
    "    def construct(self):\n",
    "        d= Dot(color= ORANGE, radius=0.5)\n",
    "        d.next_to(dORIGIN, LEFT, buff=4)\n",
    "        self.add(dORIGIN, d)"
   ]
  },
  {
   "cell_type": "code",
   "execution_count": null,
   "id": "b625da7d",
   "metadata": {},
   "outputs": [],
   "source": [
    "%%manim $params\n",
    "class Example(Scene):\n",
    "    def construct(self):\n",
    "        d= Dot(color= ORANGE, radius=0.5)\n",
    "        d.next_to(dORIGIN, UL,buff=-0.5) # UL is UPLEFT \n",
    "        self.add(dORIGIN, d)"
   ]
  },
  {
   "cell_type": "code",
   "execution_count": null,
   "id": "7cfe19ae",
   "metadata": {},
   "outputs": [],
   "source": [
    "%%manim $params\n",
    "class Example(Scene):\n",
    "    def construct(self):\n",
    "        d= Dot(color= ORANGE, radius=0.5)\n",
    "        d.to_edge(LEFT)\n",
    "        self.add(dORIGIN, d)"
   ]
  },
  {
   "cell_type": "code",
   "execution_count": null,
   "id": "72e6455d",
   "metadata": {},
   "outputs": [],
   "source": [
    "%%manim $params\n",
    "class Example(Scene):\n",
    "    def construct(self):\n",
    "        s= Star(stroke_width=10)\n",
    "        d=Dot(color= ORANGE, radius=0.5)\n",
    "        d.align_to(s,DOWN)\n",
    "        self.add(s,d)"
   ]
  },
  {
   "cell_type": "code",
   "execution_count": null,
   "id": "00262d77",
   "metadata": {},
   "outputs": [],
   "source": [
    "%%manim $params\n",
    "class Example(Scene):\n",
    "    def construct(self):\n",
    "        s= Star(stroke_width=10)\n",
    "        d=Dot(color= ORANGE, radius=0.5)\n",
    "        d.next_to(s,RIGHT, aligned_edge=UP) #next to and align combined\n",
    "        self.add(s,d)\n"
   ]
  },
  {
   "cell_type": "code",
   "execution_count": null,
   "id": "ad503927",
   "metadata": {},
   "outputs": [],
   "source": [
    "%%manim $params\n",
    "class Example(Scene):\n",
    "    def construct(self):\n",
    "        for i in range(0,10):\n",
    "            self.add(Dot(color= ORANGE, radius=0.5))\n",
    "        VGroup(*self.mobjects).arrange()"
   ]
  },
  {
   "cell_type": "code",
   "execution_count": null,
   "id": "a7614ede",
   "metadata": {},
   "outputs": [],
   "source": [
    "%%manim $params\n",
    "class Example(Scene):\n",
    "    def construct(self):\n",
    "        for i in range(0,24):\n",
    "            self.add(Dot(color= ORANGE, radius=0.2))\n",
    "        VGroup(*self.mobjects).arrange_in_grid(cols=6)"
   ]
  },
  {
   "cell_type": "markdown",
   "id": "7cc2a2f2",
   "metadata": {},
   "source": [
    "### get positions\n",
    "The most important methods to get positions:  \n",
    "`get_center` , `get_top` , `get_right` , `get_start`"
   ]
  },
  {
   "cell_type": "code",
   "execution_count": null,
   "id": "94b6e0ce",
   "metadata": {},
   "outputs": [],
   "source": [
    "s= Star(stroke_width=10)\n",
    "d=Dot(color= YELLOW, radius=0.2)"
   ]
  },
  {
   "cell_type": "code",
   "execution_count": null,
   "id": "5e7590a2",
   "metadata": {},
   "outputs": [],
   "source": [
    "%%manim $params\n",
    "class Example(Scene):\n",
    "    def construct(self):\n",
    "        pos= s.get_center()\n",
    "        self.add(s, d.move_to(pos))"
   ]
  },
  {
   "cell_type": "code",
   "execution_count": null,
   "id": "4b761543",
   "metadata": {},
   "outputs": [],
   "source": [
    "%%manim $params\n",
    "class Example(Scene):\n",
    "    def construct(self):\n",
    "        pos= s.get_top()\n",
    "        self.add(s, d.move_to(pos))"
   ]
  },
  {
   "cell_type": "code",
   "execution_count": null,
   "id": "e9f075c9",
   "metadata": {},
   "outputs": [],
   "source": [
    "%%manim $params\n",
    "class Example(Scene):\n",
    "    def construct(self):\n",
    "        pos= s.get_right()\n",
    "        self.add(s, d.move_to(pos))"
   ]
  },
  {
   "cell_type": "code",
   "execution_count": null,
   "id": "2a034c27",
   "metadata": {},
   "outputs": [],
   "source": [
    "%%manim $params\n",
    "class Example(Scene):\n",
    "    def construct(self):\n",
    "        pos= s.get_bottom()\n",
    "        self.add(s, d.move_to(pos))"
   ]
  },
  {
   "cell_type": "code",
   "execution_count": null,
   "id": "630c759f",
   "metadata": {},
   "outputs": [],
   "source": [
    "%%manim $params\n",
    "class Example(Scene):\n",
    "    def construct(self):\n",
    "        pos= s.get_left()\n",
    "        self.add(s, d.move_to(pos))"
   ]
  },
  {
   "cell_type": "code",
   "execution_count": null,
   "id": "c1e63a80",
   "metadata": {},
   "outputs": [],
   "source": [
    "%%manim $params\n",
    "class Example(Scene):\n",
    "    def construct(self):\n",
    "        pos= s.get_corner(UL)\n",
    "        self.add(s, d.move_to(pos))"
   ]
  },
  {
   "cell_type": "code",
   "execution_count": null,
   "id": "55fc171f",
   "metadata": {},
   "outputs": [],
   "source": [
    "%%manim $params\n",
    "class Example(Scene):\n",
    "    def construct(self):\n",
    "        pos= s.get_corner(DR)\n",
    "        self.add(s, d.move_to(pos))"
   ]
  },
  {
   "cell_type": "code",
   "execution_count": null,
   "id": "3c5477b3",
   "metadata": {},
   "outputs": [],
   "source": [
    "arc= Arc(radius=1.0, start_angle=-PI/16, angle=PI, stroke_width=10)"
   ]
  },
  {
   "cell_type": "code",
   "execution_count": null,
   "id": "9df9db6b",
   "metadata": {},
   "outputs": [],
   "source": [
    "%%manim $params\n",
    "class Example(Scene):\n",
    "    def construct(self):\n",
    "        pos= arc.get_start()\n",
    "        self.add(arc, d.move_to(pos))"
   ]
  },
  {
   "cell_type": "code",
   "execution_count": null,
   "id": "155a51d5",
   "metadata": {},
   "outputs": [],
   "source": [
    "%%manim $params\n",
    "class Example(Scene):\n",
    "    def construct(self):\n",
    "        pos= arc.get_end()\n",
    "        self.add(arc, d.move_to(pos))"
   ]
  },
  {
   "cell_type": "code",
   "execution_count": null,
   "id": "0210ef2b",
   "metadata": {},
   "outputs": [],
   "source": [
    "%%manim $params\n",
    "class Example(Scene):\n",
    "    def construct(self):\n",
    "        pos= arc.get_midpoint()\n",
    "        self.add(arc, d.move_to(pos))"
   ]
  },
  {
   "cell_type": "code",
   "execution_count": null,
   "id": "c2d11f3b",
   "metadata": {},
   "outputs": [],
   "source": [
    "%%manim $params\n",
    "class Example(Scene):\n",
    "    def construct(self):\n",
    "        pos= arc.point_from_proportion(0.2)\n",
    "        self.add(arc, d.move_to(pos))"
   ]
  },
  {
   "cell_type": "code",
   "execution_count": null,
   "id": "1ca678ca",
   "metadata": {},
   "outputs": [],
   "source": [
    "%%manim $params\n",
    "class Example(Scene):\n",
    "    def construct(self):\n",
    "        pos= arc.get_center()\n",
    "        self.add(arc, d.move_to(pos))"
   ]
  },
  {
   "cell_type": "code",
   "execution_count": null,
   "id": "6ef4a855",
   "metadata": {},
   "outputs": [],
   "source": [
    "%%manim $params\n",
    "class Example(Scene): #Example for `get_x` , `get_y`, `set_x` and `set_y`\n",
    "    def construct(self):\n",
    "        x=VGroup(*[Dot(color= BLUE, radius=0.1) for _ in range(0,24)])\n",
    "        x.arrange_in_grid(cols=6)\n",
    "        x.shift(0.5*UP)\n",
    "        x[13].set_color(YELLOW)\n",
    "        xpos= x[13].get_x()\n",
    "        ypos= x[13].get_y()\n",
    "        self.add(x)\n",
    "        a1= Arrow(color=YELLOW).stretch_to_fit_width(0.9)\n",
    "        a1.next_to(x, LEFT, buff=0.1)\n",
    "        a1.set_y(ypos)\n",
    "        a2= a1.copy().rotate(PI/2)\n",
    "        a2.next_to(x, DOWN, buff=0.1)\n",
    "        a2.set_x(xpos)\n",
    "        self.add(a1,a2)"
   ]
  },
  {
   "cell_type": "markdown",
   "id": "46ab5054",
   "metadata": {
    "tags": []
   },
   "source": [
    "## Scaling and Stretching"
   ]
  },
  {
   "cell_type": "code",
   "execution_count": null,
   "id": "6798496f",
   "metadata": {},
   "outputs": [],
   "source": [
    "%%manim $params\n",
    "class Example(Scene):\n",
    "    def construct(self):\n",
    "        d= Dot(color= YELLOW)\n",
    "        d.scale(10)\n",
    "        self.add(d)"
   ]
  },
  {
   "cell_type": "code",
   "execution_count": null,
   "id": "5db91abc",
   "metadata": {},
   "outputs": [],
   "source": [
    "%%manim $params\n",
    "class Example(Scene):\n",
    "    def construct(self):\n",
    "        d= Dot(color= YELLOW)\n",
    "        d.scale(10)\n",
    "        d.stretch_in_place(4, dim = 0) # dim = 0 means vertical\n",
    "        self.add(d)"
   ]
  },
  {
   "cell_type": "code",
   "execution_count": null,
   "id": "e38df8b1",
   "metadata": {},
   "outputs": [],
   "source": [
    "%%manim $paramsbigger\n",
    "class Example(Scene):\n",
    "    def construct(self):\n",
    "        d= Dot(color= YELLOW)\n",
    "        d.scale(10)\n",
    "        d.stretch_in_place(2, dim = 1) # dim = 1 means horizontal\n",
    "        self.add(d)"
   ]
  },
  {
   "cell_type": "code",
   "execution_count": null,
   "id": "479167c0",
   "metadata": {},
   "outputs": [],
   "source": [
    "%%manim $params\n",
    "class Example(Scene):\n",
    "    def construct(self):\n",
    "        d= Dot(color= YELLOW)\n",
    "        d.scale(10)\n",
    "        d.apply_matrix([[0.5, 0.5, 0], # shear matrix\n",
    "                        [ 0 ,  1 , 0],\n",
    "                        [ 0 ,  0 , 1]])\n",
    "        self.add(d)"
   ]
  },
  {
   "cell_type": "markdown",
   "id": "8bbedae7",
   "metadata": {},
   "source": [
    "## Rotating"
   ]
  },
  {
   "cell_type": "code",
   "execution_count": null,
   "id": "f53538a3",
   "metadata": {},
   "outputs": [],
   "source": [
    "%%manim $paramsbigger\n",
    "class Example(Scene):\n",
    "    def construct(self):\n",
    "        m= ManimBanner().scale(0.5)\n",
    "        m.rotate(PI/8)\n",
    "        self.add(m)"
   ]
  },
  {
   "cell_type": "code",
   "execution_count": null,
   "id": "b6395884",
   "metadata": {},
   "outputs": [],
   "source": [
    "%%manim $paramsbigger\n",
    "class Example(Scene):\n",
    "    def construct(self):\n",
    "        m= ManimBanner().scale(0.5)\n",
    "        m.rotate(-20*DEGREES)\n",
    "        self.add(m)"
   ]
  },
  {
   "cell_type": "code",
   "execution_count": null,
   "id": "db95c312",
   "metadata": {},
   "outputs": [],
   "source": [
    "%%manim $paramsbigger\n",
    "class Example(Scene):\n",
    "    def construct(self):\n",
    "        m= ManimBanner().scale(0.5)\n",
    "        self.add(m.copy())\n",
    "        m.rotate(about_point=2*LEFT, angle=180*DEGREES)\n",
    "        self.add(m, Dot(2*LEFT,radius=0.1))"
   ]
  },
  {
   "cell_type": "code",
   "execution_count": null,
   "id": "05734d75",
   "metadata": {},
   "outputs": [],
   "source": [
    "%%manim $paramsbigger\n",
    "class Example(Scene):\n",
    "    def construct(self):\n",
    "        m= ManimBanner().scale(0.5)\n",
    "        m.rotate(axis=UP,angle=60*DEGREES)\n",
    "        self.add(m)"
   ]
  },
  {
   "cell_type": "markdown",
   "id": "cd19d33c",
   "metadata": {},
   "source": [
    "------------\n",
    "------------"
   ]
  },
  {
   "cell_type": "markdown",
   "id": "e6ecb2d3",
   "metadata": {},
   "source": [
    "<div class=\"alert alert-info\">\n",
    "\n",
    "Note\n",
    "\n",
    "Python is very fertile tool, there multiple ways to accomplish a certain task, but some options are not \"best practice\". \n",
    "For the methods in the next chapters, I want to show the best practice (labeled with **BEST** and the **green check with the star**), other possible options (labeled with **YES** and the **green check**), and options that do not work (labeled with **NO** and the **red cross**)\n",
    "\n",
    "</div>"
   ]
  },
  {
   "cell_type": "code",
   "execution_count": null,
   "id": "a434af26",
   "metadata": {},
   "outputs": [],
   "source": [
    "# ignore this cell, only for setup\n",
    "YES = SVGMobject(\"good.svg\").to_edge(LEFT, buff=1)\n",
    "BEST = YES.copy()\n",
    "BEST.add(Star(color= YELLOW, fill_opacity=1).scale(0.5).move_to(BEST).shift(0.5*DOWN+0.5*RIGHT))\n",
    "NO  = Cross(Square(), stroke_color = RED_D, stroke_width = 38).scale(0.9).move_to(YES)"
   ]
  },
  {
   "cell_type": "markdown",
   "id": "f579038c",
   "metadata": {},
   "source": [
    "## Colors and Opacity\n",
    "* Color parameters for Mobjects are `stroke_color`, `fill_color` and `color`.   The parameter  `color` automatically sets both `stroke_color` and `fill_color`.  \n",
    "The recommended ways to set **colors** are via  `c = Circle(fill_color= BLUE, fill_opacity= 1 )` , `c.set_fill(color=RED)` or `c.set_style(fill_color=GREEN)`  \n",
    "Not possible are `c.fill_color=YELLOW` ,   `c.set(fill_color=YELLOW)` and `c.set_fill_color(YELLOW)`\n",
    "\n",
    "\n",
    "* Opacity parameters are  for Mobjects are `fill_opacity` and `stroke_opacity` (there is **not**  `opacity` here).  \n",
    "The recommended ways to set **opacity** are via  `c = Circle(fill_color= BLUE, fill_opacity= 0.5 )` , `c.set_fill(color=RED)` or `c.set_style(fill_color=GREEN)`  \n",
    "Analog to colors, `c.fill_opacity=1`, `c.set(fill_opacity=1)` and `c.set_fill_opacity(1)` are not possible. (to keep things short, these examples are not shown).\n"
   ]
  },
  {
   "cell_type": "markdown",
   "id": "c61c9462",
   "metadata": {},
   "source": [
    "### Colors"
   ]
  },
  {
   "cell_type": "code",
   "execution_count": null,
   "id": "cd8f5c26",
   "metadata": {},
   "outputs": [],
   "source": [
    "%%manim $params\n",
    "class Example(Scene):\n",
    "    def construct(self):\n",
    "        c = Square(fill_color= BLUE, fill_opacity= 1 )\n",
    "        self.add(BEST,c)"
   ]
  },
  {
   "cell_type": "code",
   "execution_count": null,
   "id": "169ccb1a",
   "metadata": {},
   "outputs": [],
   "source": [
    "%%manim $params\n",
    "class Example(Scene):\n",
    "    def construct(self):\n",
    "        c = Square(fill_color= BLUE, fill_opacity= 1)\n",
    "        c.set_fill(color=RED)\n",
    "        self.add(BEST,c)"
   ]
  },
  {
   "cell_type": "code",
   "execution_count": null,
   "id": "60f94c38",
   "metadata": {},
   "outputs": [],
   "source": [
    "%%manim $params\n",
    "class Example(Scene):\n",
    "    def construct(self):\n",
    "        c = Square(fill_color= BLUE, fill_opacity= 1)\n",
    "        c.set_style(fill_color=GREEN)\n",
    "        self.add(BEST,c)"
   ]
  },
  {
   "cell_type": "code",
   "execution_count": null,
   "id": "8f57b01c",
   "metadata": {},
   "outputs": [],
   "source": [
    "%%manim $params\n",
    "class Example(Scene):\n",
    "    def construct(self):\n",
    "        c = Square(fill_opacity= 1)\n",
    "        c.fill_color=YELLOW\n",
    "        self.add(NO,c)"
   ]
  },
  {
   "cell_type": "code",
   "execution_count": null,
   "id": "7a418632",
   "metadata": {},
   "outputs": [],
   "source": [
    "%%manim $params\n",
    "class Example(Scene):\n",
    "    def construct(self):\n",
    "        c = Square(fill_opacity= 1)\n",
    "        c.set(fill_color=YELLOW)\n",
    "        self.add(NO,c)"
   ]
  },
  {
   "cell_type": "code",
   "execution_count": null,
   "id": "9d989581",
   "metadata": {},
   "outputs": [],
   "source": [
    "%%manim $params\n",
    "class Example(Scene):\n",
    "    def construct(self):\n",
    "        c = Square(fill_opacity= 1)\n",
    "        c.set_fill_color(YELLOW)\n",
    "        self.add(NO,c)"
   ]
  },
  {
   "cell_type": "code",
   "execution_count": null,
   "id": "4f36295f",
   "metadata": {},
   "outputs": [],
   "source": [
    "%%manim $params\n",
    "class Example(Scene):\n",
    "    def construct(self):\n",
    "        self.camera.background_color = PURPLE\n",
    "        self.add(BEST)"
   ]
  },
  {
   "cell_type": "markdown",
   "id": "d510830c",
   "metadata": {},
   "source": [
    "### Opacitiy"
   ]
  },
  {
   "cell_type": "code",
   "execution_count": null,
   "id": "2a4d07a7",
   "metadata": {},
   "outputs": [],
   "source": [
    "%%manim $params\n",
    "class Example(Scene):\n",
    "    def construct(self):\n",
    "        c = Ellipse(color= YELLOW, fill_opacity=0.3).scale(2)\n",
    "        self.add(BEST,c)"
   ]
  },
  {
   "cell_type": "code",
   "execution_count": null,
   "id": "9e08b557",
   "metadata": {},
   "outputs": [],
   "source": [
    "%%manim  $params\n",
    "class Example(Scene):\n",
    "    def construct(self):\n",
    "        c = Ellipse(color= YELLOW).scale(2)\n",
    "        c.set_fill(opacity=0.5) # be careful: here, it must be `opacity` and not `fill_opacity` !\n",
    "        self.add(BEST,c)"
   ]
  },
  {
   "cell_type": "code",
   "execution_count": null,
   "id": "b680436b",
   "metadata": {},
   "outputs": [],
   "source": [
    "%%manim  $params\n",
    "class Example(Scene):\n",
    "    def construct(self):\n",
    "        c = Ellipse(color= YELLOW).scale(2)\n",
    "        c.set_style(fill_opacity=0.7) # and here, it must be `fill_opacity` and not `opacity` !\n",
    "        self.add(BEST,c)"
   ]
  },
  {
   "cell_type": "markdown",
   "id": "689f326a",
   "metadata": {},
   "source": [
    "## Stroke width\n",
    "\n",
    "strokes can be set in multiple ways:  \n",
    "The recommended ways are via  `Circle(stroke_width=30)` , `c.set_stroke(width = 30)` or `c.set_style(stroke_width= 30)`  \n",
    "Also possible, but not the best solution is `c.stroke_width = 30` and `c.set(stroke_width = 30)`  \n",
    "Also possible, but not recommended because deprecated is `c.set_stroke_width(30)`  "
   ]
  },
  {
   "cell_type": "code",
   "execution_count": null,
   "id": "c1264e32",
   "metadata": {},
   "outputs": [],
   "source": [
    "%%manim $params\n",
    "class Example(Scene):\n",
    "    def construct(self):\n",
    "        c = Circle(stroke_width=30)\n",
    "        self.add(BEST,c)"
   ]
  },
  {
   "cell_type": "code",
   "execution_count": null,
   "id": "3cb4cafe",
   "metadata": {},
   "outputs": [],
   "source": [
    "%%manim $params\n",
    "class Example(Scene):\n",
    "    def construct(self):\n",
    "        c = Circle()\n",
    "        c.set_stroke(width = 30)\n",
    "        self.add(BEST,c)"
   ]
  },
  {
   "cell_type": "code",
   "execution_count": null,
   "id": "efc254cc",
   "metadata": {},
   "outputs": [],
   "source": [
    "%%manim $params\n",
    "class Example(Scene):\n",
    "    def construct(self):\n",
    "        c = Circle()\n",
    "        c.set_style(stroke_width= 30)\n",
    "        self.add(BEST,c)"
   ]
  },
  {
   "cell_type": "code",
   "execution_count": null,
   "id": "9b1d5c8a",
   "metadata": {},
   "outputs": [],
   "source": [
    "%%manim $params\n",
    "class Example(Scene):\n",
    "    def construct(self):\n",
    "        c = Circle()\n",
    "        c.stroke_width = 30\n",
    "        self.add(YES,c)"
   ]
  },
  {
   "cell_type": "code",
   "execution_count": null,
   "id": "bc9d9f29",
   "metadata": {},
   "outputs": [],
   "source": [
    "%%manim $params\n",
    "class Example(Scene):\n",
    "    def construct(self):\n",
    "        c = Circle()\n",
    "        c.set(stroke_width = 30)\n",
    "        self.add(YES,c)"
   ]
  },
  {
   "cell_type": "code",
   "execution_count": null,
   "id": "84c00d96",
   "metadata": {},
   "outputs": [],
   "source": [
    "%%manim $params\n",
    "class Example(Scene):\n",
    "    def construct(self):\n",
    "        c = Circle()\n",
    "        c.set_stroke_width(30)\n",
    "        self.add(NO,c)"
   ]
  },
  {
   "cell_type": "markdown",
   "id": "9e5cdaf7",
   "metadata": {},
   "source": [
    "## Layers\n",
    "There are two main ways to change the layers of Mobjects:    \n",
    "   1. reordering the list of submobjects that where added\n",
    "   2. using the z_index\n",
    "\n",
    "### submobjects\n",
    "A scene stores displayed mobjects in a list. They are displayed in the order that they are added to the scene with the syntax `self.add(circleLeft,circleRight)`\n",
    "First, we have a look on positioning mobjects with `self.add` and the methods `self.bring_to_back` and `self.bring_to_front`. In most cases, this is completely enough. Later, we will come to the z_index, that is seen by manim by one priority higher: Even when a mobject is added first to the mobject list, it will be displayed on top of the others, if it has a higher z_index. An example about this will be seen later."
   ]
  },
  {
   "cell_type": "markdown",
   "id": "201b46b3",
   "metadata": {},
   "source": []
  },
  {
   "cell_type": "code",
   "execution_count": null,
   "id": "575f6b30",
   "metadata": {},
   "outputs": [],
   "source": [
    "circleLeft = Circle(color=BLUE, fill_opacity=1)\n",
    "circleRight = Circle(color=ORANGE,fill_opacity=1).shift(RIGHT)\n",
    "line = Line(2*LEFT,3*RIGHT,color=YELLOW, stroke_width=20)"
   ]
  },
  {
   "cell_type": "code",
   "execution_count": null,
   "id": "1ec913bc",
   "metadata": {},
   "outputs": [],
   "source": [
    "%%manim  $paramsbigger\n",
    "class Example(Scene):\n",
    "    def construct(self):\n",
    "        self.add(circleLeft,circleRight)\n",
    "        self.add(BEST)"
   ]
  },
  {
   "cell_type": "code",
   "execution_count": null,
   "id": "83695029",
   "metadata": {},
   "outputs": [],
   "source": [
    "%%manim  $paramsbigger\n",
    "class Example(Scene):\n",
    "    def construct(self):\n",
    "        self.add(circleRight,circleLeft)\n",
    "        self.add(BEST)"
   ]
  },
  {
   "cell_type": "code",
   "execution_count": null,
   "id": "35d73926",
   "metadata": {},
   "outputs": [],
   "source": [
    "%%manim  $paramsbigger\n",
    "class Example(Scene):\n",
    "    def construct(self):\n",
    "        self.add(circleLeft,circleRight, line)\n",
    "        self.add(BEST)"
   ]
  },
  {
   "cell_type": "code",
   "execution_count": null,
   "id": "dfced500",
   "metadata": {},
   "outputs": [],
   "source": [
    "%%manim  $paramsbigger\n",
    "class Example(Scene):\n",
    "    def construct(self):\n",
    "        self.add(circleLeft,circleRight, line)\n",
    "        print(self.mobjects)\n",
    "        self.bring_to_back(line)\n",
    "        print(self.mobjects)\n",
    "        self.add(BEST)"
   ]
  },
  {
   "cell_type": "code",
   "execution_count": null,
   "id": "e23e0735",
   "metadata": {},
   "outputs": [],
   "source": [
    "%%manim  $paramsbigger\n",
    "class Example(Scene):\n",
    "    def construct(self):\n",
    "        self.add(circleLeft,circleRight, line)\n",
    "        print(self.mobjects)\n",
    "        self.bring_to_front(circleLeft)\n",
    "        print(self.mobjects)\n",
    "        self.add(BEST)"
   ]
  },
  {
   "cell_type": "markdown",
   "id": "e22c832c",
   "metadata": {},
   "source": [
    "### z_index\n",
    "The default z_index is 0. \n",
    "Now we will see what happens, when we increase the value of the z_index.   \n",
    "The z_index can be changed by `triangle = Triangle(z_index=1)`,`triangle.z_index=1` , `triangle.set(z_index=1)` and `triangle.set_z_index(1)`  \n",
    "It can not be changed using `triangle.set_style(z_index=1)`"
   ]
  },
  {
   "cell_type": "code",
   "execution_count": null,
   "id": "a7b067f7",
   "metadata": {},
   "outputs": [],
   "source": [
    "#initilizing line,circle,square and triangle\n",
    "BUFF= 0.5*DOWN \n",
    "line = Line(3*LEFT,3*RIGHT,color=YELLOW, stroke_width=20)\n",
    "circle = Circle(color=GREEN_D, fill_opacity=1).shift(LEFT+BUFF)\n",
    "square = Square(color=BLUE_D, fill_opacity=1).shift(UP+BUFF)\n",
    "triangle = Triangle(color=RED_D, fill_opacity=1).shift(RIGHT+BUFF)"
   ]
  },
  {
   "cell_type": "code",
   "execution_count": null,
   "id": "f359205f",
   "metadata": {},
   "outputs": [],
   "source": [
    "%%manim  $paramsbigger\n",
    "class Example(Scene):\n",
    "    def construct(self):\n",
    "        self.add(line,triangle, square, circle)  # order matters\n",
    "        print(self.mobjects)\n",
    "        print(f\"{triangle.z_index=} , {square.z_index=} , {circle.z_index=} , {line.z_index=}\")\n",
    "        self.add(BEST)"
   ]
  },
  {
   "cell_type": "code",
   "execution_count": null,
   "id": "3736ef6a",
   "metadata": {},
   "outputs": [],
   "source": [
    "%%manim  $paramsbigger\n",
    "class Example(Scene):\n",
    "    def construct(self):\n",
    "        triangle.z_index=1\n",
    "        self.add(triangle, square, circle,line)  # order matters\n",
    "        print(self.mobjects)\n",
    "        print(f\"{triangle.z_index=} , {square.z_index=} , {circle.z_index=} , {line.z_index=}\")\n",
    "        self.add(BEST)"
   ]
  },
  {
   "cell_type": "code",
   "execution_count": null,
   "id": "368251bf",
   "metadata": {},
   "outputs": [],
   "source": [
    "%%manim  $paramsbigger\n",
    "class Example(Scene):\n",
    "    def construct(self):\n",
    "        triangle.z_index = 1\n",
    "        square.z_index   = 2\n",
    "        circle.z_index   = 3\n",
    "        self.add(triangle, square, circle,line)  # order matters\n",
    "        self.add(BEST)\n",
    "        print(f\"{line.z_index=}\")"
   ]
  },
  {
   "cell_type": "code",
   "execution_count": null,
   "id": "1961d853",
   "metadata": {},
   "outputs": [],
   "source": [
    "%%manim  $paramsbigger\n",
    "class Example(Scene):\n",
    "    def construct(self):\n",
    "        triangle.z_index = 3\n",
    "        square.z_index   = 2\n",
    "        circle.z_index   = 1\n",
    "        self.add(triangle, square, circle,line)  # order matters\n",
    "        self.add(BEST)\n",
    "        print(f\"{line.z_index=}\")"
   ]
  },
  {
   "cell_type": "code",
   "execution_count": null,
   "id": "03752591",
   "metadata": {},
   "outputs": [],
   "source": [
    "%%manim  $paramsbigger\n",
    "triangle.z_index = 0\n",
    "square.z_index   = 0\n",
    "circle.z_index   = 0\n",
    "class Example(Scene):\n",
    "    def construct(self):\n",
    "        triangle.set(z_index=1)\n",
    "        self.add(triangle, square, circle,line)  # order matters\n",
    "        print(self.mobjects)\n",
    "        print(f\"{triangle.z_index=} , {square.z_index=} , {circle.z_index=} , {line.z_index=}\")\n",
    "        self.add(BEST)"
   ]
  },
  {
   "cell_type": "code",
   "execution_count": null,
   "id": "be2c5535",
   "metadata": {},
   "outputs": [],
   "source": [
    "%%manim  $paramsbigger \n",
    "triangle.z_index = 0\n",
    "square.z_index   = 0\n",
    "circle.z_index   = 0\n",
    "class Example(Scene):\n",
    "    def construct(self):\n",
    "        try: \n",
    "            triangle.set_style(z_index=1)  # here we expect an error! Only for didactic purpose, it is put into this `try` blog, so that no long error message is shown.\n",
    "        except TypeError:  \n",
    "            print(\"TypeError, set_style() got an unexpected keyword argument 'z_index'. \")\n",
    "        self.add(triangle, square, circle,line)  # order matters\n",
    "        print(f\"{triangle.z_index=} , {square.z_index=} , {circle.z_index=} , {line.z_index=}\")\n",
    "        self.add(NO)"
   ]
  },
  {
   "cell_type": "markdown",
   "id": "48cec6a8",
   "metadata": {
    "tags": []
   },
   "source": [
    "<div class=\"alert alert-info\">\n",
    "\n",
    "Congratulations!\n",
    "\n",
    "You are now a master in setting up your Mobjects on a scene. Let's go on with the part you came to manim the in the first place: Animations!\n",
    "\n",
    "</div>"
   ]
  }
 ],
 "metadata": {
  "kernelspec": {
   "display_name": "Python 3",
   "language": "python",
   "name": "python3"
  },
  "language_info": {
   "codemirror_mode": {
    "name": "ipython",
    "version": 3
   },
   "file_extension": ".py",
   "mimetype": "text/x-python",
   "name": "python",
   "nbconvert_exporter": "python",
   "pygments_lexer": "ipython3",
   "version": "3.9.2"
  }
 },
 "nbformat": 4,
 "nbformat_minor": 5
}
