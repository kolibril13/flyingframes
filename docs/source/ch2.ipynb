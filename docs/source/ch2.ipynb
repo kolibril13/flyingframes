{
 "cells": [
  {
   "cell_type": "markdown",
   "metadata": {},
   "source": [
    "# Chapter 2 - Mobject Basics\n",
    "**Latest update : 6.6.2021**  \n",
    "After reading this chapter, you will be able to build up Mobjects on scenes, no animations included yet.  \n",
    "As python is very vertyle, there multiple ways to acomplish a certain task, but some options are not \"best practice\".\n",
    "Here, I want to show the best practive (labeled with **BEST** and the **green check with the star**), other possible options (labeled with **YES** and the **green check**), and options that do not work (labeled with **NO** and the **red cross**)  \n",
    "Please ignore the next three cells, they are only for setting up the example scene."
   ]
  },
  {
   "cell_type": "code",
   "execution_count": null,
   "metadata": {},
   "outputs": [],
   "source": [
    "from manim import * "
   ]
  },
  {
   "cell_type": "code",
   "execution_count": null,
   "metadata": {},
   "outputs": [],
   "source": [
    "YES = SVGMobject(\"check.svg\").to_edge(LEFT, buff=1)\n",
    "BEST = YES.copy()\n",
    "BEST.add(Star(color= YELLOW, fill_opacity=1).scale(0.5).move_to(BEST).shift(0.5*DOWN+0.5*RIGHT))\n",
    "NO  = Cross(Square(), stroke_color = RED_D, stroke_width = 38).scale(0.9).move_to(YES)"
   ]
  },
  {
   "cell_type": "code",
   "execution_count": null,
   "metadata": {},
   "outputs": [],
   "source": [
    "params = \"-v WARNING -r 500,100 -s  --disable_caching Example\"\n",
    "paramsbigger = \"-v WARNING -r 500,120 -s  --disable_caching Example\""
   ]
  },
  {
   "cell_type": "markdown",
   "metadata": {},
   "source": [
    "## Stroke width\n",
    "\n",
    "strokes can be set in multiple ways:  \n",
    "The recomendend ways are via  `Circle(stroke_width=30)` , `c.set_stroke(width = 30)` or `c.set_style(stroke_width= 30)`  \n",
    "Also possible, but not the best solution is `c.stroke_width = 30` and `c.set(stroke_width = 30)`  \n",
    "Also possible, but not recommended because deprecated is `c.set_stroke_width(30)`  "
   ]
  },
  {
   "cell_type": "code",
   "execution_count": null,
   "metadata": {},
   "outputs": [],
   "source": [
    "%%manim $params\n",
    "class Example(Scene):\n",
    "    def construct(self):\n",
    "        c = Circle(stroke_width=30)\n",
    "        self.add(BEST,c)"
   ]
  },
  {
   "cell_type": "code",
   "execution_count": null,
   "metadata": {},
   "outputs": [],
   "source": [
    "%%manim $params\n",
    "class Example(Scene):\n",
    "    def construct(self):\n",
    "        c = Circle()\n",
    "        c.set_stroke(width = 30)\n",
    "        self.add(BEST,c)"
   ]
  },
  {
   "cell_type": "code",
   "execution_count": null,
   "metadata": {},
   "outputs": [],
   "source": [
    "%%manim $params\n",
    "class Example(Scene):\n",
    "    def construct(self):\n",
    "        c = Circle()\n",
    "        c.set_style(stroke_width= 30)\n",
    "        self.add(BEST,c)"
   ]
  },
  {
   "cell_type": "code",
   "execution_count": null,
   "metadata": {},
   "outputs": [],
   "source": [
    "%%manim $params\n",
    "class Example(Scene):\n",
    "    def construct(self):\n",
    "        c = Circle()\n",
    "        c.stroke_width = 30\n",
    "        self.add(YES,c)"
   ]
  },
  {
   "cell_type": "code",
   "execution_count": null,
   "metadata": {},
   "outputs": [],
   "source": [
    "%%manim $params\n",
    "class Example(Scene):\n",
    "    def construct(self):\n",
    "        c = Circle()\n",
    "        c.set(stroke_width = 30)\n",
    "        self.add(YES,c)"
   ]
  },
  {
   "cell_type": "code",
   "execution_count": null,
   "metadata": {},
   "outputs": [],
   "source": [
    "%%manim $params\n",
    "class Example(Scene):\n",
    "    def construct(self):\n",
    "        c = Circle()\n",
    "        c.set_stroke_width(30)\n",
    "        self.add(NO,c)"
   ]
  },
  {
   "cell_type": "markdown",
   "metadata": {},
   "source": [
    "## Colors and Opacity:\n",
    "* Color parameters for Mobjects are `stroke_color`, `fill_color` and `color`.   The paramter  `color` automatically sets both `stroke_color` and `fill_color`.  \n",
    "The recomendend ways to set **colors** are via  `c = Circle(fill_color= BLUE, fill_opacity= 1 )` , `c.set_fill(color=RED)` or `c.set_style(fill_color=GREEN)`  \n",
    "Not possible are `c.fill_color=YELLOW` ,   `c.set(fill_color=YELLOW)` and `c.set_fill_color(YELLOW)`\n",
    "\n",
    "\n",
    "* Opacity paramters are  for Mobjects are `fill_opacity` and `stroke_opacity` (there is **not**  `opacity` here).  \n",
    "The recomendend ways to set **opacites** are via  `c = Circle(fill_color= BLUE, fill_opacity= 0.5 )` , `c.set_fill(color=RED)` or `c.set_style(fill_color=GREEN)`  \n",
    "\n",
    "Analog to colors, `c.fill_opacity=1`, `c.set(fill_opacity=1)` and `c.set_fill_opacity(1)` are not possible. (to keep things short, these examples are not shown).\n"
   ]
  },
  {
   "cell_type": "markdown",
   "metadata": {},
   "source": [
    "### Colors"
   ]
  },
  {
   "cell_type": "code",
   "execution_count": null,
   "metadata": {},
   "outputs": [],
   "source": [
    "%%manim $params\n",
    "class Example(Scene):\n",
    "    def construct(self):\n",
    "        c = Square(fill_color= BLUE, fill_opacity= 1 )\n",
    "        self.add(BEST,c)"
   ]
  },
  {
   "cell_type": "code",
   "execution_count": null,
   "metadata": {},
   "outputs": [],
   "source": [
    "%%manim $params\n",
    "class Example(Scene):\n",
    "    def construct(self):\n",
    "        c = Square(fill_color= BLUE, fill_opacity= 1)\n",
    "        c.set_fill(color=RED)\n",
    "        self.add(BEST,c)"
   ]
  },
  {
   "cell_type": "code",
   "execution_count": null,
   "metadata": {},
   "outputs": [],
   "source": [
    "%%manim $params\n",
    "class Example(Scene):\n",
    "    def construct(self):\n",
    "        c = Square(fill_color= BLUE, fill_opacity= 1)\n",
    "        c.set_style(fill_color=GREEN)\n",
    "        self.add(BEST,c)"
   ]
  },
  {
   "cell_type": "code",
   "execution_count": null,
   "metadata": {},
   "outputs": [],
   "source": [
    "%%manim $params\n",
    "class Example(Scene):\n",
    "    def construct(self):\n",
    "        c = Square(fill_opacity= 1)\n",
    "        c.fill_color=YELLOW\n",
    "        self.add(NO,c)"
   ]
  },
  {
   "cell_type": "code",
   "execution_count": null,
   "metadata": {},
   "outputs": [],
   "source": [
    "%%manim $params\n",
    "class Example(Scene):\n",
    "    def construct(self):\n",
    "        c = Square(fill_opacity= 1)\n",
    "        c.set(fill_color=YELLOW)\n",
    "        self.add(NO,c)"
   ]
  },
  {
   "cell_type": "code",
   "execution_count": null,
   "metadata": {},
   "outputs": [],
   "source": [
    "%%manim $params\n",
    "class Example(Scene):\n",
    "    def construct(self):\n",
    "        c = Square(fill_opacity= 1)\n",
    "        c.set_fill_color(YELLOW)\n",
    "        self.add(NO,c)"
   ]
  },
  {
   "cell_type": "code",
   "execution_count": null,
   "metadata": {},
   "outputs": [],
   "source": [
    "%%manim $params\n",
    "class Example(Scene):\n",
    "    def construct(self):\n",
    "        self.camera.background_color = PURPLE\n",
    "        self.add(BEST)"
   ]
  },
  {
   "cell_type": "markdown",
   "metadata": {},
   "source": [
    "### Opacities"
   ]
  },
  {
   "cell_type": "code",
   "execution_count": null,
   "metadata": {},
   "outputs": [],
   "source": [
    "%%manim $params\n",
    "class Example(Scene):\n",
    "    def construct(self):\n",
    "        c = Ellipse(color= YELLOW, fill_opacity=0.3).scale(2)\n",
    "        self.add(BEST,c)"
   ]
  },
  {
   "cell_type": "code",
   "execution_count": null,
   "metadata": {},
   "outputs": [],
   "source": [
    "%%manim  $params\n",
    "class Example(Scene):\n",
    "    def construct(self):\n",
    "        c = Ellipse(color= YELLOW).scale(2)\n",
    "        c.set_fill(opacity=0.5) # be careful: here, it must be `opacity` and not `fill_opacity` !\n",
    "        self.add(BEST,c)"
   ]
  },
  {
   "cell_type": "code",
   "execution_count": null,
   "metadata": {},
   "outputs": [],
   "source": [
    "%%manim  $params\n",
    "class Example(Scene):\n",
    "    def construct(self):\n",
    "        c = Ellipse(color= YELLOW).scale(2)\n",
    "        c.set_style(fill_opacity=0.7) # and here, it must be `fill_opacity` and not `opacity` !\n",
    "        self.add(BEST,c)"
   ]
  },
  {
   "cell_type": "markdown",
   "metadata": {},
   "source": [
    "## Layers\n",
    "There are two main ways to change the layers of Mobjects:    \n",
    "   1. reordering the list of submobjects that where added\n",
    "   2. using the z_index"
   ]
  },
  {
   "cell_type": "markdown",
   "metadata": {},
   "source": [
    "### submobjects layers\n",
    "A scene stores displaied mobjects in a list. They are displayied in the order that they are added to the scene with the syntax `self.add(circleLeft,circleRight)`\n",
    "First, we have a look on postioning mobjects with `self.add` and the methods `self.bring_to_back` and `self.bring_to_front`. In most cases, this is completly enough. Later, we will come to the z_index, that is seen by manim by one priority higher: Even when a mobject is added first to the mobject list, it will be displaied on top of the others, if it has a higher z_index. An example about this will be seen later."
   ]
  },
  {
   "cell_type": "code",
   "execution_count": null,
   "metadata": {},
   "outputs": [],
   "source": [
    "circleLeft = Circle(color=BLUE, fill_opacity=1)\n",
    "circleRight = Circle(color=ORANGE,fill_opacity=1).shift(RIGHT)\n",
    "line = Line(2*LEFT,3*RIGHT,color=YELLOW, stroke_width=20)"
   ]
  },
  {
   "cell_type": "code",
   "execution_count": null,
   "metadata": {},
   "outputs": [],
   "source": [
    "%%manim  $paramsbigger\n",
    "class Example(Scene):\n",
    "    def construct(self):\n",
    "        self.add(circleLeft,circleRight)\n",
    "        self.add(BEST)"
   ]
  },
  {
   "cell_type": "code",
   "execution_count": null,
   "metadata": {},
   "outputs": [],
   "source": [
    "%%manim  $paramsbigger\n",
    "class Example(Scene):\n",
    "    def construct(self):\n",
    "        self.add(circleRight,circleLeft)\n",
    "        self.add(BEST)"
   ]
  },
  {
   "cell_type": "code",
   "execution_count": null,
   "metadata": {},
   "outputs": [],
   "source": [
    "%%manim  $paramsbigger\n",
    "class Example(Scene):\n",
    "    def construct(self):\n",
    "        self.add(circleLeft,circleRight, line)\n",
    "        self.add(BEST)"
   ]
  },
  {
   "cell_type": "code",
   "execution_count": null,
   "metadata": {},
   "outputs": [],
   "source": [
    "%%manim  $paramsbigger\n",
    "class Example(Scene):\n",
    "    def construct(self):\n",
    "        self.add(circleLeft,circleRight, line)\n",
    "        print(self.mobjects)\n",
    "        self.bring_to_back(line)\n",
    "        print(self.mobjects)\n",
    "        self.add(BEST)"
   ]
  },
  {
   "cell_type": "code",
   "execution_count": null,
   "metadata": {},
   "outputs": [],
   "source": [
    "%%manim  $paramsbigger\n",
    "class Example(Scene):\n",
    "    def construct(self):\n",
    "        self.add(circleLeft,circleRight, line)\n",
    "        print(self.mobjects)\n",
    "        self.bring_to_front(circleLeft)\n",
    "        print(self.mobjects)\n",
    "        self.add(BEST)"
   ]
  },
  {
   "cell_type": "markdown",
   "metadata": {},
   "source": [
    "### z_index layers\n",
    "The default z_dindex is 0. \n",
    "Now we will see what happens, when we increase the value of the z_index.   \n",
    "The z_index can be changed by `triangle = Triangle(z_index=1)`,`triangle.z_index=1` , `triangle.set(z_index=1)` and `triangle.set_z_index(1)`  \n",
    "It can not be changed using `triangle.set_style(z_index=1)`"
   ]
  },
  {
   "cell_type": "code",
   "execution_count": null,
   "metadata": {},
   "outputs": [],
   "source": [
    "#initilizing line,circle,square and triangle\n",
    "BUFF= 0.5*DOWN \n",
    "line = Line(3*LEFT,3*RIGHT,color=YELLOW, stroke_width=20)\n",
    "circle = Circle(color=GREEN_D, fill_opacity=1).shift(LEFT+BUFF)\n",
    "square = Square(color=BLUE_D, fill_opacity=1).shift(UP+BUFF)\n",
    "triangle = Triangle(color=RED_D, fill_opacity=1).shift(RIGHT+BUFF)"
   ]
  },
  {
   "cell_type": "code",
   "execution_count": null,
   "metadata": {},
   "outputs": [],
   "source": [
    "%%manim  $paramsbigger\n",
    "class Example(Scene):\n",
    "    def construct(self):\n",
    "        self.add(line,triangle, square, circle)  # order matters\n",
    "        print(self.mobjects)\n",
    "        print(f\"{triangle.z_index=} , {square.z_index=} , {circle.z_index=} , {line.z_index=}\")\n",
    "        self.add(BEST)"
   ]
  },
  {
   "cell_type": "code",
   "execution_count": null,
   "metadata": {},
   "outputs": [],
   "source": [
    "%%manim  $paramsbigger\n",
    "class Example(Scene):\n",
    "    def construct(self):\n",
    "        triangle.z_index=1\n",
    "        self.add(triangle, square, circle,line)  # order matters\n",
    "        print(self.mobjects)\n",
    "        print(f\"{triangle.z_index=} , {square.z_index=} , {circle.z_index=} , {line.z_index=}\")\n",
    "        self.add(BEST)"
   ]
  },
  {
   "cell_type": "code",
   "execution_count": null,
   "metadata": {},
   "outputs": [],
   "source": [
    "%%manim  $paramsbigger\n",
    "class Example(Scene):\n",
    "    def construct(self):\n",
    "        triangle.z_index = 1\n",
    "        square.z_index   = 2\n",
    "        circle.z_index   = 3\n",
    "        self.add(triangle, square, circle,line)  # order matters\n",
    "        self.add(BEST)\n",
    "        print(f\"{line.z_index=}\")"
   ]
  },
  {
   "cell_type": "code",
   "execution_count": null,
   "metadata": {},
   "outputs": [],
   "source": [
    "%%manim  $paramsbigger\n",
    "class Example(Scene):\n",
    "    def construct(self):\n",
    "        triangle.z_index = 3\n",
    "        square.z_index   = 2\n",
    "        circle.z_index   = 1\n",
    "        self.add(triangle, square, circle,line)  # order matters\n",
    "        self.add(BEST)\n",
    "        print(f\"{line.z_index=}\")"
   ]
  },
  {
   "cell_type": "code",
   "execution_count": null,
   "metadata": {},
   "outputs": [],
   "source": [
    "%%manim  $paramsbigger\n",
    "triangle.z_index = 0\n",
    "square.z_index   = 0\n",
    "circle.z_index   = 0\n",
    "class Example(Scene):\n",
    "    def construct(self):\n",
    "        triangle.set(z_index=1)\n",
    "        self.add(triangle, square, circle,line)  # order matters\n",
    "        print(self.mobjects)\n",
    "        print(f\"{triangle.z_index=} , {square.z_index=} , {circle.z_index=} , {line.z_index=}\")\n",
    "        self.add(BEST)"
   ]
  },
  {
   "cell_type": "code",
   "execution_count": null,
   "metadata": {},
   "outputs": [],
   "source": [
    "%%manim  $paramsbigger \n",
    "triangle.z_index = 0\n",
    "square.z_index   = 0\n",
    "circle.z_index   = 0\n",
    "class Example(Scene):\n",
    "    def construct(self):\n",
    "        try: \n",
    "            triangle.set_style(z_index=1)  # here we expect an error! Only for didactic purpose, it is put into this `try` blog, so that no long error message is shown.\n",
    "        except TypeError:  \n",
    "            print(\"TypeError, set_style() got an unexpected keyword argument 'z_index'. \")\n",
    "        self.add(triangle, square, circle,line)  # order matters\n",
    "        print(f\"{triangle.z_index=} , {square.z_index=} , {circle.z_index=} , {line.z_index=}\")\n",
    "        self.add(NO)"
   ]
  },
  {
   "cell_type": "markdown",
   "metadata": {
    "tags": []
   },
   "source": [
    "## Scaling and streching"
   ]
  },
  {
   "cell_type": "code",
   "execution_count": null,
   "metadata": {},
   "outputs": [],
   "source": [
    "%%manim $params\n",
    "class Example(Scene):\n",
    "    def construct(self):\n",
    "        d= Dot(color= YELLOW)\n",
    "        d.scale(10)\n",
    "        self.add(d)"
   ]
  },
  {
   "cell_type": "code",
   "execution_count": null,
   "metadata": {},
   "outputs": [],
   "source": [
    "%%manim $params\n",
    "class Example(Scene):\n",
    "    def construct(self):\n",
    "        d= Dot(color= YELLOW)\n",
    "        d.scale(10)\n",
    "        d.stretch_in_place(4, dim = 0) # dim = 0 means vertical\n",
    "        self.add(d)"
   ]
  },
  {
   "cell_type": "code",
   "execution_count": null,
   "metadata": {},
   "outputs": [],
   "source": [
    "%%manim $paramsbigger\n",
    "class Example(Scene):\n",
    "    def construct(self):\n",
    "        d= Dot(color= YELLOW)\n",
    "        d.scale(10)\n",
    "        d.stretch_in_place(2, dim = 1) # dim = 1 means horizontal\n",
    "        self.add(d)"
   ]
  },
  {
   "cell_type": "code",
   "execution_count": null,
   "metadata": {},
   "outputs": [],
   "source": [
    "%%manim $params\n",
    "class Example(Scene):\n",
    "    def construct(self):\n",
    "        d= Dot(color= YELLOW)\n",
    "        d.scale(10)\n",
    "        d.apply_matrix([[0.5, 0.5, 0], # shear matrix\n",
    "                        [ 0 ,  1 , 0],\n",
    "                        [ 0 ,  0 , 1]])\n",
    "        self.add(d)"
   ]
  },
  {
   "cell_type": "markdown",
   "metadata": {},
   "source": [
    "## Rotating"
   ]
  },
  {
   "cell_type": "markdown",
   "metadata": {},
   "source": [
    "## Positioning"
   ]
  },
  {
   "cell_type": "markdown",
   "metadata": {},
   "source": [
    "Now we come to positioning of mobjects.\n",
    "There are tons and tones of options, and not everything will be covered here. \n",
    "The most important functions to set positions:  \n",
    "`shift` `move_to`  `align_to` , `next_to` ,`to_corner` , `to_edge` , `arrange` , `arrange_in_grid` \n",
    "The most important functions to get positions:  \n",
    "` m.get_center()` , `m.get_top` ,  `m.get_buttom` `m.get_point_from..``"
   ]
  },
  {
   "cell_type": "markdown",
   "metadata": {},
   "source": [
    "## set postions"
   ]
  },
  {
   "cell_type": "code",
   "execution_count": null,
   "metadata": {},
   "outputs": [],
   "source": [
    "dORIGIN= Dot(color= BLUE,radius=0.5)"
   ]
  },
  {
   "cell_type": "code",
   "execution_count": null,
   "metadata": {},
   "outputs": [],
   "source": [
    "%%manim $params\n",
    "class Example(Scene):\n",
    "    def construct(self):\n",
    "        d= Dot(color= YELLOW, radius=0.5)\n",
    "        d.shift(2*RIGHT)\n",
    "        self.add(dORIGIN, d)"
   ]
  },
  {
   "cell_type": "code",
   "execution_count": null,
   "metadata": {},
   "outputs": [],
   "source": [
    "%%manim $params\n",
    "class Example(Scene):\n",
    "    def construct(self):\n",
    "        d= Dot(color= YELLOW, radius=0.5)\n",
    "        d.shift(3*RIGHT+0.8*UP)\n",
    "        self.add(dORIGIN, d)"
   ]
  },
  {
   "cell_type": "code",
   "execution_count": null,
   "metadata": {},
   "outputs": [],
   "source": [
    "%%manim $params\n",
    "class Example(Scene):\n",
    "    def construct(self):\n",
    "        d= Dot(color= ORANGE, radius=0.5)\n",
    "        d.next_to(dORIGIN, LEFT)\n",
    "        self.add(dORIGIN, d)"
   ]
  },
  {
   "cell_type": "code",
   "execution_count": null,
   "metadata": {},
   "outputs": [],
   "source": [
    "%%manim $params\n",
    "class Example(Scene):\n",
    "    def construct(self):\n",
    "        d= Dot(color= ORANGE, radius=0.5)\n",
    "        d.next_to(dORIGIN, LEFT, buff=0)\n",
    "        self.add(dORIGIN, d)"
   ]
  },
  {
   "cell_type": "code",
   "execution_count": null,
   "metadata": {},
   "outputs": [],
   "source": [
    "%%manim $params\n",
    "class Example(Scene):\n",
    "    def construct(self):\n",
    "        d= Dot(color= ORANGE, radius=0.5)\n",
    "        d.next_to(dORIGIN, UL,buff=-0.5) # UL is UPLEFT \n",
    "        self.add(dORIGIN, d)"
   ]
  },
  {
   "cell_type": "code",
   "execution_count": null,
   "metadata": {},
   "outputs": [],
   "source": [
    "%%manim $params\n",
    "class Example(Scene):\n",
    "    def construct(self):\n",
    "        d= Dot(color= ORANGE, radius=0.5)\n",
    "        d.to_edge(LEFT)\n",
    "        self.add(dORIGIN, d)"
   ]
  },
  {
   "cell_type": "code",
   "execution_count": null,
   "metadata": {},
   "outputs": [],
   "source": [
    "%%manim $params\n",
    "class Example(Scene):\n",
    "    def construct(self):\n",
    "        s= Star()\n",
    "        d=Dot(color= ORANGE, radius=0.5)\n",
    "        d.align_to(s,DOWN)\n",
    "        self.add(s,d)"
   ]
  },
  {
   "cell_type": "code",
   "execution_count": null,
   "metadata": {},
   "outputs": [],
   "source": [
    "%%manim $params\n",
    "class Example(Scene):\n",
    "    def construct(self):\n",
    "        s= Star()\n",
    "        d=Dot(color= ORANGE, radius=0.5)\n",
    "        d.next_to(s,RIGHT, aligned_edge=UP) #next to and align combined\n",
    "        self.add(s,d)\n"
   ]
  },
  {
   "cell_type": "code",
   "execution_count": null,
   "metadata": {},
   "outputs": [],
   "source": [
    "%%manim $params\n",
    "class Example(Scene):\n",
    "    def construct(self):\n",
    "        for i in range(0,10):\n",
    "            self.add(Dot(color= ORANGE, radius=0.5))\n",
    "        VGroup(*self.mobjects).arrange()"
   ]
  },
  {
   "cell_type": "code",
   "execution_count": null,
   "metadata": {},
   "outputs": [],
   "source": [
    "%%manim $params\n",
    "class Example(Scene):\n",
    "    def construct(self):\n",
    "        for i in range(0,24):\n",
    "            self.add(Dot(color= ORANGE, radius=0.2))\n",
    "        VGroup(*self.mobjects).arrange_in_grid(cols=6)"
   ]
  },
  {
   "cell_type": "markdown",
   "metadata": {},
   "source": [
    "## get positions"
   ]
  },
  {
   "cell_type": "code",
   "execution_count": null,
   "metadata": {},
   "outputs": [],
   "source": [
    "s= Star()\n",
    "np.set_printoptions(precision=2,suppress=True)\n",
    "\n",
    "print(f\"{s.get_center()=}\\t\")\n",
    "print(f\"{s.get_top()=}\\t\")"
   ]
  },
  {
   "cell_type": "code",
   "execution_count": null,
   "metadata": {},
   "outputs": [],
   "source": []
  }
 ],
 "metadata": {
  "kernelspec": {
   "display_name": "Python 3",
   "language": "python",
   "name": "python3"
  },
  "language_info": {
   "codemirror_mode": {
    "name": "ipython",
    "version": 3
   },
   "file_extension": ".py",
   "mimetype": "text/x-python",
   "name": "python",
   "nbconvert_exporter": "python",
   "pygments_lexer": "ipython3",
   "version": "3.9.2"
  }
 },
 "nbformat": 4,
 "nbformat_minor": 4
}
