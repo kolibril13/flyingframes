{
 "cells": [
  {
   "cell_type": "markdown",
   "id": "5ba2cd30",
   "metadata": {},
   "source": [
    "# Chapter 2 - Mobject Basics\n",
    "**Latest update : 11.6.2021**  \n",
    "After reading this chapter, you will be able to build up Mobjects on scenes, no animations included yet. There will be lots of minimal exmaples and only very brief explainations."
   ]
  },
  {
   "cell_type": "code",
   "execution_count": null,
   "id": "60014dc9",
   "metadata": {},
   "outputs": [],
   "source": [
    "from manim import * "
   ]
  },
  {
   "cell_type": "code",
   "execution_count": null,
   "id": "416015ec",
   "metadata": {},
   "outputs": [],
   "source": [
    "#ignore this cell, only for setup\n",
    "params = \"-v WARNING -r 500,100 -s  --disable_caching Example\"\n",
    "paramsbigger = \"-v WARNING -r 500,120 -s  --disable_caching Example\""
   ]
  },
  {
   "cell_type": "markdown",
   "id": "03b13a53",
   "metadata": {},
   "source": [
    "## Positioning\n",
    "First we want to position of mobjects.\n",
    "There are tons of options, and not everything will be covered here.\n",
    "\n",
    "### set positions\n",
    "Some important methods to set positions are:  \n",
    "`shift` `move_to`  `align_to` , `next_to` ,`to_corner` , `to_edge` , `arrange` , `arrange_in_grid` "
   ]
  },
  {
   "cell_type": "code",
   "execution_count": null,
   "id": "38e2e577",
   "metadata": {},
   "outputs": [],
   "source": [
    "dORIGIN= Dot(color= BLUE,radius=0.5)"
   ]
  },
  {
   "cell_type": "code",
   "execution_count": null,
   "id": "b9e59769",
   "metadata": {},
   "outputs": [],
   "source": [
    "%%manim $params\n",
    "class Example(Scene):\n",
    "    def construct(self):\n",
    "        d= Dot(color= YELLOW, radius=0.5)\n",
    "        d.shift(2*RIGHT)\n",
    "        self.add(dORIGIN, d)"
   ]
  },
  {
   "cell_type": "code",
   "execution_count": null,
   "id": "2f641b3e",
   "metadata": {},
   "outputs": [],
   "source": [
    "%%manim $params\n",
    "class Example(Scene):\n",
    "    def construct(self):\n",
    "        d= Dot(color= YELLOW, radius=0.5)\n",
    "        d.shift(3*RIGHT+0.8*UP)\n",
    "        self.add(dORIGIN, d)"
   ]
  },
  {
   "cell_type": "code",
   "execution_count": null,
   "id": "42cef929",
   "metadata": {},
   "outputs": [],
   "source": [
    "%%manim $params\n",
    "class Example(Scene):\n",
    "    def construct(self):\n",
    "        d= Dot(color= ORANGE, radius=0.5)\n",
    "        d.next_to(dORIGIN, LEFT)\n",
    "        self.add(dORIGIN, d)"
   ]
  },
  {
   "cell_type": "code",
   "execution_count": null,
   "id": "131fce29",
   "metadata": {},
   "outputs": [],
   "source": [
    "%%manim $params\n",
    "class Example(Scene):\n",
    "    def construct(self):\n",
    "        d= Dot(color= ORANGE, radius=0.5)\n",
    "        d.next_to(dORIGIN, LEFT, buff=0)\n",
    "        self.add(dORIGIN, d)"
   ]
  },
  {
   "cell_type": "code",
   "execution_count": null,
   "id": "1a0018a9",
   "metadata": {},
   "outputs": [],
   "source": [
    "%%manim $params\n",
    "class Example(Scene):\n",
    "    def construct(self):\n",
    "        d= Dot(color= ORANGE, radius=0.5)\n",
    "        d.next_to(dORIGIN, LEFT, buff=4)\n",
    "        self.add(dORIGIN, d)"
   ]
  },
  {
   "cell_type": "code",
   "execution_count": null,
   "id": "439c2016",
   "metadata": {},
   "outputs": [],
   "source": [
    "%%manim $params\n",
    "class Example(Scene):\n",
    "    def construct(self):\n",
    "        d= Dot(color= ORANGE, radius=0.5)\n",
    "        d.next_to(dORIGIN, UL,buff=-0.5) # UL is UPLEFT \n",
    "        self.add(dORIGIN, d)"
   ]
  },
  {
   "cell_type": "code",
   "execution_count": null,
   "id": "eeaa923c",
   "metadata": {},
   "outputs": [],
   "source": [
    "%%manim $params\n",
    "class Example(Scene):\n",
    "    def construct(self):\n",
    "        d= Dot(color= ORANGE, radius=0.5)\n",
    "        d.to_edge(LEFT)\n",
    "        self.add(dORIGIN, d)"
   ]
  },
  {
   "cell_type": "code",
   "execution_count": null,
   "id": "5cb9136b",
   "metadata": {},
   "outputs": [],
   "source": [
    "%%manim $params\n",
    "class Example(Scene):\n",
    "    def construct(self):\n",
    "        s= Star(stroke_width=10)\n",
    "        d=Dot(color= ORANGE, radius=0.5)\n",
    "        d.align_to(s,DOWN)\n",
    "        self.add(s,d)"
   ]
  },
  {
   "cell_type": "code",
   "execution_count": null,
   "id": "e09a706c",
   "metadata": {},
   "outputs": [],
   "source": [
    "%%manim $params\n",
    "class Example(Scene):\n",
    "    def construct(self):\n",
    "        s= Star(stroke_width=10)\n",
    "        d=Dot(color= ORANGE, radius=0.5)\n",
    "        d.next_to(s,RIGHT, aligned_edge=UP) #next to and align combined\n",
    "        self.add(s,d)\n"
   ]
  },
  {
   "cell_type": "code",
   "execution_count": null,
   "id": "c4a34429",
   "metadata": {},
   "outputs": [],
   "source": [
    "%%manim $params\n",
    "class Example(Scene):\n",
    "    def construct(self):\n",
    "        for i in range(0,10):\n",
    "            self.add(Dot(color= ORANGE, radius=0.5))\n",
    "        VGroup(*self.mobjects).arrange()"
   ]
  },
  {
   "cell_type": "code",
   "execution_count": null,
   "id": "77a54323",
   "metadata": {},
   "outputs": [],
   "source": [
    "%%manim $params\n",
    "class Example(Scene):\n",
    "    def construct(self):\n",
    "        for i in range(0,24):\n",
    "            self.add(Dot(color= ORANGE, radius=0.2))\n",
    "        VGroup(*self.mobjects).arrange_in_grid(cols=6)"
   ]
  },
  {
   "cell_type": "markdown",
   "id": "db6900bb",
   "metadata": {},
   "source": [
    "### get positions\n",
    "The most important methods to get positions:  \n",
    "`get_center` , `get_top` , `get_right` , `get_start`"
   ]
  },
  {
   "cell_type": "code",
   "execution_count": null,
   "id": "2d433719",
   "metadata": {},
   "outputs": [],
   "source": [
    "s= Star(stroke_width=10)\n",
    "d=Dot(color= YELLOW, radius=0.2)"
   ]
  },
  {
   "cell_type": "code",
   "execution_count": null,
   "id": "c1de2d22",
   "metadata": {},
   "outputs": [],
   "source": [
    "%%manim $params\n",
    "class Example(Scene):\n",
    "    def construct(self):\n",
    "        pos= s.get_center()\n",
    "        self.add(s, d.move_to(pos))"
   ]
  },
  {
   "cell_type": "code",
   "execution_count": null,
   "id": "1534e6e7",
   "metadata": {},
   "outputs": [],
   "source": [
    "%%manim $params\n",
    "class Example(Scene):\n",
    "    def construct(self):\n",
    "        pos= s.get_top()\n",
    "        self.add(s, d.move_to(pos))"
   ]
  },
  {
   "cell_type": "code",
   "execution_count": null,
   "id": "ab822358",
   "metadata": {},
   "outputs": [],
   "source": [
    "%%manim $params\n",
    "class Example(Scene):\n",
    "    def construct(self):\n",
    "        pos= s.get_right()\n",
    "        self.add(s, d.move_to(pos))"
   ]
  },
  {
   "cell_type": "code",
   "execution_count": null,
   "id": "c075e766",
   "metadata": {},
   "outputs": [],
   "source": [
    "%%manim $params\n",
    "class Example(Scene):\n",
    "    def construct(self):\n",
    "        pos= s.get_bottom()\n",
    "        self.add(s, d.move_to(pos))"
   ]
  },
  {
   "cell_type": "code",
   "execution_count": null,
   "id": "c7032122",
   "metadata": {},
   "outputs": [],
   "source": [
    "%%manim $params\n",
    "class Example(Scene):\n",
    "    def construct(self):\n",
    "        pos= s.get_left()\n",
    "        self.add(s, d.move_to(pos))"
   ]
  },
  {
   "cell_type": "code",
   "execution_count": null,
   "id": "3fd8d918",
   "metadata": {},
   "outputs": [],
   "source": [
    "%%manim $params\n",
    "class Example(Scene):\n",
    "    def construct(self):\n",
    "        pos= s.get_corner(UL)\n",
    "        self.add(s, d.move_to(pos))"
   ]
  },
  {
   "cell_type": "code",
   "execution_count": null,
   "id": "baaf3c83",
   "metadata": {},
   "outputs": [],
   "source": [
    "%%manim $params\n",
    "class Example(Scene):\n",
    "    def construct(self):\n",
    "        pos= s.get_corner(DR)\n",
    "        self.add(s, d.move_to(pos))"
   ]
  },
  {
   "cell_type": "code",
   "execution_count": null,
   "id": "f477f10b",
   "metadata": {},
   "outputs": [],
   "source": [
    "arc= Arc(radius=1.0, start_angle=-PI/16, angle=PI, stroke_width=10)"
   ]
  },
  {
   "cell_type": "code",
   "execution_count": null,
   "id": "2e58e5a8",
   "metadata": {},
   "outputs": [],
   "source": [
    "%%manim $params\n",
    "class Example(Scene):\n",
    "    def construct(self):\n",
    "        pos= arc.get_start()\n",
    "        self.add(arc, d.move_to(pos))"
   ]
  },
  {
   "cell_type": "code",
   "execution_count": null,
   "id": "227846b4",
   "metadata": {},
   "outputs": [],
   "source": [
    "%%manim $params\n",
    "class Example(Scene):\n",
    "    def construct(self):\n",
    "        pos= arc.get_end()\n",
    "        self.add(arc, d.move_to(pos))"
   ]
  },
  {
   "cell_type": "code",
   "execution_count": null,
   "id": "b878ef9e",
   "metadata": {},
   "outputs": [],
   "source": [
    "%%manim $params\n",
    "class Example(Scene):\n",
    "    def construct(self):\n",
    "        pos= arc.get_midpoint()\n",
    "        self.add(arc, d.move_to(pos))"
   ]
  },
  {
   "cell_type": "code",
   "execution_count": null,
   "id": "cb425337",
   "metadata": {},
   "outputs": [],
   "source": [
    "%%manim $params\n",
    "class Example(Scene):\n",
    "    def construct(self):\n",
    "        pos= arc.point_from_proportion(0.2)\n",
    "        self.add(arc, d.move_to(pos))"
   ]
  },
  {
   "cell_type": "code",
   "execution_count": null,
   "id": "47f6760c",
   "metadata": {},
   "outputs": [],
   "source": [
    "%%manim $params\n",
    "class Example(Scene):\n",
    "    def construct(self):\n",
    "        pos= arc.get_center()\n",
    "        self.add(arc, d.move_to(pos))"
   ]
  },
  {
   "cell_type": "code",
   "execution_count": null,
   "id": "eefdb787",
   "metadata": {},
   "outputs": [],
   "source": [
    "%%manim $params\n",
    "class Example(Scene): #Example for `get_x` , `get_y`, `set_x` and `set_y`\n",
    "    def construct(self):\n",
    "        x=VGroup(*[Dot(color= BLUE, radius=0.1) for _ in range(0,24)])\n",
    "        x.arrange_in_grid(cols=6)\n",
    "        x.shift(0.5*UP)\n",
    "        x[13].set_color(YELLOW)\n",
    "        xpos= x[13].get_x()\n",
    "        ypos= x[13].get_y()\n",
    "        self.add(x)\n",
    "        a1= Arrow(color=YELLOW).stretch_to_fit_width(0.9)\n",
    "        a1.next_to(x, LEFT, buff=0.1)\n",
    "        a1.set_y(ypos)\n",
    "        a2= a1.copy().rotate(PI/2)\n",
    "        a2.next_to(x, DOWN, buff=0.1)\n",
    "        a2.set_x(xpos)\n",
    "        self.add(a1,a2)"
   ]
  },
  {
   "cell_type": "markdown",
   "id": "1fb27e55",
   "metadata": {
    "tags": []
   },
   "source": [
    "## Scaling and Stretching"
   ]
  },
  {
   "cell_type": "code",
   "execution_count": null,
   "id": "529b1132",
   "metadata": {},
   "outputs": [],
   "source": [
    "%%manim $params\n",
    "class Example(Scene):\n",
    "    def construct(self):\n",
    "        d= Dot(color= YELLOW)\n",
    "        d.scale(10)\n",
    "        self.add(d)"
   ]
  },
  {
   "cell_type": "code",
   "execution_count": null,
   "id": "6da7fa87",
   "metadata": {},
   "outputs": [],
   "source": [
    "%%manim $params\n",
    "class Example(Scene):\n",
    "    def construct(self):\n",
    "        d= Dot(color= YELLOW)\n",
    "        d.scale(10)\n",
    "        d.stretch_in_place(4, dim = 0) # dim = 0 means vertical\n",
    "        self.add(d)"
   ]
  },
  {
   "cell_type": "code",
   "execution_count": null,
   "id": "df35b8cb",
   "metadata": {},
   "outputs": [],
   "source": [
    "%%manim $paramsbigger\n",
    "class Example(Scene):\n",
    "    def construct(self):\n",
    "        d= Dot(color= YELLOW)\n",
    "        d.scale(10)\n",
    "        d.stretch_in_place(2, dim = 1) # dim = 1 means horizontal\n",
    "        self.add(d)"
   ]
  },
  {
   "cell_type": "code",
   "execution_count": null,
   "id": "e5830605",
   "metadata": {},
   "outputs": [],
   "source": [
    "%%manim $params\n",
    "class Example(Scene):\n",
    "    def construct(self):\n",
    "        d= Dot(color= YELLOW)\n",
    "        d.scale(10)\n",
    "        d.apply_matrix([[0.5, 0.5, 0], # shear matrix\n",
    "                        [ 0 ,  1 , 0],\n",
    "                        [ 0 ,  0 , 1]])\n",
    "        self.add(d)"
   ]
  },
  {
   "cell_type": "markdown",
   "id": "76d4bbf5",
   "metadata": {},
   "source": [
    "## Rotating"
   ]
  },
  {
   "cell_type": "code",
   "execution_count": null,
   "id": "c33fdf6d",
   "metadata": {},
   "outputs": [],
   "source": [
    "%%manim $paramsbigger\n",
    "class Example(Scene):\n",
    "    def construct(self):\n",
    "        m= ManimBanner().scale(0.5)\n",
    "        m.rotate(PI/8)\n",
    "        self.add(m)"
   ]
  },
  {
   "cell_type": "code",
   "execution_count": null,
   "id": "4268070e",
   "metadata": {},
   "outputs": [],
   "source": [
    "%%manim $paramsbigger\n",
    "class Example(Scene):\n",
    "    def construct(self):\n",
    "        m= ManimBanner().scale(0.5)\n",
    "        m.rotate(-20*DEGREES)\n",
    "        self.add(m)"
   ]
  },
  {
   "cell_type": "code",
   "execution_count": null,
   "id": "4e536bf0",
   "metadata": {},
   "outputs": [],
   "source": [
    "%%manim $paramsbigger\n",
    "class Example(Scene):\n",
    "    def construct(self):\n",
    "        m= ManimBanner().scale(0.5)\n",
    "        self.add(m.copy())\n",
    "        m.rotate(about_point=2*LEFT, angle=180*DEGREES)\n",
    "        self.add(m, Dot(2*LEFT,radius=0.1))"
   ]
  },
  {
   "cell_type": "code",
   "execution_count": null,
   "id": "fb525ba1",
   "metadata": {},
   "outputs": [],
   "source": [
    "%%manim $paramsbigger\n",
    "class Example(Scene):\n",
    "    def construct(self):\n",
    "        m= ManimBanner().scale(0.5)\n",
    "        m.rotate(axis=UP,angle=60*DEGREES)\n",
    "        self.add(m)"
   ]
  },
  {
   "cell_type": "markdown",
   "id": "796a306b",
   "metadata": {},
   "source": [
    "------------\n",
    "------------"
   ]
  },
  {
   "cell_type": "markdown",
   "id": "218e034b",
   "metadata": {},
   "source": [
    "<div class=\"alert alert-info\">\n",
    "\n",
    "Note\n",
    "\n",
    "Python is very fertile tool, there multiple ways to accomplish a certain task, but some options are not \"best practice\". \n",
    "For the methods in the next chapters, I want to show the best practice (labeled with **BEST** and the **green check with the star**), other possible options (labeled with **YES** and the **green check**), and options that do not work (labeled with **NO** and the **red cross**)\n",
    "\n",
    "</div>"
   ]
  },
  {
   "cell_type": "code",
   "execution_count": null,
   "id": "27f102a7",
   "metadata": {},
   "outputs": [],
   "source": [
    "# ignore this cell, only for setup\n",
    "YES = SVGMobject(\"good.svg\").to_edge(LEFT, buff=1)\n",
    "BEST = YES.copy()\n",
    "BEST.add(Star(color= YELLOW, fill_opacity=1).scale(0.5).move_to(BEST).shift(0.5*DOWN+0.5*RIGHT))\n",
    "NO  = Cross(Square(), stroke_color = RED_D, stroke_width = 38).scale(0.9).move_to(YES)"
   ]
  },
  {
   "cell_type": "markdown",
   "id": "89beb054",
   "metadata": {},
   "source": [
    "## Colors and Opacity\n",
    "* Color parameters for Mobjects are `stroke_color`, `fill_color` and `color`.   The paramter  `color` automatically sets both `stroke_color` and `fill_color`.  \n",
    "The recomendend ways to set **colors** are via  `c = Circle(fill_color= BLUE, fill_opacity= 1 )` , `c.set_fill(color=RED)` or `c.set_style(fill_color=GREEN)`  \n",
    "Not possible are `c.fill_color=YELLOW` ,   `c.set(fill_color=YELLOW)` and `c.set_fill_color(YELLOW)`\n",
    "\n",
    "\n",
    "* Opacity paramters are  for Mobjects are `fill_opacity` and `stroke_opacity` (there is **not**  `opacity` here).  \n",
    "The recomendend ways to set **opacites** are via  `c = Circle(fill_color= BLUE, fill_opacity= 0.5 )` , `c.set_fill(color=RED)` or `c.set_style(fill_color=GREEN)`  \n",
    "Analog to colors, `c.fill_opacity=1`, `c.set(fill_opacity=1)` and `c.set_fill_opacity(1)` are not possible. (to keep things short, these examples are not shown).\n"
   ]
  },
  {
   "cell_type": "markdown",
   "id": "b69853db",
   "metadata": {},
   "source": [
    "### Colors"
   ]
  },
  {
   "cell_type": "code",
   "execution_count": null,
   "id": "f87bcbc2",
   "metadata": {},
   "outputs": [],
   "source": [
    "%%manim $params\n",
    "class Example(Scene):\n",
    "    def construct(self):\n",
    "        c = Square(fill_color= BLUE, fill_opacity= 1 )\n",
    "        self.add(BEST,c)"
   ]
  },
  {
   "cell_type": "code",
   "execution_count": null,
   "id": "1f73a080",
   "metadata": {},
   "outputs": [],
   "source": [
    "%%manim $params\n",
    "class Example(Scene):\n",
    "    def construct(self):\n",
    "        c = Square(fill_color= BLUE, fill_opacity= 1)\n",
    "        c.set_fill(color=RED)\n",
    "        self.add(BEST,c)"
   ]
  },
  {
   "cell_type": "code",
   "execution_count": null,
   "id": "21131ed7",
   "metadata": {},
   "outputs": [],
   "source": [
    "%%manim $params\n",
    "class Example(Scene):\n",
    "    def construct(self):\n",
    "        c = Square(fill_color= BLUE, fill_opacity= 1)\n",
    "        c.set_style(fill_color=GREEN)\n",
    "        self.add(BEST,c)"
   ]
  },
  {
   "cell_type": "code",
   "execution_count": null,
   "id": "0282afc7",
   "metadata": {},
   "outputs": [],
   "source": [
    "%%manim $params\n",
    "class Example(Scene):\n",
    "    def construct(self):\n",
    "        c = Square(fill_opacity= 1)\n",
    "        c.fill_color=YELLOW\n",
    "        self.add(NO,c)"
   ]
  },
  {
   "cell_type": "code",
   "execution_count": null,
   "id": "0443f8fa",
   "metadata": {},
   "outputs": [],
   "source": [
    "%%manim $params\n",
    "class Example(Scene):\n",
    "    def construct(self):\n",
    "        c = Square(fill_opacity= 1)\n",
    "        c.set(fill_color=YELLOW)\n",
    "        self.add(NO,c)"
   ]
  },
  {
   "cell_type": "code",
   "execution_count": null,
   "id": "1f354f9a",
   "metadata": {},
   "outputs": [],
   "source": [
    "%%manim $params\n",
    "class Example(Scene):\n",
    "    def construct(self):\n",
    "        c = Square(fill_opacity= 1)\n",
    "        c.set_fill_color(YELLOW)\n",
    "        self.add(NO,c)"
   ]
  },
  {
   "cell_type": "code",
   "execution_count": null,
   "id": "20d0b068",
   "metadata": {},
   "outputs": [],
   "source": [
    "%%manim $params\n",
    "class Example(Scene):\n",
    "    def construct(self):\n",
    "        self.camera.background_color = PURPLE\n",
    "        self.add(BEST)"
   ]
  },
  {
   "cell_type": "markdown",
   "id": "9db3b83e",
   "metadata": {},
   "source": [
    "### Opacitiy"
   ]
  },
  {
   "cell_type": "code",
   "execution_count": null,
   "id": "5e124713",
   "metadata": {},
   "outputs": [],
   "source": [
    "%%manim $params\n",
    "class Example(Scene):\n",
    "    def construct(self):\n",
    "        c = Ellipse(color= YELLOW, fill_opacity=0.3).scale(2)\n",
    "        self.add(BEST,c)"
   ]
  },
  {
   "cell_type": "code",
   "execution_count": null,
   "id": "c168644f",
   "metadata": {},
   "outputs": [],
   "source": [
    "%%manim  $params\n",
    "class Example(Scene):\n",
    "    def construct(self):\n",
    "        c = Ellipse(color= YELLOW).scale(2)\n",
    "        c.set_fill(opacity=0.5) # be careful: here, it must be `opacity` and not `fill_opacity` !\n",
    "        self.add(BEST,c)"
   ]
  },
  {
   "cell_type": "code",
   "execution_count": null,
   "id": "11eb8eaa",
   "metadata": {},
   "outputs": [],
   "source": [
    "%%manim  $params\n",
    "class Example(Scene):\n",
    "    def construct(self):\n",
    "        c = Ellipse(color= YELLOW).scale(2)\n",
    "        c.set_style(fill_opacity=0.7) # and here, it must be `fill_opacity` and not `opacity` !\n",
    "        self.add(BEST,c)"
   ]
  },
  {
   "cell_type": "markdown",
   "id": "c3e24022",
   "metadata": {},
   "source": [
    "## Stroke width\n",
    "\n",
    "strokes can be set in multiple ways:  \n",
    "The recomendend ways are via  `Circle(stroke_width=30)` , `c.set_stroke(width = 30)` or `c.set_style(stroke_width= 30)`  \n",
    "Also possible, but not the best solution is `c.stroke_width = 30` and `c.set(stroke_width = 30)`  \n",
    "Also possible, but not recommended because deprecated is `c.set_stroke_width(30)`  "
   ]
  },
  {
   "cell_type": "code",
   "execution_count": null,
   "id": "595a3ff4",
   "metadata": {},
   "outputs": [],
   "source": [
    "%%manim $params\n",
    "class Example(Scene):\n",
    "    def construct(self):\n",
    "        c = Circle(stroke_width=30)\n",
    "        self.add(BEST,c)"
   ]
  },
  {
   "cell_type": "code",
   "execution_count": null,
   "id": "ebd68e35",
   "metadata": {},
   "outputs": [],
   "source": [
    "%%manim $params\n",
    "class Example(Scene):\n",
    "    def construct(self):\n",
    "        c = Circle()\n",
    "        c.set_stroke(width = 30)\n",
    "        self.add(BEST,c)"
   ]
  },
  {
   "cell_type": "code",
   "execution_count": null,
   "id": "d58456fb",
   "metadata": {},
   "outputs": [],
   "source": [
    "%%manim $params\n",
    "class Example(Scene):\n",
    "    def construct(self):\n",
    "        c = Circle()\n",
    "        c.set_style(stroke_width= 30)\n",
    "        self.add(BEST,c)"
   ]
  },
  {
   "cell_type": "code",
   "execution_count": null,
   "id": "827b58c5",
   "metadata": {},
   "outputs": [],
   "source": [
    "%%manim $params\n",
    "class Example(Scene):\n",
    "    def construct(self):\n",
    "        c = Circle()\n",
    "        c.stroke_width = 30\n",
    "        self.add(YES,c)"
   ]
  },
  {
   "cell_type": "code",
   "execution_count": null,
   "id": "2b4ed954",
   "metadata": {},
   "outputs": [],
   "source": [
    "%%manim $params\n",
    "class Example(Scene):\n",
    "    def construct(self):\n",
    "        c = Circle()\n",
    "        c.set(stroke_width = 30)\n",
    "        self.add(YES,c)"
   ]
  },
  {
   "cell_type": "code",
   "execution_count": null,
   "id": "39bccafd",
   "metadata": {},
   "outputs": [],
   "source": [
    "%%manim $params\n",
    "class Example(Scene):\n",
    "    def construct(self):\n",
    "        c = Circle()\n",
    "        c.set_stroke_width(30)\n",
    "        self.add(NO,c)"
   ]
  },
  {
   "cell_type": "markdown",
   "id": "87619d91",
   "metadata": {},
   "source": [
    "## Layers\n",
    "There are two main ways to change the layers of Mobjects:    \n",
    "   1. reordering the list of submobjects that where added\n",
    "   2. using the z_index\n",
    "\n",
    "### submobjects\n",
    "A scene stores displayed mobjects in a list. They are displayied in the order that they are added to the scene with the syntax `self.add(circleLeft,circleRight)`\n",
    "First, we have a look on positioning mobjects with `self.add` and the methods `self.bring_to_back` and `self.bring_to_front`. In most cases, this is completely enough. Later, we will come to the z_index, that is seen by manim by one priority higher: Even when a mobject is added first to the mobject list, it will be displayed on top of the others, if it has a higher z_index. An example about this will be seen later."
   ]
  },
  {
   "cell_type": "markdown",
   "id": "e8bf4be5",
   "metadata": {},
   "source": []
  },
  {
   "cell_type": "code",
   "execution_count": null,
   "id": "6c7bf7ac",
   "metadata": {},
   "outputs": [],
   "source": [
    "circleLeft = Circle(color=BLUE, fill_opacity=1)\n",
    "circleRight = Circle(color=ORANGE,fill_opacity=1).shift(RIGHT)\n",
    "line = Line(2*LEFT,3*RIGHT,color=YELLOW, stroke_width=20)"
   ]
  },
  {
   "cell_type": "code",
   "execution_count": null,
   "id": "ca0d7e48",
   "metadata": {},
   "outputs": [],
   "source": [
    "%%manim  $paramsbigger\n",
    "class Example(Scene):\n",
    "    def construct(self):\n",
    "        self.add(circleLeft,circleRight)\n",
    "        self.add(BEST)"
   ]
  },
  {
   "cell_type": "code",
   "execution_count": null,
   "id": "a0d69b98",
   "metadata": {},
   "outputs": [],
   "source": [
    "%%manim  $paramsbigger\n",
    "class Example(Scene):\n",
    "    def construct(self):\n",
    "        self.add(circleRight,circleLeft)\n",
    "        self.add(BEST)"
   ]
  },
  {
   "cell_type": "code",
   "execution_count": null,
   "id": "045367dd",
   "metadata": {},
   "outputs": [],
   "source": [
    "%%manim  $paramsbigger\n",
    "class Example(Scene):\n",
    "    def construct(self):\n",
    "        self.add(circleLeft,circleRight, line)\n",
    "        self.add(BEST)"
   ]
  },
  {
   "cell_type": "code",
   "execution_count": null,
   "id": "e5a3118e",
   "metadata": {},
   "outputs": [],
   "source": [
    "%%manim  $paramsbigger\n",
    "class Example(Scene):\n",
    "    def construct(self):\n",
    "        self.add(circleLeft,circleRight, line)\n",
    "        print(self.mobjects)\n",
    "        self.bring_to_back(line)\n",
    "        print(self.mobjects)\n",
    "        self.add(BEST)"
   ]
  },
  {
   "cell_type": "code",
   "execution_count": null,
   "id": "6bce16c5",
   "metadata": {},
   "outputs": [],
   "source": [
    "%%manim  $paramsbigger\n",
    "class Example(Scene):\n",
    "    def construct(self):\n",
    "        self.add(circleLeft,circleRight, line)\n",
    "        print(self.mobjects)\n",
    "        self.bring_to_front(circleLeft)\n",
    "        print(self.mobjects)\n",
    "        self.add(BEST)"
   ]
  },
  {
   "cell_type": "markdown",
   "id": "c8720243",
   "metadata": {},
   "source": [
    "### z_index\n",
    "The default z_index is 0. \n",
    "Now we will see what happens, when we increase the value of the z_index.   \n",
    "The z_index can be changed by `triangle = Triangle(z_index=1)`,`triangle.z_index=1` , `triangle.set(z_index=1)` and `triangle.set_z_index(1)`  \n",
    "It can not be changed using `triangle.set_style(z_index=1)`"
   ]
  },
  {
   "cell_type": "code",
   "execution_count": null,
   "id": "f4394a05",
   "metadata": {},
   "outputs": [],
   "source": [
    "#initilizing line,circle,square and triangle\n",
    "BUFF= 0.5*DOWN \n",
    "line = Line(3*LEFT,3*RIGHT,color=YELLOW, stroke_width=20)\n",
    "circle = Circle(color=GREEN_D, fill_opacity=1).shift(LEFT+BUFF)\n",
    "square = Square(color=BLUE_D, fill_opacity=1).shift(UP+BUFF)\n",
    "triangle = Triangle(color=RED_D, fill_opacity=1).shift(RIGHT+BUFF)"
   ]
  },
  {
   "cell_type": "code",
   "execution_count": null,
   "id": "5cdbbd46",
   "metadata": {},
   "outputs": [],
   "source": [
    "%%manim  $paramsbigger\n",
    "class Example(Scene):\n",
    "    def construct(self):\n",
    "        self.add(line,triangle, square, circle)  # order matters\n",
    "        print(self.mobjects)\n",
    "        print(f\"{triangle.z_index=} , {square.z_index=} , {circle.z_index=} , {line.z_index=}\")\n",
    "        self.add(BEST)"
   ]
  },
  {
   "cell_type": "code",
   "execution_count": null,
   "id": "6c67ef49",
   "metadata": {},
   "outputs": [],
   "source": [
    "%%manim  $paramsbigger\n",
    "class Example(Scene):\n",
    "    def construct(self):\n",
    "        triangle.z_index=1\n",
    "        self.add(triangle, square, circle,line)  # order matters\n",
    "        print(self.mobjects)\n",
    "        print(f\"{triangle.z_index=} , {square.z_index=} , {circle.z_index=} , {line.z_index=}\")\n",
    "        self.add(BEST)"
   ]
  },
  {
   "cell_type": "code",
   "execution_count": null,
   "id": "88631aef",
   "metadata": {},
   "outputs": [],
   "source": [
    "%%manim  $paramsbigger\n",
    "class Example(Scene):\n",
    "    def construct(self):\n",
    "        triangle.z_index = 1\n",
    "        square.z_index   = 2\n",
    "        circle.z_index   = 3\n",
    "        self.add(triangle, square, circle,line)  # order matters\n",
    "        self.add(BEST)\n",
    "        print(f\"{line.z_index=}\")"
   ]
  },
  {
   "cell_type": "code",
   "execution_count": null,
   "id": "19b2f215",
   "metadata": {},
   "outputs": [],
   "source": [
    "%%manim  $paramsbigger\n",
    "class Example(Scene):\n",
    "    def construct(self):\n",
    "        triangle.z_index = 3\n",
    "        square.z_index   = 2\n",
    "        circle.z_index   = 1\n",
    "        self.add(triangle, square, circle,line)  # order matters\n",
    "        self.add(BEST)\n",
    "        print(f\"{line.z_index=}\")"
   ]
  },
  {
   "cell_type": "code",
   "execution_count": null,
   "id": "bbf5c65c",
   "metadata": {},
   "outputs": [],
   "source": [
    "%%manim  $paramsbigger\n",
    "triangle.z_index = 0\n",
    "square.z_index   = 0\n",
    "circle.z_index   = 0\n",
    "class Example(Scene):\n",
    "    def construct(self):\n",
    "        triangle.set(z_index=1)\n",
    "        self.add(triangle, square, circle,line)  # order matters\n",
    "        print(self.mobjects)\n",
    "        print(f\"{triangle.z_index=} , {square.z_index=} , {circle.z_index=} , {line.z_index=}\")\n",
    "        self.add(BEST)"
   ]
  },
  {
   "cell_type": "code",
   "execution_count": null,
   "id": "8c90d4a5",
   "metadata": {},
   "outputs": [],
   "source": [
    "%%manim  $paramsbigger \n",
    "triangle.z_index = 0\n",
    "square.z_index   = 0\n",
    "circle.z_index   = 0\n",
    "class Example(Scene):\n",
    "    def construct(self):\n",
    "        try: \n",
    "            triangle.set_style(z_index=1)  # here we expect an error! Only for didactic purpose, it is put into this `try` blog, so that no long error message is shown.\n",
    "        except TypeError:  \n",
    "            print(\"TypeError, set_style() got an unexpected keyword argument 'z_index'. \")\n",
    "        self.add(triangle, square, circle,line)  # order matters\n",
    "        print(f\"{triangle.z_index=} , {square.z_index=} , {circle.z_index=} , {line.z_index=}\")\n",
    "        self.add(NO)"
   ]
  },
  {
   "cell_type": "markdown",
   "id": "f3572be1",
   "metadata": {
    "tags": []
   },
   "source": [
    "<div class=\"alert alert-info\">\n",
    "\n",
    "Congratulations!\n",
    "\n",
    "You are now a master in setting up your Mobjects on a scene. Let's go on with the part you came to manim the in the first place: Animations!\n",
    "\n",
    "</div>"
   ]
  }
 ],
 "metadata": {
  "kernelspec": {
   "display_name": "Python 3",
   "language": "python",
   "name": "python3"
  },
  "language_info": {
   "codemirror_mode": {
    "name": "ipython",
    "version": 3
   },
   "file_extension": ".py",
   "mimetype": "text/x-python",
   "name": "python",
   "nbconvert_exporter": "python",
   "pygments_lexer": "ipython3",
   "version": "3.9.2"
  }
 },
 "nbformat": 4,
 "nbformat_minor": 5
}
