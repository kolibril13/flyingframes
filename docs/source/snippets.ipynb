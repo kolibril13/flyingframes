{
 "cells": [
  {
   "cell_type": "markdown",
   "metadata": {},
   "source": [
    "# Chapter Snippets"
   ]
  },
  {
   "cell_type": "code",
   "execution_count": 3,
   "metadata": {},
   "outputs": [],
   "source": [
    "import manim\n",
    "from manim import *"
   ]
  },
  {
   "cell_type": "markdown",
   "metadata": {},
   "source": [
    "## FFMPEG \n",
    "\n",
    "For some videos, it might be wanted to have the first frame as an image, for example \n",
    "in while post-processing in a video edior.\n",
    "This can be accived with the following script, which will batch-process all videos in the Downloads folder and extract all first frames to\n",
    "the folder \"Downloads/processed\""
   ]
  },
  {
   "cell_type": "code",
   "execution_count": null,
   "metadata": {},
   "outputs": [],
   "source": [
    "from pathlib import Path\n",
    "import os\n",
    "suffix = \".mp4\"\n",
    "input_path= Path.home() / \"Downloads/\"\n",
    "file_paths= [subp for subp in input_path.rglob('*') if  suffix == subp.suffix]\n",
    "file_paths.sort()\n",
    "print(file_paths)\n",
    "output_path =  Path.home() / \"Downloads/processed\"\n",
    "output_path.mkdir(parents=True, exist_ok=True)\n",
    "print(output_path)\n",
    "\n",
    "for file_p in file_paths:\n",
    "    input = str(file_p)\n",
    "    output = str(  output_path / file_p.name)\n",
    "    output = output[:-4] # delete the ending\n",
    "    print(output)\n",
    "    command = f\"ffmpeg -i {input} -vframes 1 {output}.png\"\n",
    "    os.system(command)"
   ]
  }
 ],
 "metadata": {
  "kernelspec": {
   "display_name": "Python 3",
   "language": "python",
   "name": "python3"
  },
  "language_info": {
   "codemirror_mode": {
    "name": "ipython",
    "version": 3
   },
   "file_extension": ".py",
   "mimetype": "text/x-python",
   "name": "python",
   "nbconvert_exporter": "python",
   "pygments_lexer": "ipython3",
   "version": "3.9.2"
  }
 },
 "nbformat": 4,
 "nbformat_minor": 4
}
