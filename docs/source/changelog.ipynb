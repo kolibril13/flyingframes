{
 "cells": [
  {
   "cell_type": "markdown",
   "id": "69c0e7c4",
   "metadata": {},
   "source": [
    "# Changelog"
   ]
  },
  {
   "attachments": {},
   "cell_type": "markdown",
   "id": "815f882b",
   "metadata": {},
   "source": [
    "## 0.17.1\n",
    "* Animation example for `low_frame_rate`\n",
    "* Animatione example for different rate functions simultaneously.\n",
    "* `config.media_embed = True`for videos in FlyingFrames\n",
    "\n",
    "\n",
    "## 0.15.2\n",
    "\n",
    "* rerun examples with latest manim version.\n",
    "\n",
    "## 0.13.0\n",
    "\n",
    "* Moon Mobject in chapter 3\n",
    "* added transparent backgrund example\n",
    "## 0.12.0\n",
    "\n",
    "* stretch_in_place to stretch\n",
    "* renamed all params to param\n",
    "* added openGL param in TL;DR\n",
    "* added chapter with manim+matplotlib\n",
    "* added Boolean examples to mobject gallery\n",
    "\n",
    "\n",
    "## 0.11.0\n",
    "\n",
    "* Removing \"Last Edited\"\n",
    "* Update Version\n",
    "* added new Banner\n",
    "* Removing numbers in chaptername \n",
    "* adding chapter \"Scene Building with plots\"\n",
    "* removing chapter \"additional tools\"\n",
    "* Reordering chapters\n",
    "\n",
    "## 0.10.0\n",
    "\n",
    "* changed plugin to manim_physics\n",
    "* Added copy-paste gallery in chapter 2 as a link to https://kolibril13.github.io/mobject-gallery/\n",
    "\n",
    "\n",
    "## 0.9.0\n",
    "\n",
    "* added copybutton\n",
    "* updated manim version\n",
    "* Shortened headings\n",
    "\n",
    "\n",
    "\n",
    "\n"
   ]
  },
  {
   "cell_type": "markdown",
   "id": "3230280a",
   "metadata": {},
   "source": []
  }
 ],
 "metadata": {
  "kernelspec": {
   "display_name": ".venv",
   "language": "python",
   "name": "python3"
  },
  "language_info": {
   "codemirror_mode": {
    "name": "ipython",
    "version": 3
   },
   "file_extension": ".py",
   "mimetype": "text/x-python",
   "name": "python",
   "nbconvert_exporter": "python",
   "pygments_lexer": "ipython3",
   "version": "3.11.0 (main, Oct 26 2022, 19:06:18) [Clang 14.0.0 (clang-1400.0.29.202)]"
  },
  "vscode": {
   "interpreter": {
    "hash": "f787d74a9e12ab3ccb05df1312db2c2bd8bbc22ecc9f12926934e36d8bbe1578"
   }
  }
 },
 "nbformat": 4,
 "nbformat_minor": 5
}
