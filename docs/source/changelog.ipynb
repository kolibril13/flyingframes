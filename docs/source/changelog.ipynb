{
 "cells": [
  {
   "cell_type": "markdown",
   "id": "69c0e7c4",
   "metadata": {},
   "source": [
    "# Changelog"
   ]
  },
  {
   "cell_type": "markdown",
   "id": "815f882b",
   "metadata": {},
   "source": [
    "## 0.9.0\n",
    "* added copybutton\n",
    "* updated manim version\n",
    "* Shortened headings\n",
    "\n",
    "## 0.10.0  \n",
    "* changed plugin to manim_physics\n",
    "* Added copy-paste gallery in chapter 2"
   ]
  },
  {
   "cell_type": "code",
   "execution_count": null,
   "id": "7aa6eda3-4154-45db-9b51-6058d7777533",
   "metadata": {},
   "outputs": [],
   "source": []
  }
 ],
 "metadata": {
  "kernelspec": {
   "display_name": "Python 3",
   "language": "python",
   "name": "python3"
  },
  "language_info": {
   "codemirror_mode": {
    "name": "ipython",
    "version": 3
   },
   "file_extension": ".py",
   "mimetype": "text/x-python",
   "name": "python",
   "nbconvert_exporter": "python",
   "pygments_lexer": "ipython3",
   "version": "3.9.5"
  }
 },
 "nbformat": 4,
 "nbformat_minor": 5
}
