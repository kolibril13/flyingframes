{
 "cells": [
  {
   "cell_type": "markdown",
   "id": "69c0e7c4",
   "metadata": {},
   "source": [
    "# Changelog"
   ]
  },
  {
   "cell_type": "markdown",
   "id": "815f882b",
   "metadata": {},
   "source": [
    "## 0.9.0\n",
    "\n",
    "* added copybutton\n",
    "* updated manim version\n",
    "* Shortened headings\n",
    "\n",
    "## 0.10.0\n",
    "\n",
    "* changed plugin to manim_physics\n",
    "* Added copy-paste gallery in chapter 2 as a link to https://kolibril13.github.io/mobject-gallery/\n",
    "\n",
    "## 0.11.0\n",
    "\n",
    "* Removing \"Last Edited\"\n",
    "* Update Version\n",
    "* added new Banner\n",
    "* Removing numbers in chaptername \n",
    "* adding chapter \"Scene Building with plots\"\n",
    "* removing chapter \"additional tools\"\n",
    "* Reordering chapters"
   ]
  }
 ],
 "metadata": {
  "kernelspec": {
   "display_name": "Python 3",
   "language": "python",
   "name": "python3"
  },
  "language_info": {
   "codemirror_mode": {
    "name": "ipython",
    "version": 3
   },
   "file_extension": ".py",
   "mimetype": "text/x-python",
   "name": "python",
   "nbconvert_exporter": "python",
   "pygments_lexer": "ipython3",
   "version": "3.9.5"
  }
 },
 "nbformat": 4,
 "nbformat_minor": 5
}
