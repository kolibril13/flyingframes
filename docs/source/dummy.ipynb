{
 "cells": [
  {
   "cell_type": "markdown",
   "metadata": {},
   "source": [
    "# Dummy\n",
    "\n",
    "## Code, Output, Streams\n",
    "\n",
    "An empty code cell:"
   ]
  },
  {
   "cell_type": "code",
   "execution_count": 1,
   "metadata": {},
   "outputs": [
    {
     "data": {
      "text/html": [
       "<pre style=\"white-space:pre;overflow-x:auto;line-height:normal;font-family:Menlo,'DejaVu Sans Mono',consolas,'Courier New',monospace\">Manim Community <span style=\"color: #008000; text-decoration-color: #008000\">v0.7.0</span>\n",
       "\n",
       "</pre>\n"
      ],
      "text/plain": [
       "Manim Community \u001b[32mv0.\u001b[0m\u001b[32m7.0\u001b[0m\n",
       "\n"
      ]
     },
     "metadata": {},
     "output_type": "display_data"
    }
   ],
   "source": [
    "import manim\n",
    "from manim import *"
   ]
  },
  {
   "cell_type": "code",
   "execution_count": 2,
   "metadata": {},
   "outputs": [],
   "source": [
    "stix2 = TexTemplate()\n",
    "stix2.add_to_preamble(r\"\\usepackage{stix2}\", prepend= True)\n",
    "def TexS(*tex_strings, **kwargs):\n",
    "    return Tex(*tex_strings, tex_template=stix2,  **kwargs)\n",
    "def MathTexS(*tex_strings, **kwargs):\n",
    "    return MathTex(*tex_strings,tex_template=stix2, **kwargs)"
   ]
  },
  {
   "cell_type": "code",
   "execution_count": null,
   "metadata": {},
   "outputs": [],
   "source": [
    "%%manim  -v WARNING -ql  --disable_caching ABCCD\n",
    "\n",
    "\n",
    "\n",
    "class ABCCD(Scene):\n",
    "    def construct(self):\n",
    "        tex  = Tex(r\"$dk_x dk_y = |\\mu| d\\mu d\\phi$\").scale(3)\n",
    "        tex2 = Tex(r\"$\\begin{pmatrix} k_x \\\\ k_y  \\end{pmatrix}$\")\n",
    "        tex3 = Tex(r\"$\\mu \\begin{pmatrix} \\cos \\phi \\\\ \\sin \\phi  \\end{pmatrix}$\")\n",
    "        \n",
    "        gr = VGroup()\n",
    "        all_variables = dir()\n",
    "        for name in all_variables:\n",
    "            if not name.startswith('__'):\n",
    "                myvalue = eval(name)\n",
    "                if isinstance(myvalue, Tex):\n",
    "                    gr.add(myvalue)\n",
    "        gr.arrange(DOWN)\n",
    "        self.add(gr)\n",
    "            "
   ]
  },
  {
   "cell_type": "code",
   "execution_count": null,
   "metadata": {},
   "outputs": [],
   "source": [
    "%%manim  -v WARNING -ql  --disable_caching ABCCD\n",
    "\n",
    "\n",
    "\n",
    "class ABCCD(Scene):\n",
    "    def construct(self):\n",
    "        tex  = TexS(r\"$dk_x dk_y = |\\mu| d\\mu d\\phi$\").scale(3)\n",
    "        tex2 = TexS(r\"$\\begin{pmatrix} k_x \\\\ k_y  \\end{pmatrix}$\")\n",
    "        tex3 = TexS(r\"$\\mu \\begin{pmatrix} \\cos \\phi \\\\ \\sin \\phi  \\end{pmatrix}$\")\n",
    "        \n",
    "        gr = VGroup()\n",
    "        all_variables = dir()\n",
    "        for name in all_variables:\n",
    "            if not name.startswith('__'):\n",
    "                myvalue = eval(name)\n",
    "                if isinstance(myvalue, Tex):\n",
    "                    gr.add(myvalue)\n",
    "        gr.arrange(DOWN)\n",
    "        self.add(gr)\n",
    "            "
   ]
  }
 ],
 "metadata": {
  "kernelspec": {
   "display_name": "Python 3",
   "language": "python",
   "name": "python3"
  },
  "language_info": {
   "codemirror_mode": {
    "name": "ipython",
    "version": 3
   },
   "file_extension": ".py",
   "mimetype": "text/x-python",
   "name": "python",
   "nbconvert_exporter": "python",
   "pygments_lexer": "ipython3",
   "version": "3.9.2"
  }
 },
 "nbformat": 4,
 "nbformat_minor": 4
}
