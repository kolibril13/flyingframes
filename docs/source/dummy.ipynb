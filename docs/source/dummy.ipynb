{
 "cells": [
  {
   "cell_type": "markdown",
   "metadata": {},
   "source": [
    "# Dummy"
   ]
  },
  {
   "cell_type": "code",
   "execution_count": null,
   "metadata": {},
   "outputs": [],
   "source": [
    "import manim\n",
    "from manim import *"
   ]
  },
  {
   "cell_type": "markdown",
   "metadata": {},
   "source": [
    "## Adding Mobjects without self.add()"
   ]
  },
  {
   "cell_type": "code",
   "execution_count": null,
   "metadata": {},
   "outputs": [],
   "source": [
    "%%manim  -v WARNING -ql  --disable_caching ABCCD\n",
    "\n",
    "class ABCCD(Scene):\n",
    "    def construct(self):\n",
    "        tex  = Tex(r\"$dk_x dk_y = |\\mu| d\\mu d\\phi$\").scale(3)\n",
    "        tex2 = Tex(r\"$\\begin{pmatrix} k_x \\\\ k_y  \\end{pmatrix}$\")\n",
    "        tex3 = Tex(r\"$\\mu \\begin{pmatrix} \\cos \\phi \\\\ \\sin \\phi  \\end{pmatrix}$\")\n",
    "        \n",
    "        gr = VGroup()\n",
    "        all_variables = dir()\n",
    "        for name in all_variables:\n",
    "            if not name.startswith('__'):\n",
    "                myvalue = eval(name)\n",
    "                if isinstance(myvalue, Tex):\n",
    "                    gr.add(myvalue)\n",
    "        gr.arrange(DOWN)\n",
    "        self.add(gr)\n",
    "            "
   ]
  },
  {
   "cell_type": "markdown",
   "metadata": {},
   "source": [
    "## Aligining and coloring latex formulas"
   ]
  },
  {
   "cell_type": "code",
   "execution_count": null,
   "metadata": {},
   "outputs": [],
   "source": [
    "%%manim  -v WARNING -qh  -s --progress_bar None  --disable_caching Ingreds2\n",
    "BLUE=\"#09B0EC\"\n",
    "ORANGE=\"#F87D50\"\n",
    "\n",
    "\n",
    "class Ingreds2(Scene):\n",
    "    def construct(self):\n",
    "        d1,d2,d3,d4= Dot(),Dot(),Dot(),Dot()\n",
    "        dots= VGroup(d1,d2,d3,d4).arrange(DOWN, buff=1.5).to_edge(LEFT, buff=1).shift(0.2*DOWN)\n",
    "        d3.shift(DOWN*0.15)\n",
    "\n",
    "        title = Tex(r\"From \" , r\"$p(s,\\phi)$\" , \" to \" , r\"$f(x,y)$\" , r\" ? \\\\ Why do we have to filter with \" , r\"$|\\omega|$ \",\"? \").to_edge(UP, buff=1)\n",
    "        title.set_color_by_tex(\"f(x,y)\", BLUE)\n",
    "        title.set_color_by_tex(\"p(s,\\phi)\", ORANGE)\n",
    "        title.set_color_by_tex(\"|\\omega|\",ORANGE)\n",
    "\n",
    "        radon_tex = MathTex(r\"\\text{Radon Transform} \", r\"p(s,\\phi)\",r\" =\\mathcal{R}\\big\\{\",r\" f(x,y) \",r\"\\big\\}\").next_to(d1, RIGHT)\n",
    "        radon_tex.set_color_by_tex(\"f(x,y)\", BLUE)\n",
    "        radon_tex.set_color_by_tex(\"p(s,\\phi)\", ORANGE)\n",
    "        radon_name= radon_tex.submobjects[0]\n",
    "        radon_formula= VGroup(*radon_tex.submobjects[1:])\n",
    "\n",
    "\n",
    "        fourier_name = Tex(\"Fourier Transform \").next_to(d2, RIGHT)\n",
    "        fourier_formulaA =MathTex(r\"\\mathcal{F}_1\\big\\{ \",r\"p(s, \\phi)\",r\" \\big\\}   = P(\",r\"\\omega\",r\", \\phi)\")\n",
    "        fourier_formulaA.set_color_by_tex(\"p(s,\\phi)\", ORANGE)\n",
    "        fourier_formulaA.set_color_by_tex(\"\\omega\", ORANGE)\n",
    "        fourier_formulaB =MathTex(r\"\\mathcal{F}_2\\big\\{\",r\"f(x,y)\",r\"\\big\\} = F(k_x,k_y)\").next_to(fourier_formulaA, DOWN, aligned_edge=LEFT)\n",
    "        fourier_formulaB.set_color_by_tex(\"f(x,y)\", BLUE)\n",
    "        fourier_formulaALL = VGroup(fourier_formulaA,fourier_formulaB).next_to(fourier_name, RIGHT)\n",
    "        \n",
    "        polar_name = Tex(\"Polar Coordinates\").next_to(d3,RIGHT)\n",
    "        polar_formula = MathTex(r\"\t\\begin{pmatrix} k_x \\\\ k_y  \\end{pmatrix} =  r \\begin{pmatrix} \\cos \\phi \\\\ \\sin \\phi  \\end{pmatrix}\").next_to(polar_name, RIGHT )\n",
    "        \n",
    "        slice_name = Tex(\"Fourier Slice Theorm\").next_to(d4,RIGHT)\n",
    "        \n",
    "        slice_formula = MathTex(r\"\\mathcal{F}_1 \\big\\{\",r\"p(s, \\phi = \\phi')\",r\" \\big\\} &= \\mathcal{F}_2 \\big\\{ \",r\"f(x,y)\",r\" \\big\\}  \\Big|_{\\phi = \\phi'} \\\\\")\n",
    "        slice_formula.next_to(slice_name).shift(DOWN*0.1)\n",
    "        slice_formula.set_color_by_tex(\"p(s,\\phi)\", ORANGE)\n",
    "        slice_formula.set_color_by_tex(\"f(x,y)\", BLUE)\n",
    "\n",
    "        self.add(title)\n",
    "        alltex= VGroup( radon_tex, fourier_name, fourier_formulaALL, polar_name, polar_formula, slice_name,slice_formula).scale(0.8).shift(DOWN*0.5)\n",
    "        radon_formula.align_to(slice_formula, LEFT)\n",
    "        fourier_formulaALL.align_to(slice_formula, LEFT)\n",
    "        polar_formula.align_to(slice_formula, LEFT)\n",
    "        self.add(alltex)\n"
   ]
  }
 ],
 "metadata": {
  "kernelspec": {
   "display_name": "Python 3",
   "language": "python",
   "name": "python3"
  },
  "language_info": {
   "codemirror_mode": {
    "name": "ipython",
    "version": 3
   },
   "file_extension": ".py",
   "mimetype": "text/x-python",
   "name": "python",
   "nbconvert_exporter": "python",
   "pygments_lexer": "ipython3",
   "version": "3.9.2"
  }
 },
 "nbformat": 4,
 "nbformat_minor": 4
}
