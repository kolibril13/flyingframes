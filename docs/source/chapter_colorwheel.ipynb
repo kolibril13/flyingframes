{
 "cells": [
  {
   "cell_type": "markdown",
   "id": "48aef27c",
   "metadata": {},
   "source": [
    "# ColorWheelTutorial\n",
    "\n",
    "In this notebook, you will learn how to make color picker with a moving wheel in manim"
   ]
  },
  {
   "cell_type": "code",
   "execution_count": null,
   "id": "d1f45ef0",
   "metadata": {},
   "outputs": [],
   "source": [
    "import manim\n",
    "from manim import *"
   ]
  },
  {
   "cell_type": "code",
   "execution_count": null,
   "id": "0fc1d9a3",
   "metadata": {},
   "outputs": [],
   "source": [
    "from PIL import Image\n",
    "import colorsys\n",
    "import math\n",
    "\n",
    "im = Image.new(\"RGB\", (600,600))\n",
    "radius = min(im.size)/2.0\n",
    "cx, cy = im.size[0]/2, im.size[1]/2\n",
    "pix = im.load()\n",
    "\n",
    "for x in range(im.width):\n",
    "    for y in range(im.height):\n",
    "        rx = x - cx\n",
    "        ry = y - cy\n",
    "        s = (rx ** 2.0 + ry ** 2.0) ** 0.5 / radius\n",
    "        if s <= 1.0:\n",
    "            h = ((math.atan2(ry, rx) / math.pi) + 1.0) / 2.0\n",
    "            rgb = colorsys.hsv_to_rgb(h, s, 1)\n",
    "            pix[x,y] = tuple([int(round(c*255.0)) for c in rgb])\n",
    "im1= im\n",
    "display(im1)"
   ]
  },
  {
   "cell_type": "code",
   "execution_count": null,
   "id": "e857d4e6",
   "metadata": {},
   "outputs": [],
   "source": [
    "%%manim  -v WARNING -ql -s  --disable_caching Hello\n",
    "\n",
    "class Hello(Scene):\n",
    "    def construct(self):\n",
    "        self.camera.background_color=\"#193443\"\n",
    "        c = Circle()\n",
    "        d = Triangle()\n",
    "        d.scale(4)\n",
    "        d.set_style(stroke_color=BLUE)\n",
    "        c.next_to(d.get_top(), RIGHT, buff=0)\n",
    "    \n",
    "        self.add(d)\n",
    "        self.add(c)\n",
    "    #    self.play(FadeIn(c))\n",
    "     #   self.play(c.animate.shift(rotate_vector(6*DOWN, 30*DEGREES)), rate_func= lambda t:t**2, run_time=3)\n",
    "        #self.play(FadeIn(d))\n",
    "        #self.play(d.animate.shift(rotate_vector(3*UP, 30*DEGREES)))"
   ]
  },
  {
   "cell_type": "code",
   "execution_count": null,
   "id": "eddc7ae3",
   "metadata": {},
   "outputs": [],
   "source": [
    "%%manim  -v WARNING -ql   --disable_caching Hello2\n",
    "\n",
    "class Hello2(Scene):\n",
    "    def construct(self):\n",
    "        self.camera.background_color=\"#193443\"\n",
    "        c = Circle()\n",
    "        d = Triangle()\n",
    "        d.scale(4)\n",
    "        d.set_style(stroke_color=BLUE)\n",
    "        c.next_to(d.get_top(), RIGHT, buff=0)\n",
    "    \n",
    "        self.add(d)\n",
    "        self.play(c.animate.shift(4*DOWN))"
   ]
  },
  {
   "cell_type": "code",
   "execution_count": null,
   "id": "4e49efaa",
   "metadata": {},
   "outputs": [],
   "source": [
    "import os\n",
    "import pathlib\n",
    "def list_files(startpath):\n",
    "    for root, dirs, files in os.walk(startpath):\n",
    "        level = root.replace(startpath, '').count(os.sep)\n",
    "        indent = ' ' * 4 * (level)\n",
    "        print('{}{}/'.format(indent, os.path.basename(root)))\n",
    "        subindent = ' ' * 4 * (level + 1)\n",
    "        for f in files:\n",
    "            print('{}{}'.format(subindent, f))\n",
    "list_files(str(pathlib.Path.cwd()))"
   ]
  },
  {
   "cell_type": "code",
   "execution_count": null,
   "id": "67dca704",
   "metadata": {},
   "outputs": [],
   "source": [
    "list_files(str(pathlib.Path.cwd().parent))"
   ]
  },
  {
   "cell_type": "code",
   "execution_count": null,
   "id": "797b8d1c",
   "metadata": {},
   "outputs": [],
   "source": [
    "list_files(str(pathlib.Path.cwd().parent.parent))"
   ]
  }
 ],
 "metadata": {
  "kernelspec": {
   "display_name": "Python 3",
   "language": "python",
   "name": "python3"
  },
  "language_info": {
   "codemirror_mode": {
    "name": "ipython",
    "version": 3
   },
   "file_extension": ".py",
   "mimetype": "text/x-python",
   "name": "python",
   "nbconvert_exporter": "python",
   "pygments_lexer": "ipython3",
   "version": "3.9.2"
  }
 },
 "nbformat": 4,
 "nbformat_minor": 5
}
