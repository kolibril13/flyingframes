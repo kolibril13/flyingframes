{
 "cells": [
  {
   "cell_type": "markdown",
   "id": "56a414db",
   "metadata": {},
   "source": [
    "# ColorWheelTutorial\n",
    "\n",
    "In this notebook, you will learn how to make color picker with a moving wheel in manim"
   ]
  },
  {
   "cell_type": "code",
   "execution_count": null,
   "id": "754fbb2a",
   "metadata": {},
   "outputs": [],
   "source": [
    "import manim\n",
    "from manim import *"
   ]
  },
  {
   "cell_type": "code",
   "execution_count": null,
   "id": "f9fc70ae",
   "metadata": {},
   "outputs": [],
   "source": [
    "%%manim  -v WARNING -ql -s  --disable_caching Hello\n",
    "\n",
    "class Hello(Scene):\n",
    "    def construct(self):\n",
    "        self.camera.background_color=\"#193443\"\n",
    "        c = Circle()\n",
    "        d = Triangle()\n",
    "        d.scale(4)\n",
    "        d.set_style(stroke_color=BLUE)\n",
    "        c.next_to(d.get_top(), RIGHT, buff=0)\n",
    "    \n",
    "        self.add(d)\n",
    "        self.add(c)\n",
    "    #    self.play(FadeIn(c))\n",
    "     #   self.play(c.animate.shift(rotate_vector(6*DOWN, 30*DEGREES)), rate_func= lambda t:t**2, run_time=3)\n",
    "        #self.play(FadeIn(d))\n",
    "        #self.play(d.animate.shift(rotate_vector(3*UP, 30*DEGREES)))"
   ]
  },
  {
   "cell_type": "code",
   "execution_count": null,
   "id": "03366f4b",
   "metadata": {},
   "outputs": [],
   "source": [
    "%%manim  -v WARNING -ql   --disable_caching Hello2\n",
    "\n",
    "class Hello2(Scene):\n",
    "    def construct(self):\n",
    "        self.camera.background_color=\"#193443\"\n",
    "        c = Circle()\n",
    "        d = Triangle()\n",
    "        d.scale(4)\n",
    "        d.set_style(stroke_color=BLUE)\n",
    "        c.next_to(d.get_top(), RIGHT, buff=0)\n",
    "    \n",
    "        self.add(d)\n",
    "        self.play(c.animate.shift(4*DOWN))"
   ]
  },
  {
   "cell_type": "code",
   "execution_count": null,
   "id": "16c9f29c",
   "metadata": {},
   "outputs": [],
   "source": [
    "import os\n",
    "import pathlib\n",
    "def list_files(startpath):\n",
    "    for root, dirs, files in os.walk(startpath):\n",
    "        level = root.replace(startpath, '').count(os.sep)\n",
    "        indent = ' ' * 4 * (level)\n",
    "        print('{}{}/'.format(indent, os.path.basename(root)))\n",
    "        subindent = ' ' * 4 * (level + 1)\n",
    "        for f in files:\n",
    "            print('{}{}'.format(subindent, f))\n",
    "list_files(str(pathlib.Path.cwd()))"
   ]
  },
  {
   "cell_type": "code",
   "execution_count": null,
   "id": "34e6e01f",
   "metadata": {},
   "outputs": [],
   "source": [
    "list_files(str(pathlib.Path.cwd().parent))"
   ]
  },
  {
   "cell_type": "code",
   "execution_count": null,
   "id": "53b1a046",
   "metadata": {},
   "outputs": [],
   "source": [
    "list_files(str(pathlib.Path.cwd().parent.parent))"
   ]
  }
 ],
 "metadata": {
  "kernelspec": {
   "display_name": "Python 3",
   "language": "python",
   "name": "python3"
  },
  "language_info": {
   "codemirror_mode": {
    "name": "ipython",
    "version": 3
   },
   "file_extension": ".py",
   "mimetype": "text/x-python",
   "name": "python",
   "nbconvert_exporter": "python",
   "pygments_lexer": "ipython3",
   "version": "3.9.2"
  }
 },
 "nbformat": 4,
 "nbformat_minor": 5
}
